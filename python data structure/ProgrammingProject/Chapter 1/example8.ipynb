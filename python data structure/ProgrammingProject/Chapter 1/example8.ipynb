{
 "cells": [
  {
   "cell_type": "code",
   "execution_count": 3,
   "metadata": {},
   "outputs": [
    {
     "name": "stdout",
     "output_type": "stream",
     "text": [
      "1 2 3\n",
      "1 3 4 \n",
      "a a a\n",
      "\n"
     ]
    }
   ],
   "source": [
    "def writeFile(filename):\n",
    "    f = open(filename, 'w')\n",
    "    sentinel = ''\n",
    "    for line in iter(input, sentinel):\n",
    "        f.write(line+'\\n')\n",
    "    f.close()\n",
    "    pass\n",
    "\n",
    "writeFile('example8.txt')"
   ]
  },
  {
   "cell_type": "code",
   "execution_count": 3,
   "metadata": {},
   "outputs": [
    {
     "name": "stdout",
     "output_type": "stream",
     "text": [
      "num of lines in file:  3\n",
      "please input the num you want to output: 1\n",
      "1 2 3\n",
      "\n",
      "please input the num you want to output: 2\n",
      "1 3 4 \n",
      "\n",
      "please input the num you want to output: 3\n",
      "a a a\n",
      "\n",
      "please input the num you want to output: 0\n"
     ]
    }
   ],
   "source": [
    "def readFile(filename):\n",
    "    f = open(filename, 'r')\n",
    "    lines = f.readlines()\n",
    "    print(\"num of lines in file: \", len(lines))\n",
    "    while True:\n",
    "        n = int(input('please input the num you want to output: '))\n",
    "        if n == 0:\n",
    "            break\n",
    "        else:\n",
    "            print(lines[n - 1])\n",
    "            continue\n",
    "            \n",
    "    pass\n",
    "readFile('example8.txt')"
   ]
  },
  {
   "cell_type": "code",
   "execution_count": null,
   "metadata": {},
   "outputs": [],
   "source": [
    "\"\"\"标准答案\"\"\"\n",
    "\n",
    "import sys\n",
    "\n",
    "\n",
    "def file_write(filename):\n",
    "    f = open(filename, 'w')\n",
    "    print(\"Please enter lines which will save in file:\")\n",
    "    lines = sys.stdin.readlines()\n",
    "    for line in lines:\n",
    "        f.write(line)\n",
    "    return f\n",
    "\n",
    "\n",
    "def file_print(filename):\n",
    "    num = 1\n",
    "    f = open(filename, 'r')\n",
    "    lines = f.readlines()\n",
    "    while num:\n",
    "        line_num = int(input(\"Please enter a number in the range 1~{}:\".format(len(lines))))\n",
    "        if line_num != 0:\n",
    "            print(lines[line_num - 1])\n",
    "        else:\n",
    "            break\n",
    "    f.close()\n",
    "    return f\n",
    "\n",
    "\n",
    "def main():\n",
    "    filename = input(\"Please enter filename:\")\n",
    "    # file_write(filename)\n",
    "    file_print(filename)\n",
    "\n",
    "\n",
    "if __name__ == '__main__':\n",
    "    main()"
   ]
  }
 ],
 "metadata": {
  "kernelspec": {
   "display_name": "Python 3",
   "language": "python",
   "name": "python3"
  },
  "language_info": {
   "codemirror_mode": {
    "name": "ipython",
    "version": 3
   },
   "file_extension": ".py",
   "mimetype": "text/x-python",
   "name": "python",
   "nbconvert_exporter": "python",
   "pygments_lexer": "ipython3",
   "version": "3.6.5"
  },
  "toc": {
   "base_numbering": 1,
   "nav_menu": {},
   "number_sections": true,
   "sideBar": true,
   "skip_h1_title": false,
   "title_cell": "Table of Contents",
   "title_sidebar": "Contents",
   "toc_cell": false,
   "toc_position": {},
   "toc_section_display": true,
   "toc_window_display": false
  }
 },
 "nbformat": 4,
 "nbformat_minor": 2
}
