{
 "cells": [
  {
   "cell_type": "code",
   "execution_count": 14,
   "metadata": {},
   "outputs": [],
   "source": [
    "\"\"\" A Matrix class can be used to perform some of the operations found in linear\n",
    "algebra, such as matrix arithmetic. Develop a Matrix class that uses the built-in\n",
    "operators for arithmetic. The Matrix class should extend the Grid class.\"\"\"\n",
    "from Array import Array\n",
    "\n",
    "class Grid(object):\n",
    "    \"\"\"Represents a two-dimensional array.\"\"\"\n",
    "\n",
    "    def __init__(self, rows, columns, fillValue = None):\n",
    "        self._data = Array(rows)\n",
    "        for row in range(rows):\n",
    "            self._data[row] = Array(columns, fillValue)\n",
    "\n",
    "    def getHeight(self):\n",
    "        \"\"\"Returns the number of rows.\"\"\"\n",
    "        return len(self._data)\n",
    "\n",
    "    def getWidth(self):\n",
    "        \"Returns the number of columns.\"\"\"\n",
    "        return len(self._data[0])\n",
    "\n",
    "    def __getitem__(self, index):\n",
    "        \"\"\"Supports two-dimensional indexing with [][].\"\"\"\n",
    "        return self._data[index]\n",
    "\n",
    "    def __str__(self):\n",
    "        \"\"\"Returns a string representation of the grid.\"\"\"\n",
    "        result = \"\"\n",
    "        for row in range(self.getHeight()):\n",
    "            for col in range(self.getWidth()):\n",
    "                result += str(self._data[row][col]) + \" \"\n",
    "            result += \"\\n\"\n",
    "        return result\n",
    "    \n",
    "    def __add__(self, other):\n",
    "        if self.getHeight() != other.getHeight() or self.getWidth() != other.getWidth():\n",
    "            raise Exception('dimension does not match')\n",
    "        else:\n",
    "            temp = Grid(self.getHeight(), self.getWidth())\n",
    "            for row in range(self.getHeight()):\n",
    "                for col in range(self.getWidth()):\n",
    "                    temp[row][col] = self[row][col] + other[row][col]\n",
    "            return temp"
   ]
  },
  {
   "cell_type": "code",
   "execution_count": 17,
   "metadata": {},
   "outputs": [
    {
     "name": "stdout",
     "output_type": "stream",
     "text": [
      "1 1 1 1 1 1 1 1 1 1 \n",
      "1 1 1 1 1 1 1 1 1 1 \n",
      "1 1 1 1 1 1 1 1 1 1 \n",
      "1 1 1 1 1 1 1 1 1 1 \n",
      "1 1 1 1 1 1 1 1 1 1 \n",
      "1 1 1 1 1 1 1 1 1 1 \n",
      "1 1 1 1 1 1 1 1 1 1 \n",
      "1 1 1 1 1 1 1 1 1 1 \n",
      "1 1 1 1 1 1 1 1 1 1 \n",
      "1 1 1 1 1 1 1 1 1 1 \n",
      "\n"
     ]
    },
    {
     "data": {
      "text/plain": [
       "<__main__.Grid at 0x4d564a8>"
      ]
     },
     "execution_count": 17,
     "metadata": {},
     "output_type": "execute_result"
    }
   ],
   "source": [
    "a = Grid(10, 10, 1)\n",
    "print(a)\n",
    "\n",
    "b = Grid(10, 10, 1)\n",
    "a + b\n"
   ]
  },
  {
   "cell_type": "code",
   "execution_count": 18,
   "metadata": {},
   "outputs": [
    {
     "name": "stdout",
     "output_type": "stream",
     "text": [
      "2 2 2 2 2 2 2 2 2 2 \n",
      "2 2 2 2 2 2 2 2 2 2 \n",
      "2 2 2 2 2 2 2 2 2 2 \n",
      "2 2 2 2 2 2 2 2 2 2 \n",
      "2 2 2 2 2 2 2 2 2 2 \n",
      "2 2 2 2 2 2 2 2 2 2 \n",
      "2 2 2 2 2 2 2 2 2 2 \n",
      "2 2 2 2 2 2 2 2 2 2 \n",
      "2 2 2 2 2 2 2 2 2 2 \n",
      "2 2 2 2 2 2 2 2 2 2 \n",
      "\n"
     ]
    }
   ],
   "source": [
    "c = a + b\n",
    "print(c)"
   ]
  },
  {
   "cell_type": "code",
   "execution_count": null,
   "metadata": {},
   "outputs": [],
   "source": []
  }
 ],
 "metadata": {
  "kernelspec": {
   "display_name": "Python 3",
   "language": "python",
   "name": "python3"
  },
  "language_info": {
   "codemirror_mode": {
    "name": "ipython",
    "version": 3
   },
   "file_extension": ".py",
   "mimetype": "text/x-python",
   "name": "python",
   "nbconvert_exporter": "python",
   "pygments_lexer": "ipython3",
   "version": "3.6.5"
  },
  "latex_envs": {
   "LaTeX_envs_menu_present": true,
   "autoclose": false,
   "autocomplete": true,
   "bibliofile": "biblio.bib",
   "cite_by": "apalike",
   "current_citInitial": 1,
   "eqLabelWithNumbers": true,
   "eqNumInitial": 1,
   "hotkeys": {
    "equation": "Ctrl-E",
    "itemize": "Ctrl-I"
   },
   "labels_anchors": false,
   "latex_user_defs": false,
   "report_style_numbering": false,
   "user_envs_cfg": false
  },
  "toc": {
   "base_numbering": 1,
   "nav_menu": {},
   "number_sections": true,
   "sideBar": true,
   "skip_h1_title": false,
   "title_cell": "Table of Contents",
   "title_sidebar": "Contents",
   "toc_cell": false,
   "toc_position": {},
   "toc_section_display": true,
   "toc_window_display": false
  }
 },
 "nbformat": 4,
 "nbformat_minor": 2
}
