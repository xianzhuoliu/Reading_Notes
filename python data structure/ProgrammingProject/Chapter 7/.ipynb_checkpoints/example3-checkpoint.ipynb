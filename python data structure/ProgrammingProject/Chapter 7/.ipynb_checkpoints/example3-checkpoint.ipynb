{
 "cells": [
  {
   "cell_type": "code",
   "execution_count": 11,
   "metadata": {},
   "outputs": [
    {
     "name": "stdout",
     "output_type": "stream",
     "text": [
      "please input a postfix expression: 10 2 300 * + 20 /\n",
      "30\n"
     ]
    },
    {
     "data": {
      "text/plain": [
       "<__main__.PFEvaluatorView at 0x4931978>"
      ]
     },
     "execution_count": 11,
     "metadata": {},
     "output_type": "execute_result"
    }
   ],
   "source": [
    "import sys\n",
    "sys.path.append('..\\..\\ExamplePrograms\\Ch_7_Student_Files\\Case Study')\n",
    "\n",
    "from model import PFEvaluatorModel, PFEvaluator\n",
    "\n",
    "\"\"\"\n",
    "PFEvaluatorView()\n",
    "Creates and saves a reference to the model.\n",
    "run()\n",
    "While True:\n",
    "    Retrieve the expression string from the keyboard.\n",
    "    If the string is empty, return.\n",
    "    Send it to the model for formatting.\n",
    "    Send it to the model for evaluation.\n",
    "    Either print the value or catch exceptions raised by the evaluator,\n",
    "    ask the model for the associated details, and display error\n",
    "    messages.\n",
    "\"\"\"\n",
    "\n",
    "class PFEvaluatorView(object):\n",
    "    def __init__(self, expString):\n",
    "        self._expStr = expString\n",
    "#         print(self._expStr)\n",
    "        value = self.run()\n",
    "        print(value)\n",
    "        \n",
    "    def run(self):\n",
    "        while True:\n",
    "            if self._expStr is None:\n",
    "                return\n",
    "            normalizeStr = PFEvaluatorModel.format(self, self._expStr)\n",
    "            value = PFEvaluatorModel.evaluate(self, normalizeStr)\n",
    "            return value\n",
    "\n",
    "expString = input('please input a postfix expression: ')\n",
    "PFEvaluatorView(expString)"
   ]
  }
 ],
 "metadata": {
  "kernelspec": {
   "display_name": "Python 3",
   "language": "python",
   "name": "python3"
  },
  "language_info": {
   "codemirror_mode": {
    "name": "ipython",
    "version": 3
   },
   "file_extension": ".py",
   "mimetype": "text/x-python",
   "name": "python",
   "nbconvert_exporter": "python",
   "pygments_lexer": "ipython3",
   "version": "3.6.5"
  },
  "latex_envs": {
   "LaTeX_envs_menu_present": true,
   "autoclose": false,
   "autocomplete": true,
   "bibliofile": "biblio.bib",
   "cite_by": "apalike",
   "current_citInitial": 1,
   "eqLabelWithNumbers": true,
   "eqNumInitial": 1,
   "hotkeys": {
    "equation": "Ctrl-E",
    "itemize": "Ctrl-I"
   },
   "labels_anchors": false,
   "latex_user_defs": false,
   "report_style_numbering": false,
   "user_envs_cfg": false
  },
  "toc": {
   "base_numbering": 1,
   "nav_menu": {},
   "number_sections": true,
   "sideBar": true,
   "skip_h1_title": false,
   "title_cell": "Table of Contents",
   "title_sidebar": "Contents",
   "toc_cell": false,
   "toc_position": {},
   "toc_section_display": true,
   "toc_window_display": false
  }
 },
 "nbformat": 4,
 "nbformat_minor": 2
}
