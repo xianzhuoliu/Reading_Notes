{
 "cells": [
  {
   "cell_type": "markdown",
   "metadata": {
    "toc": true
   },
   "source": [
    "<h1>Table of Contents<span class=\"tocSkip\"></span></h1>\n",
    "<div class=\"toc\"><ul class=\"toc-item\"><li><span><a href=\"#评估算法的性能\" data-toc-modified-id=\"评估算法的性能-1\"><span class=\"toc-item-num\">1&nbsp;&nbsp;</span>评估算法的性能</a></span><ul class=\"toc-item\"><li><span><a href=\"#度量算法的运行时间\" data-toc-modified-id=\"度量算法的运行时间-1.1\"><span class=\"toc-item-num\">1.1&nbsp;&nbsp;</span>度量算法的运行时间</a></span></li><li><span><a href=\"#统计指令运行次数\" data-toc-modified-id=\"统计指令运行次数-1.2\"><span class=\"toc-item-num\">1.2&nbsp;&nbsp;</span>统计指令运行次数</a></span></li><li><span><a href=\"#度量算法所使用的内存\" data-toc-modified-id=\"度量算法所使用的内存-1.3\"><span class=\"toc-item-num\">1.3&nbsp;&nbsp;</span>度量算法所使用的内存</a></span></li></ul></li><li><span><a href=\"#复杂度分析\" data-toc-modified-id=\"复杂度分析-2\"><span class=\"toc-item-num\">2&nbsp;&nbsp;</span>复杂度分析</a></span><ul class=\"toc-item\"><li><span><a href=\"#复杂度的阶\" data-toc-modified-id=\"复杂度的阶-2.1\"><span class=\"toc-item-num\">2.1&nbsp;&nbsp;</span>复杂度的阶</a></span></li><li><span><a href=\"#大O表示法\" data-toc-modified-id=\"大O表示法-2.2\"><span class=\"toc-item-num\">2.2&nbsp;&nbsp;</span>大O表示法</a></span></li><li><span><a href=\"#常量比例的作用\" data-toc-modified-id=\"常量比例的作用-2.3\"><span class=\"toc-item-num\">2.3&nbsp;&nbsp;</span>常量比例的作用</a></span></li></ul></li><li><span><a href=\"#搜索算法\" data-toc-modified-id=\"搜索算法-3\"><span class=\"toc-item-num\">3&nbsp;&nbsp;</span>搜索算法</a></span><ul class=\"toc-item\"><li><span><a href=\"#搜索最小值\" data-toc-modified-id=\"搜索最小值-3.1\"><span class=\"toc-item-num\">3.1&nbsp;&nbsp;</span>搜索最小值</a></span></li><li><span><a href=\"#顺序搜索一个列表\" data-toc-modified-id=\"顺序搜索一个列表-3.2\"><span class=\"toc-item-num\">3.2&nbsp;&nbsp;</span>顺序搜索一个列表</a></span></li><li><span><a href=\"#最好情况、最坏情况和平均情况的性能\" data-toc-modified-id=\"最好情况、最坏情况和平均情况的性能-3.3\"><span class=\"toc-item-num\">3.3&nbsp;&nbsp;</span>最好情况、最坏情况和平均情况的性能</a></span></li><li><span><a href=\"#有序列表的二叉搜索\" data-toc-modified-id=\"有序列表的二叉搜索-3.4\"><span class=\"toc-item-num\">3.4&nbsp;&nbsp;</span>有序列表的二叉搜索</a></span></li><li><span><a href=\"#比较数据项\" data-toc-modified-id=\"比较数据项-3.5\"><span class=\"toc-item-num\">3.5&nbsp;&nbsp;</span>比较数据项</a></span></li></ul></li><li><span><a href=\"#基本排序算法\" data-toc-modified-id=\"基本排序算法-4\"><span class=\"toc-item-num\">4&nbsp;&nbsp;</span>基本排序算法</a></span><ul class=\"toc-item\"><li><span><a href=\"#选择排序\" data-toc-modified-id=\"选择排序-4.1\"><span class=\"toc-item-num\">4.1&nbsp;&nbsp;</span>选择排序</a></span></li><li><span><a href=\"#冒泡排序\" data-toc-modified-id=\"冒泡排序-4.2\"><span class=\"toc-item-num\">4.2&nbsp;&nbsp;</span>冒泡排序</a></span></li><li><span><a href=\"#插入排序\" data-toc-modified-id=\"插入排序-4.3\"><span class=\"toc-item-num\">4.3&nbsp;&nbsp;</span>插入排序</a></span></li><li><span><a href=\"#再谈最好情况、最坏情况和平均情况\" data-toc-modified-id=\"再谈最好情况、最坏情况和平均情况-4.4\"><span class=\"toc-item-num\">4.4&nbsp;&nbsp;</span>再谈最好情况、最坏情况和平均情况</a></span></li></ul></li><li><span><a href=\"#更快的排序\" data-toc-modified-id=\"更快的排序-5\"><span class=\"toc-item-num\">5&nbsp;&nbsp;</span>更快的排序</a></span><ul class=\"toc-item\"><li><span><a href=\"#快速排序简介\" data-toc-modified-id=\"快速排序简介-5.1\"><span class=\"toc-item-num\">5.1&nbsp;&nbsp;</span>快速排序简介</a></span></li><li><span><a href=\"#合并排序\" data-toc-modified-id=\"合并排序-5.2\"><span class=\"toc-item-num\">5.2&nbsp;&nbsp;</span>合并排序</a></span></li></ul></li><li><span><a href=\"#指数算法：递归式的Fibonacci\" data-toc-modified-id=\"指数算法：递归式的Fibonacci-6\"><span class=\"toc-item-num\">6&nbsp;&nbsp;</span>指数算法：递归式的Fibonacci</a></span></li><li><span><a href=\"#案例学习：算法探查器\" data-toc-modified-id=\"案例学习：算法探查器-7\"><span class=\"toc-item-num\">7&nbsp;&nbsp;</span>案例学习：算法探查器</a></span></li><li><span><a href=\"#Summary\" data-toc-modified-id=\"Summary-8\"><span class=\"toc-item-num\">8&nbsp;&nbsp;</span>Summary</a></span></li></ul></div>"
   ]
  },
  {
   "attachments": {
    "C3%201.png": {
     "image/png": "[encoded data removed]"
    }
   },
   "cell_type": "markdown",
   "metadata": {},
   "source": [
    "算法是计算机程序的一个基本构建模块，另一个构建模块是数据结构\n",
    "\n",
    "算法运行的过程会消耗两种资源：处理时间和空间或内存\n",
    "\n",
    "# 评估算法的性能\n",
    "介绍度量算法性能的几种方法\n",
    "## 度量算法的运行时间\n",
    "使用计算机的时钟来获取一个实际的运行时间，这个过程叫做基准评价benchmarking或探查profiling\n",
    "\n",
    "处理不同大小的数据集合所用的时间\n",
    "\n",
    "存在两个问题：\n",
    "1. 不同硬件平台处理舒服不同\n",
    "2. 对于很大的数据集来说，确定某些算法的运行时间是不切实际的\n",
    "\n",
    "## 统计指令运行次数\n",
    "统计对不同的问题规模所要执行的指令的数目。\n",
    "\n",
    "不管在什么平台上运行，这个统计数目不变\n",
    "\n",
    "存在的问题：对于某些算法来说，当问题规模非常大的时候，计算机还是无法运行得足够快。但是统计指令运行次数是正确的思路\n",
    "## 度量算法所使用的内存\n",
    "\n",
    "# 复杂度分析\n",
    "## 复杂度的阶\n",
    "算法的行性能是通过复杂度的阶（或级别）来区分的\n",
    "\n",
    "常数阶<对数阶<线性阶<平方阶<指数阶\n",
    "![C3%201.png](attachment:C3%201.png)\n",
    "## 大O表示法\n",
    "渐进分析：只考虑主项，忽略掉系数和线性项\n",
    "\n",
    "O表示在...阶，on the order of，是对算法工作量的复杂度的级别的一种表示。一个线性时间算法的阶是O(n)\n",
    "## 常量比例的作用\n",
    "项和系数常备忽略\n",
    "\n",
    "# 搜索算法\n",
    "## 搜索最小值"
   ]
  },
  {
   "cell_type": "code",
   "execution_count": 1,
   "metadata": {},
   "outputs": [],
   "source": [
    "def indexOfMin(lyst):\n",
    "    \"\"\"return the index of the min item\"\"\"\n",
    "    minIndex = 0\n",
    "    currentIndex = 1\n",
    "    while currentIndex < len(lyst):\n",
    "        if lyst[currentIndex] < lyst[minIndex]:\n",
    "            minIndex = currentIndex\n",
    "        currentIndex += 1\n",
    "    return minIndex"
   ]
  },
  {
   "cell_type": "markdown",
   "metadata": {},
   "source": [
    "循环进行了n-1次比较，算法复杂度为O(n)\n",
    "\n",
    "## 顺序搜索一个列表"
   ]
  },
  {
   "cell_type": "code",
   "execution_count": 2,
   "metadata": {},
   "outputs": [],
   "source": [
    "def sequentialSearch(target, lyst):\n",
    "    \"\"\"return the position of the target item if found, or -1 otherwise\"\"\"\n",
    "    position = 0\n",
    "    while position < len(lyst):\n",
    "        if target == lyst[position]:\n",
    "            return position\n",
    "        position += 1\n",
    "    return -1"
   ]
  },
  {
   "cell_type": "markdown",
   "metadata": {},
   "source": [
    "## 最好情况、最坏情况和平均情况的性能\n",
    "对顺序搜索来说：\n",
    "1. 最坏情况下目标在末尾，要经过n次迭代，因此复杂度O(n)\n",
    "2. 最好情况，算法只进行了1次迭代就找到了，O(1)\n",
    "3. 平均情况(n + n - 1 + n - 2 + ... + 1)/ n 即(n + 1)/2 次的迭代，复杂度为O(n)\n",
    "\n",
    "## 有序列表的二叉搜索\n",
    "当搜索有序的数据的时候，可以使用二叉搜索。\n",
    "\n",
    "首先假设列表中的项都是按照升序排列的，搜索算法直接找到列表的中间位置，并且将该位置的项与目标项进行比较，如果他们是一致的，算法返回该位置。否则，如果小于当前项，则算法搜索列表中间位置以前的部分。当找到目标，或者当前的开始位置比当前的结束位置要大的时候，停止搜索过程。\n",
    "\n",
    "二叉搜索的最坏情况的复杂度为 $O(log_2n)$"
   ]
  },
  {
   "cell_type": "code",
   "execution_count": 31,
   "metadata": {},
   "outputs": [
    {
     "name": "stdout",
     "output_type": "stream",
     "text": [
      "before iteration left: 0   right: 9   midpoint: 4\n",
      "target < list[midpoint], right = midpoint -1, and find in the left\n",
      "after iteration left: 0   right: 3   midpoint: 4 \n",
      "\n",
      "before iteration left: 0   right: 3   midpoint: 1\n",
      "target < list[midpoint], right = midpoint -1, and find in the left\n",
      "after iteration left: 0   right: 0   midpoint: 1 \n",
      "\n",
      "before iteration left: 0   right: 0   midpoint: 0\n",
      "target < list[midpoint], right = midpoint -1, and find in the left\n",
      "after iteration left: 0   right: -1   midpoint: 0 \n",
      "\n"
     ]
    },
    {
     "data": {
      "text/plain": [
       "-1"
      ]
     },
     "execution_count": 31,
     "metadata": {},
     "output_type": "execute_result"
    }
   ],
   "source": [
    "def binarySearch(target, sortedLyst):\n",
    "    left = 0\n",
    "    right = len(sortedLyst) - 1\n",
    "    while left <= right:\n",
    "        midpoint = (left + right) // 2\n",
    "        print('before iteration left:', left,' ','right:',right,' ','midpoint:', midpoint)\n",
    "        if target == sortedLyst[midpoint]:\n",
    "            print('I got it')\n",
    "            return midpoint\n",
    "        elif target < sortedLyst[midpoint]:\n",
    "            print('target < list[midpoint], right = midpoint -1, and find in the left')\n",
    "            right = midpoint - 1\n",
    "        else:\n",
    "            left = midpoint + 1\n",
    "        print('after iteration left:', left,' ','right:',right,' ','midpoint:', midpoint,'\\n')\n",
    "    return -1\n",
    "\n",
    "sortedLyst = [20, 44, 48, 55, 62, 66, 74, 88, 93, 99]\n",
    "binarySearch(10, sortedLyst)"
   ]
  },
  {
   "cell_type": "markdown",
   "metadata": {},
   "source": [
    "## 比较数据项\n",
    "为了允许算法对一个新对象的类使用比较算符==、<和>，程序员应该在该类中定义\\_\\_eq__, \\_\\_lt__和\\_\\_gt__方法"
   ]
  },
  {
   "cell_type": "code",
   "execution_count": 14,
   "metadata": {},
   "outputs": [
    {
     "data": {
      "text/plain": [
       "False"
      ]
     },
     "execution_count": 14,
     "metadata": {},
     "output_type": "execute_result"
    }
   ],
   "source": [
    "class SavingAccount(object):\n",
    "    def __init__(self, name):\n",
    "        self._name = name\n",
    "    def __lt__(self, other):\n",
    "        return self._name < other._name\n",
    "    def __eq__(self, other):\n",
    "        if self is other:\n",
    "            return True\n",
    "        elif type(self) != type(other):\n",
    "            return False\n",
    "        else:\n",
    "            return self._name == other._name\n",
    "    def __gt__(self, other):\n",
    "        return self._name > other._name\n",
    "        \n",
    "s1 = SavingAccount('Aon')\n",
    "s2 = SavingAccount('Bill')\n",
    "s1 == s2"
   ]
  },
  {
   "cell_type": "code",
   "execution_count": 16,
   "metadata": {},
   "outputs": [
    {
     "data": {
      "text/plain": [
       "False"
      ]
     },
     "execution_count": 16,
     "metadata": {},
     "output_type": "execute_result"
    }
   ],
   "source": [
    "s1 > s2"
   ]
  },
  {
   "cell_type": "code",
   "execution_count": 17,
   "metadata": {},
   "outputs": [
    {
     "data": {
      "text/plain": [
       "True"
      ]
     },
     "execution_count": 17,
     "metadata": {},
     "output_type": "execute_result"
    }
   ],
   "source": [
    "s1 < s2"
   ]
  },
  {
   "cell_type": "markdown",
   "metadata": {},
   "source": [
    "# 基本排序算法\n",
    "这一节先介绍几种简单的但是效率不高的排序算法"
   ]
  },
  {
   "cell_type": "code",
   "execution_count": 26,
   "metadata": {},
   "outputs": [],
   "source": [
    "def swap(lyst, i, j):\n",
    "    temp = lyst[i]\n",
    "    lyst[i] = lyst[j]\n",
    "    lyst[j] = temp"
   ]
  },
  {
   "cell_type": "markdown",
   "metadata": {},
   "source": [
    "## 选择排序\n",
    "向右移动，同时不断搜索最小项地位置，并往前放。当移动到倒数第二位的时候，就所有都排序完了\n",
    "\n",
    "对于大小为n的列表，外围的循环执行n-1次，第二次循环，内部的循环执行n-2次，总的比较次数为$ (n-1)+(n-2)+...+1 = n(n -1)/2$ 最好最坏和平均复杂度都为$O(n^2)$"
   ]
  },
  {
   "cell_type": "code",
   "execution_count": 35,
   "metadata": {},
   "outputs": [
    {
     "name": "stdout",
     "output_type": "stream",
     "text": [
      "the 0 round:  [1, 3, 5, 2, 4]\n",
      "the 1 round:  [1, 2, 5, 3, 4]\n",
      "the 2 round:  [1, 2, 3, 5, 4]\n",
      "the 3 round:  [1, 2, 3, 4, 5]\n",
      "[1, 2, 3, 4, 5]\n"
     ]
    }
   ],
   "source": [
    "def selectionSort(lyst):\n",
    "    i = 0\n",
    "    while i < len(lyst) - 1:\n",
    "        minIndex = i\n",
    "        j = i + 1\n",
    "        while j < len(lyst):\n",
    "            if lyst[j] < lyst[minIndex]:\n",
    "                minIndex = j\n",
    "            j += 1\n",
    "        if minIndex != i:\n",
    "            swap(lyst, minIndex, i)\n",
    "            print('the %s round: '% i, lyst)\n",
    "        i += 1\n",
    "\n",
    "lyst = [5, 3, 1, 2,4]\n",
    "lyst_sort = selectionSort(lyst)\n",
    "print(lyst)"
   ]
  },
  {
   "cell_type": "markdown",
   "metadata": {},
   "source": [
    "## 冒泡排序\n",
    "从列表的开头开始，逐一比较一对数据项，直到移动到列表的末尾，每当成对的两项之间的顺序不正确的时候，算法就交换其位置。\n",
    "\n",
    "冒泡排序也有一个嵌套的循环，冒泡排序的性能和选择排序很相似，对于大小为n的李彪，冒泡排序的复杂度是$ O(n^2) $"
   ]
  },
  {
   "cell_type": "code",
   "execution_count": 41,
   "metadata": {
    "scrolled": false
   },
   "outputs": [
    {
     "name": "stdout",
     "output_type": "stream",
     "text": [
      "i:  1   n: 5\n",
      "[4, 5, 2, 1, 3]\n",
      "i:  2   n: 5\n",
      "[4, 2, 5, 1, 3]\n",
      "i:  3   n: 5\n",
      "[4, 2, 1, 5, 3]\n",
      "i:  4   n: 5\n",
      "[4, 2, 1, 3, 5]\n",
      "i:  1   n: 4\n",
      "[2, 4, 1, 3, 5]\n",
      "i:  2   n: 4\n",
      "[2, 1, 4, 3, 5]\n",
      "i:  3   n: 4\n",
      "[2, 1, 3, 4, 5]\n",
      "i:  1   n: 3\n",
      "[1, 2, 3, 4, 5]\n",
      "i:  2   n: 3\n",
      "i:  1   n: 2\n"
     ]
    }
   ],
   "source": [
    "def bubbleSort(lyst):\n",
    "    n = len(lyst)\n",
    "    while n > 1:\n",
    "        i = 1\n",
    "        while i < n:\n",
    "            print('i: ',i,' ', 'n:', n)\n",
    "            if lyst[i] < lyst[i - 1]:\n",
    "                swap(lyst, i, i - 1)\n",
    "                print(lyst)\n",
    "            i += 1\n",
    "        n -= 1\n",
    "        \n",
    "lyst = [5, 4, 2, 1, 3]\n",
    "bubbleSort(lyst)"
   ]
  },
  {
   "cell_type": "markdown",
   "metadata": {},
   "source": [
    "## 插入排序\n",
    "- 在第i轮之后，前i个项应该是排好序的\n",
    "- 按顺序排了i-1张牌，抓取第i张牌，并且将其与手中的这些牌进行比较，找到其合适的位置\n",
    "- 对于这个循环中的每个位置i，我们都保存该项并且从位置i-1开始内部循环。对于内部循环的每一个位置j，如果大于i，我们就将其移动到j+1，直到找到了给保存的项（第i项）的插入位置\n",
    "\n",
    "外围循环执行了n-1次，内部循环在外围循环的第1个轮次迭代1次，第2个轮次迭代2次，依次类推。插入排序的最坏情况和平均情况的复杂度 $O(n^2)$"
   ]
  },
  {
   "cell_type": "code",
   "execution_count": 45,
   "metadata": {},
   "outputs": [
    {
     "data": {
      "text/plain": [
       "[1, 2, 3, 4, 5]"
      ]
     },
     "execution_count": 45,
     "metadata": {},
     "output_type": "execute_result"
    }
   ],
   "source": [
    "def insertionSort(lyst):\n",
    "    i = 1\n",
    "    while i < len(lyst):\n",
    "        itemToInsert = lyst[i]   # 暂放在itemToInsert\n",
    "        j = i - 1\n",
    "        while j >= 0:\n",
    "            if itemToInsert < lyst[j]:\n",
    "                lyst[j+1] = lyst[j]\n",
    "                j -= 1\n",
    "            else:\n",
    "                break\n",
    "        lyst[j+1] = itemToInsert\n",
    "        i += 1\n",
    "        \n",
    "lyst = [2, 5, 1, 4, 3]\n",
    "insertionSort(lyst)\n",
    "lyst"
   ]
  },
  {
   "cell_type": "markdown",
   "metadata": {},
   "source": [
    "## 再谈最好情况、最坏情况和平均情况\n",
    "1. 搜索最小项：必须访问列表中的每一个数，最好情况、最坏情况和平均情况的性能都是 $O(n)$\n",
    "2. 顺序搜索： 只要找到了目标项，算法就会停止并返回一个结果。在最好的情况下，算法性能是$O(1)$；在最坏的情况下，算法性能是$O(n)$；平均情况下，把在每个位置找到目标项所需要进行的比较次数相加，再除以n，算法性能是$O(n)$\n",
    "3. 冒泡排序：最好情况，所有都排序好了$O(n)$；最坏情况下$O(n^2)$，平均情况下的性能更接近最坏情况。"
   ]
  },
  {
   "cell_type": "markdown",
   "metadata": {},
   "source": [
    "# 更快的排序\n",
    "采用分而治之的策略，分解为更小子列表，随后子列表再递归排序。如果这些子列表复杂度为log(n),重新排列每一个子列表的数据所需的工作量为n，这样算法的总复杂度 $O(nlogn)$\n",
    "## 快速排序简介\n",
    "通过一趟排序将待排记录分割成独立的两部分，其中一部分记录的关键字均比另一部分小，则可分别对这两部分记录继续进行排序，以达到整个序列有序的目的。\n",
    "\n",
    "在最好情况下的性能为 $O(nlog_2n)$，在最坏情况下的性能为 $O(n^2)$"
   ]
  },
  {
   "cell_type": "code",
   "execution_count": 46,
   "metadata": {},
   "outputs": [
    {
     "name": "stdout",
     "output_type": "stream",
     "text": [
      "[3, 8, 16, 18, 7, 5, 16, 19, 6, 13, 5, 1, 19, 7, 4, 17, 19, 8, 9, 13]\n",
      "[1, 3, 4, 5, 5, 6, 7, 7, 8, 8, 9, 13, 13, 16, 16, 17, 18, 19, 19, 19]\n"
     ]
    }
   ],
   "source": [
    "def quicksort(lyst):\n",
    "    quicksortHelper(lyst, 0, len(lyst) - 1)\n",
    "def quicksortHelper(lyst, left, right):\n",
    "    if left < right:\n",
    "        pivotLocation = partition(lyst, left, right)\n",
    "        quicksortHelper(lyst, left, pivotLocation - 1)\n",
    "        quicksortHelper(lyst, pivotLocation + 1, right)\n",
    "def partition(lyst, left, right):\n",
    "    # find the pivot and exchange it with the last item\n",
    "    middle = (left + right) // 2\n",
    "    pivot = lyst[middle]\n",
    "    lyst[middle] = lyst[right]\n",
    "    lyst[right] = pivot\n",
    "    # set boundary point to the first position \n",
    "    boundary = left\n",
    "    # move items less than pivot to the left\n",
    "    for index in range(left, right):\n",
    "        if lyst[index] < pivot:\n",
    "            swap(lyst, index, boundary)\n",
    "            boundary += 1\n",
    "    # exchange the pivot item and the boundary item\n",
    "    swap (lyst, right, boundary)\n",
    "    return boundary\n",
    "\n",
    "import random\n",
    "lyst = []\n",
    "size = 20\n",
    "for count in range(size):\n",
    "    lyst.append(random.randint(1, size + 1))\n",
    "print(lyst)\n",
    "quicksort(lyst)\n",
    "print(lyst)"
   ]
  },
  {
   "cell_type": "markdown",
   "metadata": {},
   "source": [
    "## 合并排序\n",
    "1. 计算一个列表的中间位置，并且递归地排序其左边和右边的字列表\n",
    "2. 两个排好序的子列表重新合并为单个的排好序的列表\n",
    "3. 当子列表不再能够划分的时候，停止这个过程\n",
    "\n",
    "合并排序的运行时间由两条for语句主导，层级数是 $O(logn)$，每一个层的所有合并花费的时间是 $O(n)$，该函数最大运行时间是 $O(nlogn)$"
   ]
  },
  {
   "cell_type": "markdown",
   "metadata": {},
   "source": [
    "# 指数算法：递归式的Fibonacci\n",
    "\n",
    "# 案例学习：算法探查器 "
   ]
  },
  {
   "cell_type": "code",
   "execution_count": 47,
   "metadata": {},
   "outputs": [],
   "source": [
    "\"\"\"\n",
    "File: profiler.py\n",
    "\n",
    "Defines a class for profiling sort algorithms.\n",
    "A Profiler object tracks the list, the number of comparisons\n",
    "and exchanges, and the running time. The Profiler can also\n",
    "print a trace and can create a list of unique or duplicate\n",
    "numbers.\n",
    "\n",
    "Example use:\n",
    "\n",
    "from profiler import Profiler\n",
    "from algorithms import selectionSort\n",
    "\n",
    "p = Profiler()\n",
    "p.test(selectionSort, size = 15, comp = True,\n",
    "             exch = True, trace = True)\n",
    "\"\"\"\n",
    "\n",
    "import time\n",
    "import random\n",
    "\n",
    "class Profiler(object):\n",
    "\n",
    "    def test(self, function, lyst = None, size = 10,\n",
    "             unique = True, comp = True, exch = True,\n",
    "             trace = False):\n",
    "        \"\"\"\n",
    "        function: the algorithm being profiled\n",
    "        target: the search target if profiling a search\n",
    "        lyst: allows the caller to use her list\n",
    "        size: the size of the list, 10 by default\n",
    "        unique: if True, list contains unique integers\n",
    "        comp: if True, count comparisons\n",
    "        exch: if True, count exchanges\n",
    "        trace: if True, print the list after each exchange\n",
    "        \n",
    "        Run the function with the given attributes and print\n",
    "        its profile results.\n",
    "        \"\"\"\n",
    "        self._comp = comp\n",
    "        self._exch = exch\n",
    "        self._trace = trace\n",
    "        if lyst != None:\n",
    "            self._lyst = lyst\n",
    "        elif unique:\n",
    "            self._lyst = list(range(1, size + 1))\n",
    "            random.shuffle(self._lyst)\n",
    "        else:\n",
    "            self._lyst = []\n",
    "            for count in range(size):\n",
    "                self._lyst.append(random.randint(1, size))\n",
    "        self._exchCount = 0\n",
    "        self._cmpCount = 0\n",
    "        self._startClock()\n",
    "        function(self._lyst, self)\n",
    "        self._stopClock()\n",
    "        print(self)\n",
    "\n",
    "    def exchange(self):\n",
    "        \"\"\"Counts exchanges if on.\"\"\"\n",
    "        if self._exch:\n",
    "            self._exchCount += 1\n",
    "        if self._trace:\n",
    "            print(self._lyst)\n",
    "\n",
    "    def comparison(self):\n",
    "        \"\"\"Counts comparisons if on.\"\"\"\n",
    "        if self._comp:\n",
    "            self._cmpCount += 1\n",
    "\n",
    "    def _startClock(self):\n",
    "        \"\"\"Record the starting time.\"\"\"\n",
    "        self._start = time.time()\n",
    "\n",
    "    def _stopClock(self):\n",
    "        \"\"\"Stops the clock and computes the elapsed time\n",
    "        in seconds, to the nearest millisecond.\"\"\"\n",
    "        self._elapsedTime = round(time.time() - self._start, 3)\n",
    "\n",
    "    def __str__(self):\n",
    "        \"\"\"Returns the results as a string.\"\"\"\n",
    "        result = \"Problem size: \"\n",
    "        result += str(len(self._lyst)) + \"\\n\"\n",
    "        result += \"Elapsed time: \"\n",
    "        result += str(self._elapsedTime) + \"\\n\"\n",
    "        if self._comp:\n",
    "            result += \"Comparisons:  \" \n",
    "            result += str(self._cmpCount) + \"\\n\"\n",
    "        if self._exch:\n",
    "            result += \"Exchanges:    \" \n",
    "            result += str(self._exchCount) + \"\\n\"\n",
    "        return result"
   ]
  },
  {
   "cell_type": "markdown",
   "metadata": {},
   "source": [
    "# Summary\n",
    "- 解决相同问题的不同算法，可以根据它们所需时间和内存资源来考虑它们的性能\n",
    "- 复杂度分析查看算法的代码，预计在任何一台计算机上算法的表现\n",
    "- 大O表示法是算法运行时间的一种常用表达式。$O(f(n))$ n是算法问题的大小，f(n)表示解决该问题所需工作量的一个表达式\n",
    "- 通常，通过尝试减少算法复杂度的阶的做法，比通过调整代码来增加性能要更好\n",
    "- 二叉搜索一般比顺序搜索快，然而，二叉搜索的数据必须是排序好的\n",
    "- $O(nlog_2n)$排序算法通过分而治之递归的策略突破$n^2$的障碍。快速排序围绕着基准点来重新排列各项，并且递归地排序基准点两侧的子列表。合并排序分割一个列表，递归地对每一半列表进行排序，然后合并结果"
   ]
  }
 ],
 "metadata": {
  "kernelspec": {
   "display_name": "Python 3",
   "language": "python",
   "name": "python3"
  },
  "language_info": {
   "codemirror_mode": {
    "name": "ipython",
    "version": 3
   },
   "file_extension": ".py",
   "mimetype": "text/x-python",
   "name": "python",
   "nbconvert_exporter": "python",
   "pygments_lexer": "ipython3",
   "version": "3.6.5"
  },
  "latex_envs": {
   "LaTeX_envs_menu_present": true,
   "autoclose": false,
   "autocomplete": true,
   "bibliofile": "biblio.bib",
   "cite_by": "apalike",
   "current_citInitial": 1,
   "eqLabelWithNumbers": true,
   "eqNumInitial": 1,
   "hotkeys": {
    "equation": "Ctrl-E",
    "itemize": "Ctrl-I"
   },
   "labels_anchors": false,
   "latex_user_defs": false,
   "report_style_numbering": false,
   "user_envs_cfg": false
  },
  "toc": {
   "base_numbering": 1,
   "nav_menu": {},
   "number_sections": true,
   "sideBar": true,
   "skip_h1_title": false,
   "title_cell": "Table of Contents",
   "title_sidebar": "Contents",
   "toc_cell": true,
   "toc_position": {},
   "toc_section_display": true,
   "toc_window_display": false
  }
 },
 "nbformat": 4,
 "nbformat_minor": 2
}
