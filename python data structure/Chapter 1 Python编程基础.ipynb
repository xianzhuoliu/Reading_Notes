{
 "cells": [
  {
   "cell_type": "markdown",
   "metadata": {
    "toc": true
   },
   "source": [
    "<h1>Table of Contents<span class=\"tocSkip\"></span></h1>\n",
    "<div class=\"toc\"><ul class=\"toc-item\"><li><span><a href=\"#基本程序要素\" data-toc-modified-id=\"基本程序要素-1\"><span class=\"toc-item-num\">1&nbsp;&nbsp;</span>基本程序要素</a></span><ul class=\"toc-item\"><li><span><a href=\"#程序和模块\" data-toc-modified-id=\"程序和模块-1.1\"><span class=\"toc-item-num\">1.1&nbsp;&nbsp;</span>程序和模块</a></span></li><li><span><a href=\"#猜数字\" data-toc-modified-id=\"猜数字-1.2\"><span class=\"toc-item-num\">1.2&nbsp;&nbsp;</span>猜数字</a></span></li><li><span><a href=\"#编译、运行\" data-toc-modified-id=\"编译、运行-1.3\"><span class=\"toc-item-num\">1.3&nbsp;&nbsp;</span>编译、运行</a></span></li><li><span><a href=\"#程序注释\" data-toc-modified-id=\"程序注释-1.4\"><span class=\"toc-item-num\">1.4&nbsp;&nbsp;</span>程序注释</a></span></li><li><span><a href=\"#词法元素\" data-toc-modified-id=\"词法元素-1.5\"><span class=\"toc-item-num\">1.5&nbsp;&nbsp;</span>词法元素</a></span></li><li><span><a href=\"#拼写和命名惯例\" data-toc-modified-id=\"拼写和命名惯例-1.6\"><span class=\"toc-item-num\">1.6&nbsp;&nbsp;</span>拼写和命名惯例</a></span></li><li><span><a href=\"#语法元素\" data-toc-modified-id=\"语法元素-1.7\"><span class=\"toc-item-num\">1.7&nbsp;&nbsp;</span>语法元素</a></span></li><li><span><a href=\"#字面值\" data-toc-modified-id=\"字面值-1.8\"><span class=\"toc-item-num\">1.8&nbsp;&nbsp;</span>字面值</a></span></li><li><span><a href=\"#字符串字面值\" data-toc-modified-id=\"字符串字面值-1.9\"><span class=\"toc-item-num\">1.9&nbsp;&nbsp;</span>字符串字面值</a></span></li><li><span><a href=\"#运算符和表达式\" data-toc-modified-id=\"运算符和表达式-1.10\"><span class=\"toc-item-num\">1.10&nbsp;&nbsp;</span>运算符和表达式</a></span></li><li><span><a href=\"#函数调用\" data-toc-modified-id=\"函数调用-1.11\"><span class=\"toc-item-num\">1.11&nbsp;&nbsp;</span>函数调用</a></span></li><li><span><a href=\"#print函数\" data-toc-modified-id=\"print函数-1.12\"><span class=\"toc-item-num\">1.12&nbsp;&nbsp;</span>print函数</a></span></li><li><span><a href=\"#input函数\" data-toc-modified-id=\"input函数-1.13\"><span class=\"toc-item-num\">1.13&nbsp;&nbsp;</span>input函数</a></span></li><li><span><a href=\"#类型转换和混合模式运算\" data-toc-modified-id=\"类型转换和混合模式运算-1.14\"><span class=\"toc-item-num\">1.14&nbsp;&nbsp;</span>类型转换和混合模式运算</a></span></li><li><span><a href=\"#可选的和关键字函数参数\" data-toc-modified-id=\"可选的和关键字函数参数-1.15\"><span class=\"toc-item-num\">1.15&nbsp;&nbsp;</span>可选的和关键字函数参数</a></span></li><li><span><a href=\"#变量和赋值语句\" data-toc-modified-id=\"变量和赋值语句-1.16\"><span class=\"toc-item-num\">1.16&nbsp;&nbsp;</span>变量和赋值语句</a></span></li><li><span><a href=\"#python数据类型\" data-toc-modified-id=\"python数据类型-1.17\"><span class=\"toc-item-num\">1.17&nbsp;&nbsp;</span>python数据类型</a></span></li><li><span><a href=\"#import语句\" data-toc-modified-id=\"import语句-1.18\"><span class=\"toc-item-num\">1.18&nbsp;&nbsp;</span>import语句</a></span></li><li><span><a href=\"#获取关于程序组件的帮助\" data-toc-modified-id=\"获取关于程序组件的帮助-1.19\"><span class=\"toc-item-num\">1.19&nbsp;&nbsp;</span>获取关于程序组件的帮助</a></span></li></ul></li><li><span><a href=\"#控制语句\" data-toc-modified-id=\"控制语句-2\"><span class=\"toc-item-num\">2&nbsp;&nbsp;</span>控制语句</a></span><ul class=\"toc-item\"><li><span><a href=\"#条件语句\" data-toc-modified-id=\"条件语句-2.1\"><span class=\"toc-item-num\">2.1&nbsp;&nbsp;</span>条件语句</a></span></li><li><span><a href=\"#使用if-__name__==&quot;__main__&quot;\" data-toc-modified-id=\"使用if-__name__==&quot;__main__&quot;-2.2\"><span class=\"toc-item-num\">2.2&nbsp;&nbsp;</span>使用<code>if __name__==\"__main__\"</code></a></span></li><li><span><a href=\"#循环语句\" data-toc-modified-id=\"循环语句-2.3\"><span class=\"toc-item-num\">2.3&nbsp;&nbsp;</span>循环语句</a></span></li></ul></li><li><span><a href=\"#字符串及其运算\" data-toc-modified-id=\"字符串及其运算-3\"><span class=\"toc-item-num\">3&nbsp;&nbsp;</span>字符串及其运算</a></span><ul class=\"toc-item\"><li><span><a href=\"#运算符\" data-toc-modified-id=\"运算符-3.1\"><span class=\"toc-item-num\">3.1&nbsp;&nbsp;</span>运算符</a></span></li><li><span><a href=\"#格式化字符串以便输出\" data-toc-modified-id=\"格式化字符串以便输出-3.2\"><span class=\"toc-item-num\">3.2&nbsp;&nbsp;</span>格式化字符串以便输出</a></span></li><li><span><a href=\"#对象和方法调用\" data-toc-modified-id=\"对象和方法调用-3.3\"><span class=\"toc-item-num\">3.3&nbsp;&nbsp;</span>对象和方法调用</a></span></li></ul></li><li><span><a href=\"#内建python集合及其操作\" data-toc-modified-id=\"内建python集合及其操作-4\"><span class=\"toc-item-num\">4&nbsp;&nbsp;</span>内建python集合及其操作</a></span><ul class=\"toc-item\"><li><span><a href=\"#列表\" data-toc-modified-id=\"列表-4.1\"><span class=\"toc-item-num\">4.1&nbsp;&nbsp;</span>列表</a></span></li><li><span><a href=\"#元组(tuple)\" data-toc-modified-id=\"元组(tuple)-4.2\"><span class=\"toc-item-num\">4.2&nbsp;&nbsp;</span>元组(tuple)</a></span></li><li><span><a href=\"#遍历序列\" data-toc-modified-id=\"遍历序列-4.3\"><span class=\"toc-item-num\">4.3&nbsp;&nbsp;</span>遍历序列</a></span></li><li><span><a href=\"#字典(dict)\" data-toc-modified-id=\"字典(dict)-4.4\"><span class=\"toc-item-num\">4.4&nbsp;&nbsp;</span>字典(dict)</a></span></li><li><span><a href=\"#搜索一个值\" data-toc-modified-id=\"搜索一个值-4.5\"><span class=\"toc-item-num\">4.5&nbsp;&nbsp;</span>搜索一个值</a></span></li><li><span><a href=\"#模式匹配\" data-toc-modified-id=\"模式匹配-4.6\"><span class=\"toc-item-num\">4.6&nbsp;&nbsp;</span>模式匹配</a></span></li></ul></li><li><span><a href=\"#编写新函数\" data-toc-modified-id=\"编写新函数-5\"><span class=\"toc-item-num\">5&nbsp;&nbsp;</span>编写新函数</a></span><ul class=\"toc-item\"><li><span><a href=\"#函数定义\" data-toc-modified-id=\"函数定义-5.1\"><span class=\"toc-item-num\">5.1&nbsp;&nbsp;</span>函数定义</a></span></li><li><span><a href=\"#递归函数\" data-toc-modified-id=\"递归函数-5.2\"><span class=\"toc-item-num\">5.2&nbsp;&nbsp;</span>递归函数</a></span></li><li><span><a href=\"#嵌套函数\" data-toc-modified-id=\"嵌套函数-5.3\"><span class=\"toc-item-num\">5.3&nbsp;&nbsp;</span>嵌套函数</a></span></li><li><span><a href=\"#高阶函数\" data-toc-modified-id=\"高阶函数-5.4\"><span class=\"toc-item-num\">5.4&nbsp;&nbsp;</span>高阶函数</a></span></li><li><span><a href=\"#使用lambda表达式创建匿名函数\" data-toc-modified-id=\"使用lambda表达式创建匿名函数-5.5\"><span class=\"toc-item-num\">5.5&nbsp;&nbsp;</span>使用lambda表达式创建匿名函数</a></span></li></ul></li><li><span><a href=\"#捕获异常\" data-toc-modified-id=\"捕获异常-6\"><span class=\"toc-item-num\">6&nbsp;&nbsp;</span>捕获异常</a></span></li><li><span><a href=\"#文件及其操作\" data-toc-modified-id=\"文件及其操作-7\"><span class=\"toc-item-num\">7&nbsp;&nbsp;</span>文件及其操作</a></span><ul class=\"toc-item\"><li><span><a href=\"#文本文件的输出\" data-toc-modified-id=\"文本文件的输出-7.1\"><span class=\"toc-item-num\">7.1&nbsp;&nbsp;</span>文本文件的输出</a></span></li><li><span><a href=\"#将数字写入到一个文本文件\" data-toc-modified-id=\"将数字写入到一个文本文件-7.2\"><span class=\"toc-item-num\">7.2&nbsp;&nbsp;</span>将数字写入到一个文本文件</a></span></li><li><span><a href=\"#从文本文件读取文本\" data-toc-modified-id=\"从文本文件读取文本-7.3\"><span class=\"toc-item-num\">7.3&nbsp;&nbsp;</span>从文本文件读取文本</a></span></li><li><span><a href=\"#从文件读取数字\" data-toc-modified-id=\"从文件读取数字-7.4\"><span class=\"toc-item-num\">7.4&nbsp;&nbsp;</span>从文件读取数字</a></span></li><li><span><a href=\"#使用pickle读写对象\" data-toc-modified-id=\"使用pickle读写对象-7.5\"><span class=\"toc-item-num\">7.5&nbsp;&nbsp;</span>使用pickle读写对象</a></span></li></ul></li><li><span><a href=\"#创建新对象（《从零开始学python》）\" data-toc-modified-id=\"创建新对象（《从零开始学python》）-8\"><span class=\"toc-item-num\">8&nbsp;&nbsp;</span>创建新对象（《从零开始学python》）</a></span><ul class=\"toc-item\"><li><span><a href=\"#理解面向对象\" data-toc-modified-id=\"理解面向对象-8.1\"><span class=\"toc-item-num\">8.1&nbsp;&nbsp;</span>理解面向对象</a></span><ul class=\"toc-item\"><li><span><a href=\"#面向对象编程\" data-toc-modified-id=\"面向对象编程-8.1.1\"><span class=\"toc-item-num\">8.1.1&nbsp;&nbsp;</span>面向对象编程</a></span></li><li><span><a href=\"#面向对象术语简介\" data-toc-modified-id=\"面向对象术语简介-8.1.2\"><span class=\"toc-item-num\">8.1.2&nbsp;&nbsp;</span>面向对象术语简介</a></span></li></ul></li><li><span><a href=\"#类的定义和使用\" data-toc-modified-id=\"类的定义和使用-8.2\"><span class=\"toc-item-num\">8.2&nbsp;&nbsp;</span>类的定义和使用</a></span><ul class=\"toc-item\"><li><span><a href=\"#类的定义\" data-toc-modified-id=\"类的定义-8.2.1\"><span class=\"toc-item-num\">8.2.1&nbsp;&nbsp;</span>类的定义</a></span></li><li><span><a href=\"#类的使用\" data-toc-modified-id=\"类的使用-8.2.2\"><span class=\"toc-item-num\">8.2.2&nbsp;&nbsp;</span>类的使用</a></span></li></ul></li><li><span><a href=\"#深入类\" data-toc-modified-id=\"深入类-8.3\"><span class=\"toc-item-num\">8.3&nbsp;&nbsp;</span>深入类</a></span><ul class=\"toc-item\"><li><span><a href=\"#类的构造方法\" data-toc-modified-id=\"类的构造方法-8.3.1\"><span class=\"toc-item-num\">8.3.1&nbsp;&nbsp;</span>类的构造方法</a></span></li><li><span><a href=\"#类的访问权限\" data-toc-modified-id=\"类的访问权限-8.3.2\"><span class=\"toc-item-num\">8.3.2&nbsp;&nbsp;</span>类的访问权限</a></span></li></ul></li><li><span><a href=\"#继承\" data-toc-modified-id=\"继承-8.4\"><span class=\"toc-item-num\">8.4&nbsp;&nbsp;</span>继承</a></span></li><li><span><a href=\"#多态\" data-toc-modified-id=\"多态-8.5\"><span class=\"toc-item-num\">8.5&nbsp;&nbsp;</span>多态</a></span></li><li><span><a href=\"#封装\" data-toc-modified-id=\"封装-8.6\"><span class=\"toc-item-num\">8.6&nbsp;&nbsp;</span>封装</a></span></li><li><span><a href=\"#多重继承\" data-toc-modified-id=\"多重继承-8.7\"><span class=\"toc-item-num\">8.7&nbsp;&nbsp;</span>多重继承</a></span></li><li><span><a href=\"#获取对象信息\" data-toc-modified-id=\"获取对象信息-8.8\"><span class=\"toc-item-num\">8.8&nbsp;&nbsp;</span>获取对象信息</a></span><ul class=\"toc-item\"><li><span><a href=\"#type()\" data-toc-modified-id=\"type()-8.8.1\"><span class=\"toc-item-num\">8.8.1&nbsp;&nbsp;</span>type()</a></span></li><li><span><a href=\"#isinstance()\" data-toc-modified-id=\"isinstance()-8.8.2\"><span class=\"toc-item-num\">8.8.2&nbsp;&nbsp;</span>isinstance()</a></span></li><li><span><a href=\"#dir()\" data-toc-modified-id=\"dir()-8.8.3\"><span class=\"toc-item-num\">8.8.3&nbsp;&nbsp;</span>dir()</a></span></li></ul></li><li><span><a href=\"#类的专有方法\" data-toc-modified-id=\"类的专有方法-8.9\"><span class=\"toc-item-num\">8.9&nbsp;&nbsp;</span>类的专有方法</a></span><ul class=\"toc-item\"><li><span><a href=\"#str\" data-toc-modified-id=\"str-8.9.1\"><span class=\"toc-item-num\">8.9.1&nbsp;&nbsp;</span><strong>str</strong></a></span></li><li><span><a href=\"#iter\" data-toc-modified-id=\"iter-8.9.2\"><span class=\"toc-item-num\">8.9.2&nbsp;&nbsp;</span><strong>iter</strong></a></span></li><li><span><a href=\"#getitem\" data-toc-modified-id=\"getitem-8.9.3\"><span class=\"toc-item-num\">8.9.3&nbsp;&nbsp;</span><strong>getitem</strong></a></span></li><li><span><a href=\"#getattr\" data-toc-modified-id=\"getattr-8.9.4\"><span class=\"toc-item-num\">8.9.4&nbsp;&nbsp;</span><strong>getattr</strong></a></span></li><li><span><a href=\"#call\" data-toc-modified-id=\"call-8.9.5\"><span class=\"toc-item-num\">8.9.5&nbsp;&nbsp;</span><strong>call</strong></a></span></li></ul></li><li><span><a href=\"#综合\" data-toc-modified-id=\"综合-8.10\"><span class=\"toc-item-num\">8.10&nbsp;&nbsp;</span>综合</a></span></li><li><span><a href=\"#调试\" data-toc-modified-id=\"调试-8.11\"><span class=\"toc-item-num\">8.11&nbsp;&nbsp;</span>调试</a></span></li></ul></li></ul></div>"
   ]
  },
  {
   "cell_type": "markdown",
   "metadata": {},
   "source": [
    "#  基本程序要素\n",
    "## 程序和模块\n",
    "Python程序包含一个或多个模块（module）,主模块包含了程序执行的起点，支持模块包含了函数和类的定义。\n",
    "##  猜数字\n",
    "##  编译、运行\n",
    "IDLE包含编辑器窗口和shell窗口\n",
    "\n",
    "每个模块（除了主模块）编译后的代码会被保存到一个二进制文件中.pyc\n",
    "\n",
    "如果一个python程序挂了，可以按Ctrl+C或关闭shell\n",
    "\n",
    "## 程序注释"
   ]
  },
  {
   "cell_type": "code",
   "execution_count": 3,
   "metadata": {},
   "outputs": [
    {
     "data": {
      "text/plain": [
       "'\\n多行注释\\n'"
      ]
     },
     "execution_count": 3,
     "metadata": {},
     "output_type": "execute_result"
    }
   ],
   "source": [
    "# this is an end-of-line comment\n",
    "\n",
    "\"\"\"\n",
    "多行注释\n",
    "\"\"\""
   ]
  },
  {
   "cell_type": "markdown",
   "metadata": {},
   "source": [
    "## 词法元素\n",
    "## 拼写和命名惯例\n",
    "|名称类型|示例|\n",
    "|:--------|----|\n",
    "|变量|salary, isAbsent|\n",
    "|常量|ABSOLUTE_ZERO, INTEREST_RATE|\n",
    "|函数或方法|printResutes, isEmpty|\n",
    "|类|BankAccount, SortedSet|\n",
    "\n",
    "- 模块、变量、函数、方法：小写，嵌入名称大写\n",
    "- 类名：首字母大写\n",
    "- 常量：都大写，嵌入的名称下划线隔开"
   ]
  },
  {
   "cell_type": "markdown",
   "metadata": {},
   "source": [
    "## 语法元素\n",
    "## 字面值\n",
    "## 字符串字面值\n",
    "单引号、双引号，三个单引号或双引号（方便多行）都可以\n",
    "\n",
    "转义符\\  **转义符向左倒，地址也是向左倒**"
   ]
  },
  {
   "cell_type": "code",
   "execution_count": 4,
   "metadata": {},
   "outputs": [
    {
     "name": "stdout",
     "output_type": "stream",
     "text": [
      "Using double quotes\n",
      "Using single quotes\n",
      "Embeding a\n",
      "line break with \\n\n",
      "embeding a\n",
      "line break with\n"
     ]
    }
   ],
   "source": [
    "print(\"Using double quotes\")\n",
    "print('Using single quotes')\n",
    "print(\"Embeding a\\nline break with \\\\n\")\n",
    "print(\"\"\"embeding a\n",
    "line break with\"\"\")"
   ]
  },
  {
   "cell_type": "markdown",
   "metadata": {},
   "source": [
    "## 运算符和表达式\n",
    "## 函数调用\n",
    "## print函数\n",
    "## input函数\n",
    "返回数字组成一个字符串，需要转为int或float才能进行数字处理"
   ]
  },
  {
   "cell_type": "code",
   "execution_count": 5,
   "metadata": {},
   "outputs": [
    {
     "name": "stdout",
     "output_type": "stream",
     "text": [
      "enter the smaller number:20\n"
     ]
    },
    {
     "data": {
      "text/plain": [
       "20"
      ]
     },
     "execution_count": 5,
     "metadata": {},
     "output_type": "execute_result"
    }
   ],
   "source": [
    "int(input(\"enter the smaller number:\"))"
   ]
  },
  {
   "cell_type": "markdown",
   "metadata": {},
   "source": [
    "## 类型转换和混合模式运算\n",
    "数据类型的名称可以作为类型转换函数，同上\n",
    "## 可选的和关键字函数参数\n",
    "函数的参数：必须参数和可选参数\n",
    "## 变量和赋值语句"
   ]
  },
  {
   "cell_type": "markdown",
   "metadata": {},
   "source": [
    "a, b = b, a #交换变量\n",
    "product = max(100, 200) \\\n",
    "*30     #换行"
   ]
  },
  {
   "cell_type": "markdown",
   "metadata": {},
   "source": [
    "## python数据类型\n",
    "## import语句\n",
    "1. import math\n",
    "```\n",
    "math.\\<name>\n",
    "```\n",
    "2. from math import sqrt\n",
    "```\n",
    "sqrt(2)\n",
    "```\n",
    "3. from math import * \n",
    "```\n",
    "sqrt(2)\n",
    "```\n",
    "\n",
    "## 获取关于程序组件的帮助\n",
    "help(模块、数据类型、函数或方法)\n"
   ]
  },
  {
   "cell_type": "code",
   "execution_count": 12,
   "metadata": {},
   "outputs": [
    {
     "name": "stdout",
     "output_type": "stream",
     "text": [
      "Help on module numberguess:\n",
      "\n",
      "NAME\n",
      "    numberguess\n",
      "\n",
      "DESCRIPTION\n",
      "    Author: Ken Lambert\n",
      "    Plays a game of guess the number with the user.\n",
      "\n",
      "FUNCTIONS\n",
      "    main()\n",
      "        Inputs the bounds of the range of numbers,\n",
      "        and lets the user guess the computer's number until\n",
      "        the guess is correct.\n",
      "\n",
      "FILE\n",
      "    e:\\anaconda\\envs\\tensorflow\\scripts\\fundamentals_of_python_data_structures\\exampleprograms\\ch_1_student_files\\numberguess.py\n",
      "\n",
      "\n"
     ]
    }
   ],
   "source": [
    "import sys\n",
    "sys.path.append(\"./ExamplePrograms/Ch_1_Student_Files\")\n",
    "import numberguess\n",
    "help(numberguess)"
   ]
  },
  {
   "cell_type": "markdown",
   "metadata": {},
   "source": [
    "# 控制语句\n",
    "## 条件语句\n",
    "```\n",
    "if <Boolen expression>:\n",
    "    <sequence of statements>\n",
    "\n",
    "if <>:\n",
    "else:\n",
    "\n",
    "if <>：\n",
    "elif <>:\n",
    "else:\n",
    "```\n",
    "## 使用`if __name__==\"__main__\"`\n",
    "The purpose of this if statement is to allow the programmer either to **run the module as a standalone program** or to **import it from the shell or another module**\n",
    "```\n",
    "if __name__==\"__main__\":\n",
    "    main()\n",
    "```\n",
    "## 循环语句\n",
    "```\n",
    "while <boolean expression>:\n",
    "    <statements>\n",
    "\n",
    "product = product * value\n",
    "product *= value\n",
    "\n",
    "for <variable> in <iterable object>:\n",
    "    <sequence of statement>\n",
    "```\n",
    "\n",
    "# 字符串及其运算\n",
    "## 运算符"
   ]
  },
  {
   "cell_type": "code",
   "execution_count": 16,
   "metadata": {},
   "outputs": [
    {
     "data": {
      "text/plain": [
       "'g'"
      ]
     },
     "execution_count": 16,
     "metadata": {},
     "output_type": "execute_result"
    }
   ],
   "source": [
    "\"greater\"[0]"
   ]
  },
  {
   "cell_type": "code",
   "execution_count": 18,
   "metadata": {},
   "outputs": [
    {
     "data": {
      "text/plain": [
       "'eater'"
      ]
     },
     "execution_count": 18,
     "metadata": {},
     "output_type": "execute_result"
    }
   ],
   "source": [
    "\"greater\"[2:]"
   ]
  },
  {
   "cell_type": "markdown",
   "metadata": {},
   "source": [
    "## 格式化字符串以便输出\n",
    "```\n",
    "<format string> % <datum>\n",
    "```\n",
    "格式化字符串`%<field width>s` + 格式化运算符% + 要格式化的单个数据值"
   ]
  },
  {
   "cell_type": "code",
   "execution_count": 21,
   "metadata": {},
   "outputs": [
    {
     "data": {
      "text/plain": [
       "'  four'"
      ]
     },
     "execution_count": 21,
     "metadata": {},
     "output_type": "execute_result"
    }
   ],
   "source": [
    "\"%6s\"%\"four\"   #右对齐"
   ]
  },
  {
   "cell_type": "code",
   "execution_count": 22,
   "metadata": {},
   "outputs": [
    {
     "data": {
      "text/plain": [
       "'four  '"
      ]
     },
     "execution_count": 22,
     "metadata": {},
     "output_type": "execute_result"
    }
   ],
   "source": [
    "\"%-6s\"%\"four\"  #左对齐"
   ]
  },
  {
   "cell_type": "markdown",
   "metadata": {},
   "source": [
    "要格式化整数s变为d"
   ]
  },
  {
   "cell_type": "code",
   "execution_count": 24,
   "metadata": {},
   "outputs": [
    {
     "name": "stdout",
     "output_type": "stream",
     "text": [
      "7       10000000\n",
      "8      100000000\n",
      "9     1000000000\n",
      "10   10000000000\n"
     ]
    }
   ],
   "source": [
    "for exponent in range(7,11):\n",
    "    print(\"%-4d%12d\"%(exponent, 10**exponent))"
   ]
  },
  {
   "cell_type": "markdown",
   "metadata": {},
   "source": [
    "要格式化浮点数据"
   ]
  },
  {
   "cell_type": "code",
   "execution_count": 27,
   "metadata": {},
   "outputs": [
    {
     "name": "stdout",
     "output_type": "stream",
     "text": [
      "your salary is $ 100.0\n",
      "your salary is $100.0\n",
      "your salary is $100.000\n"
     ]
    }
   ],
   "source": [
    "salary = 100.0\n",
    "print(\"your salary is $\" ,salary)\n",
    "print(\"your salary is $\" + str(salary))\n",
    "print(\"your salary is $%0.3f\" % salary)"
   ]
  },
  {
   "cell_type": "code",
   "execution_count": 28,
   "metadata": {},
   "outputs": [
    {
     "data": {
      "text/plain": [
       "'  3.140'"
      ]
     },
     "execution_count": 28,
     "metadata": {},
     "output_type": "execute_result"
    }
   ],
   "source": [
    "\"%7.3f\"%3.14"
   ]
  },
  {
   "cell_type": "markdown",
   "metadata": {},
   "source": [
    "## 对象和方法调用\n",
    "```\n",
    "<object>.<method name>\n",
    "```"
   ]
  },
  {
   "cell_type": "code",
   "execution_count": 32,
   "metadata": {},
   "outputs": [
    {
     "data": {
      "text/plain": [
       "'GREATER'"
      ]
     },
     "execution_count": 32,
     "metadata": {},
     "output_type": "execute_result"
    }
   ],
   "source": [
    "\"greater\".upper()"
   ]
  },
  {
   "cell_type": "code",
   "execution_count": 33,
   "metadata": {},
   "outputs": [
    {
     "data": {
      "text/plain": [
       "True"
      ]
     },
     "execution_count": 33,
     "metadata": {},
     "output_type": "execute_result"
    }
   ],
   "source": [
    "\"greaterornot\".startswith('great')"
   ]
  },
  {
   "cell_type": "code",
   "execution_count": 35,
   "metadata": {
    "scrolled": true
   },
   "outputs": [
    {
     "data": {
      "text/plain": [
       "['__add__',\n",
       " '__class__',\n",
       " '__contains__',\n",
       " '__delattr__',\n",
       " '__dir__',\n",
       " '__doc__',\n",
       " '__eq__',\n",
       " '__format__',\n",
       " '__ge__',\n",
       " '__getattribute__',\n",
       " '__getitem__',\n",
       " '__getnewargs__',\n",
       " '__gt__',\n",
       " '__hash__',\n",
       " '__init__',\n",
       " '__init_subclass__',\n",
       " '__iter__',\n",
       " '__le__',\n",
       " '__len__',\n",
       " '__lt__',\n",
       " '__mod__',\n",
       " '__mul__',\n",
       " '__ne__',\n",
       " '__new__',\n",
       " '__reduce__',\n",
       " '__reduce_ex__',\n",
       " '__repr__',\n",
       " '__rmod__',\n",
       " '__rmul__',\n",
       " '__setattr__',\n",
       " '__sizeof__',\n",
       " '__str__',\n",
       " '__subclasshook__',\n",
       " 'capitalize',\n",
       " 'casefold',\n",
       " 'center',\n",
       " 'count',\n",
       " 'encode',\n",
       " 'endswith',\n",
       " 'expandtabs',\n",
       " 'find',\n",
       " 'format',\n",
       " 'format_map',\n",
       " 'index',\n",
       " 'isalnum',\n",
       " 'isalpha',\n",
       " 'isdecimal',\n",
       " 'isdigit',\n",
       " 'isidentifier',\n",
       " 'islower',\n",
       " 'isnumeric',\n",
       " 'isprintable',\n",
       " 'isspace',\n",
       " 'istitle',\n",
       " 'isupper',\n",
       " 'join',\n",
       " 'ljust',\n",
       " 'lower',\n",
       " 'lstrip',\n",
       " 'maketrans',\n",
       " 'partition',\n",
       " 'replace',\n",
       " 'rfind',\n",
       " 'rindex',\n",
       " 'rjust',\n",
       " 'rpartition',\n",
       " 'rsplit',\n",
       " 'rstrip',\n",
       " 'split',\n",
       " 'splitlines',\n",
       " 'startswith',\n",
       " 'strip',\n",
       " 'swapcase',\n",
       " 'title',\n",
       " 'translate',\n",
       " 'upper',\n",
       " 'zfill']"
      ]
     },
     "execution_count": 35,
     "metadata": {},
     "output_type": "execute_result"
    }
   ],
   "source": [
    "dir(str) #返回该对象类型为参数的方法列表"
   ]
  },
  {
   "cell_type": "code",
   "execution_count": 36,
   "metadata": {
    "scrolled": true
   },
   "outputs": [
    {
     "name": "stdout",
     "output_type": "stream",
     "text": [
      "Help on method_descriptor:\n",
      "\n",
      "upper(...)\n",
      "    S.upper() -> str\n",
      "    \n",
      "    Return a copy of S converted to uppercase.\n",
      "\n"
     ]
    }
   ],
   "source": [
    "help(str.upper)"
   ]
  },
  {
   "cell_type": "markdown",
   "metadata": {},
   "source": [
    "# 内建python集合及其操作\n",
    "## 列表\n",
    "列表是可变的\n",
    "- 切片，连接返回新列表\n",
    "- 可修改append, insert, pop, remove, sort\n",
    "- split, join等等等等 dir(list)"
   ]
  },
  {
   "cell_type": "code",
   "execution_count": 42,
   "metadata": {},
   "outputs": [
    {
     "name": "stdout",
     "output_type": "stream",
     "text": [
      "[22, 34]\n"
     ]
    },
    {
     "data": {
      "text/plain": [
       "34"
      ]
     },
     "execution_count": 42,
     "metadata": {},
     "output_type": "execute_result"
    }
   ],
   "source": [
    "testList = []\n",
    "testList.append(34)\n",
    "testList.append(22)\n",
    "testList.sort()\n",
    "print(testList)\n",
    "testList.pop()"
   ]
  },
  {
   "cell_type": "code",
   "execution_count": 46,
   "metadata": {},
   "outputs": [
    {
     "name": "stdout",
     "output_type": "stream",
     "text": [
      "[22, 55]\n",
      "[55]\n"
     ]
    }
   ],
   "source": [
    "testList = [22]\n",
    "testList.insert(1, 55)\n",
    "print(testList)\n",
    "testList.remove(22)\n",
    "print(testList)"
   ]
  },
  {
   "cell_type": "code",
   "execution_count": 48,
   "metadata": {},
   "outputs": [
    {
     "data": {
      "text/plain": [
       "['python', 'is', 'cool']"
      ]
     },
     "execution_count": 48,
     "metadata": {},
     "output_type": "execute_result"
    }
   ],
   "source": [
    "\"python is cool\".split()"
   ]
  },
  {
   "cell_type": "code",
   "execution_count": 51,
   "metadata": {},
   "outputs": [
    {
     "data": {
      "text/plain": [
       "'Python is cool'"
      ]
     },
     "execution_count": 51,
     "metadata": {},
     "output_type": "execute_result"
    }
   ],
   "source": [
    "\" \".join([\"Python\", \"is\", \"cool\"])"
   ]
  },
  {
   "cell_type": "markdown",
   "metadata": {},
   "source": [
    "## 元组(tuple)\n",
    "元组是不可变的序列\n",
    "- 没有修改器\n",
    "- 至少两个项"
   ]
  },
  {
   "cell_type": "code",
   "execution_count": 52,
   "metadata": {},
   "outputs": [
    {
     "data": {
      "text/plain": [
       "(20, 30)"
      ]
     },
     "execution_count": 52,
     "metadata": {},
     "output_type": "execute_result"
    }
   ],
   "source": [
    "(20,30)"
   ]
  },
  {
   "cell_type": "markdown",
   "metadata": {},
   "source": [
    "## 遍历序列\n",
    "for遍历一个序列（如字符串、列表或元组）\n",
    "## 字典(dict)\n",
    "每个条目entry将一个key和一个value相关联，值可以是任何python对象"
   ]
  },
  {
   "cell_type": "code",
   "execution_count": 64,
   "metadata": {},
   "outputs": [
    {
     "data": {
      "text/plain": [
       "dict_keys(['name', 'hobbies'])"
      ]
     },
     "execution_count": 64,
     "metadata": {},
     "output_type": "execute_result"
    }
   ],
   "source": [
    "dict_test = {\"name\":\"Ken\", \"hobbies\":[\"reading\", \"running\"]}\n",
    "dict_test.keys()  #返回一个可迭代对象\n",
    "# dict_test.pop(\"name\")"
   ]
  },
  {
   "cell_type": "code",
   "execution_count": 63,
   "metadata": {},
   "outputs": [
    {
     "data": {
      "text/plain": [
       "dict_values(['Ken', ['reading', 'running']])"
      ]
     },
     "execution_count": 63,
     "metadata": {},
     "output_type": "execute_result"
    }
   ],
   "source": [
    "dict_test.values() "
   ]
  },
  {
   "cell_type": "code",
   "execution_count": 65,
   "metadata": {},
   "outputs": [
    {
     "name": "stdout",
     "output_type": "stream",
     "text": [
      "{'hobbies': ['reading', 'running']}\n"
     ]
    }
   ],
   "source": [
    "dict_test.pop(\"name\")   #删除条目,返回给定键的值\n",
    "print(dict_test)"
   ]
  },
  {
   "cell_type": "markdown",
   "metadata": {},
   "source": [
    "## 搜索一个值\n"
   ]
  },
  {
   "cell_type": "code",
   "execution_count": 66,
   "metadata": {},
   "outputs": [
    {
     "data": {
      "text/plain": [
       "False"
      ]
     },
     "execution_count": 66,
     "metadata": {},
     "output_type": "execute_result"
    }
   ],
   "source": [
    "\"name\" in dict_test"
   ]
  },
  {
   "cell_type": "code",
   "execution_count": 73,
   "metadata": {},
   "outputs": [
    {
     "name": "stdout",
     "output_type": "stream",
     "text": [
      "Help on method_descriptor:\n",
      "\n",
      "get(...)\n",
      "    D.get(k[,d]) -> D[k] if k in D, else d.  d defaults to None.\n",
      "\n"
     ]
    }
   ],
   "source": [
    "help(dict.get)"
   ]
  },
  {
   "cell_type": "code",
   "execution_count": 75,
   "metadata": {},
   "outputs": [
    {
     "data": {
      "text/plain": [
       "['reading', 'running']"
      ]
     },
     "execution_count": 75,
     "metadata": {},
     "output_type": "execute_result"
    }
   ],
   "source": [
    "dict_test.get(\"hobbies\",\"no found\")"
   ]
  },
  {
   "cell_type": "markdown",
   "metadata": {},
   "source": [
    "## 模式匹配\n",
    "将一个结构赋值给另一个形式完全相同的结构。"
   ]
  },
  {
   "cell_type": "code",
   "execution_count": 77,
   "metadata": {},
   "outputs": [
    {
     "name": "stdout",
     "output_type": "stream",
     "text": [
      "1 2 3 pattern\n"
     ]
    }
   ],
   "source": [
    "rgbTuple = ((1,2,3),\"pattern\")\n",
    "((r, g, b), hexString) = rgbTuple\n",
    "print(r,g,b,hexString)"
   ]
  },
  {
   "cell_type": "markdown",
   "metadata": {},
   "source": [
    "# 编写新函数\n",
    "## 函数定义"
   ]
  },
  {
   "cell_type": "code",
   "execution_count": 78,
   "metadata": {},
   "outputs": [],
   "source": [
    "def square(n):\n",
    "    \"\"\"return the square of n\"\"\"\n",
    "    result = n ** 2\n",
    "    return result"
   ]
  },
  {
   "cell_type": "code",
   "execution_count": 79,
   "metadata": {},
   "outputs": [
    {
     "name": "stdout",
     "output_type": "stream",
     "text": [
      "Help on function square in module __main__:\n",
      "\n",
      "square(n)\n",
      "    return the square of n\n",
      "\n"
     ]
    }
   ],
   "source": [
    "help(square)"
   ]
  },
  {
   "cell_type": "markdown",
   "metadata": {},
   "source": [
    "## 递归函数"
   ]
  },
  {
   "cell_type": "code",
   "execution_count": 84,
   "metadata": {},
   "outputs": [
    {
     "name": "stdout",
     "output_type": "stream",
     "text": [
      " 1 4\n",
      "     2 4\n",
      "         3 4\n",
      "             4 4\n",
      "                 5 4\n",
      "                 0\n",
      "             4\n",
      "         7\n",
      "     9\n",
      " 10\n"
     ]
    },
    {
     "data": {
      "text/plain": [
       "10"
      ]
     },
     "execution_count": 84,
     "metadata": {},
     "output_type": "execute_result"
    }
   ],
   "source": [
    "def ourSum(lower, upper, margin = 0):\n",
    "    \"\"\"return the sum of the numbers from lower to upper, \n",
    "    and output a trace of the arguments and return values\n",
    "    on each call 对递归函数的跟踪，是一种有用的调试工具\"\"\"\n",
    "    blanks = \" \" * margin\n",
    "    print(blanks, lower, upper)\n",
    "    if lower > upper:        #至少包含一条基本条件语句base case， 来判断停止还是继续递归\n",
    "        print(blanks, 0)\n",
    "        return 0\n",
    "    else:\n",
    "        result = lower + ourSum(lower + 1, upper, margin + 4)  #至少接收一个参数，每一个递归步骤之前修改这个值，以允许最终达到基本条件\n",
    "        print(blanks, result)                                  # 结果会倒着加每一个lower的值\n",
    "        return result\n",
    "ourSum(1, 4)"
   ]
  },
  {
   "cell_type": "markdown",
   "metadata": {},
   "source": [
    "## 嵌套函数"
   ]
  },
  {
   "cell_type": "code",
   "execution_count": 105,
   "metadata": {},
   "outputs": [],
   "source": [
    "def factorial(n):\n",
    "    def recurse(n, product):\n",
    "        if n == 1:  return product\n",
    "        else: return recurse(n-1,  n*product)\n",
    "    recurse(n, 1)\n",
    "factorial(20)"
   ]
  },
  {
   "cell_type": "markdown",
   "metadata": {},
   "source": [
    "## 高阶函数\n",
    "high-order function\n",
    "\n",
    "接收另一个函数作为参数，并且以某种方式应用该函数。如map和filter\n",
    "\n",
    "map: 接收一个函数和一个可迭代对象。对可迭代对象中的每一项应用参数函数而得到的另一个可迭代对象。\n",
    "\n",
    "filter: 接收一个布尔函数和一个可迭代对象作为参数。对每一项执行布尔函数，如果true则保留在返回的可迭代对象中"
   ]
  },
  {
   "cell_type": "code",
   "execution_count": 4,
   "metadata": {},
   "outputs": [
    {
     "name": "stdout",
     "output_type": "stream",
     "text": [
      "['-1', '1', '2', '3', '4']\n"
     ]
    }
   ],
   "source": [
    "oldList = [-1, 1, 2, 3, 4]\n",
    "newList = list(map(str, oldList))\n",
    "print(newList)"
   ]
  },
  {
   "cell_type": "code",
   "execution_count": 6,
   "metadata": {},
   "outputs": [
    {
     "name": "stdout",
     "output_type": "stream",
     "text": [
      "[1, 2, 3, 4]\n"
     ]
    }
   ],
   "source": [
    "def isPositive(n):\n",
    "    if n > 0:\n",
    "        return 1\n",
    "    else:return 0\n",
    "newList = list(filter(isPositive, oldList))\n",
    "print(newList)"
   ]
  },
  {
   "cell_type": "markdown",
   "metadata": {},
   "source": [
    "## 使用lambda表达式创建匿名函数\n",
    "临时性地创建一个匿名函数已传递给map或filter，从而避免创建isPostive这样一次性的辅助函数\n",
    "```\n",
    "lambda <argument list> : <expression>\n",
    "```"
   ]
  },
  {
   "cell_type": "code",
   "execution_count": 7,
   "metadata": {},
   "outputs": [
    {
     "name": "stdout",
     "output_type": "stream",
     "text": [
      "[1]\n"
     ]
    }
   ],
   "source": [
    "oldList = [-1, -2, -3, -4, 1]\n",
    "newList = list(filter(lambda number: number > 0, oldList))\n",
    "print(newList)"
   ]
  },
  {
   "cell_type": "markdown",
   "metadata": {},
   "source": [
    "# 捕获异常\n",
    "在用户错误的情况下，不应该允许异常停止了程序的执行，而是应该捕获这些异常并允许用户优雅的恢复\n",
    "```\n",
    "try:\n",
    "    <statements>\n",
    "except <exception type>:\n",
    "    <statements>\n",
    "```    "
   ]
  },
  {
   "cell_type": "code",
   "execution_count": 9,
   "metadata": {},
   "outputs": [
    {
     "name": "stdout",
     "output_type": "stream",
     "text": [
      "Enter your age: ab\n",
      "error in number format: ab\n",
      "Enter your age: d\n",
      "error in number format: d\n",
      "Enter your age: 18\n",
      "your age is: 18\n"
     ]
    }
   ],
   "source": [
    "def safeIntegerInput (prompt):\n",
    "    inputString = input(prompt)\n",
    "    try: \n",
    "        number = int(inputString)\n",
    "        return number\n",
    "    except ValueError:\n",
    "        print('error in number format:', inputString)\n",
    "        return safeIntegerInput(prompt)\n",
    "age = safeIntegerInput('Enter your age: ')\n",
    "print('your age is:' ,age)"
   ]
  },
  {
   "cell_type": "markdown",
   "metadata": {},
   "source": [
    "# 文件及其操作\n",
    "## 文本文件的输出\n",
    "All data output to ('w') or input from（'r'） a text file must be strings. Thus, numbers must be\n",
    "converted to strings before output, and these strings must be converted back to num-\n",
    "bers after input. 向文本文件输出写入和从文本文件读取都必须是字符串。\n",
    "\n",
    "使用空格、换行符和制表符（这三个都称为whitespace空白字符，可通过str.strip去掉）分隔"
   ]
  },
  {
   "cell_type": "code",
   "execution_count": 11,
   "metadata": {},
   "outputs": [],
   "source": [
    "f = open('.\\ExamplePrograms\\Ch_1_Student_files\\myfile.txt', 'w') #如果不存在，则创建它\n",
    "f.write(\"First line.\\nSecond Line.\\n886\")  #写入的时候，文件中之前所有数据都会被擦除\n",
    "f.close()  #如果没有能够成功关闭输出的文件，将导致数据丢失"
   ]
  },
  {
   "cell_type": "markdown",
   "metadata": {},
   "source": [
    "## 将数字写入到一个文本文件\n",
    "大多数据类型包括数字可用str来转换为字符串，来写入"
   ]
  },
  {
   "cell_type": "code",
   "execution_count": 32,
   "metadata": {},
   "outputs": [],
   "source": [
    "import random\n",
    "f = open('.\\ExamplePrograms\\Ch_1_Student_files\\integers.txt', 'w')\n",
    "for count in range(500):\n",
    "    number = random.randint(1, 500)\n",
    "    f.write(str(number) +'\\n')\n",
    "f.close()"
   ]
  },
  {
   "cell_type": "markdown",
   "metadata": {},
   "source": [
    "## 从文本文件读取文本\n",
    "先打开一个文件进行输入，在从输入文件读取数据，不比关闭文件。要重复输入必须再次打开文件"
   ]
  },
  {
   "cell_type": "code",
   "execution_count": 16,
   "metadata": {},
   "outputs": [
    {
     "name": "stdout",
     "output_type": "stream",
     "text": [
      "First line.\n",
      "Second Line.\n",
      "886\n"
     ]
    }
   ],
   "source": [
    "f = open('.\\ExamplePrograms\\Ch_1_Student_files\\myfile.txt', 'r')\n",
    "text = f.read()\n",
    "text    \n",
    "print(text) #print解读转义符"
   ]
  },
  {
   "cell_type": "code",
   "execution_count": 25,
   "metadata": {},
   "outputs": [
    {
     "name": "stdout",
     "output_type": "stream",
     "text": [
      "First line.\n",
      "\n",
      "Second Line.\n",
      "\n",
      "886\n"
     ]
    }
   ],
   "source": [
    "f = open('.\\ExamplePrograms\\Ch_1_Student_files\\myfile.txt', 'r')\n",
    "for line in f:   #每一次都读取一行文本\n",
    "    print(line) #因为print输出结果自带换行符，原文也有换行符，从而看起来有额外的换行"
   ]
  },
  {
   "cell_type": "code",
   "execution_count": 24,
   "metadata": {},
   "outputs": [
    {
     "name": "stdout",
     "output_type": "stream",
     "text": [
      "First line.\n",
      "\n",
      "Second Line.\n",
      "\n",
      "886\n"
     ]
    }
   ],
   "source": [
    "f = open('.\\ExamplePrograms\\Ch_1_Student_files\\myfile.txt', 'r')\n",
    "while True:\n",
    "    line = f.readline()   #readline方便读取特定数目的行或字符  \n",
    "    if line=='':         #如果遇到了文件的末尾，会返回空字符串\n",
    "        break\n",
    "    print(line)"
   ]
  },
  {
   "cell_type": "markdown",
   "metadata": {},
   "source": [
    "## 从文件读取数字"
   ]
  },
  {
   "cell_type": "code",
   "execution_count": 35,
   "metadata": {},
   "outputs": [
    {
     "name": "stdout",
     "output_type": "stream",
     "text": [
      "the sum is 127138\n"
     ]
    }
   ],
   "source": [
    "\"\"\"每一轮循环都访问一行文本，为了将文本转换为其中所包含的整数，先用strip去掉换行符，再转为int\"\"\"\n",
    "f = open('.\\ExamplePrograms\\Ch_1_Student_files\\integers.txt', 'r')\n",
    "sum= 0\n",
    "for line in f:\n",
    "    line = line.strip()\n",
    "    number = int(line)\n",
    "    sum += number\n",
    "print('the sum is', sum)"
   ]
  },
  {
   "cell_type": "code",
   "execution_count": 38,
   "metadata": {},
   "outputs": [
    {
     "name": "stdout",
     "output_type": "stream",
     "text": [
      "the sum is 127138\n"
     ]
    }
   ],
   "source": [
    "# 通过str.split方法去除所有whitespace str, 包括换行符和空格\n",
    "f = open('.\\ExamplePrograms\\Ch_1_Student_files\\integers.txt', 'r')\n",
    "sum = 0\n",
    "for line in f:\n",
    "    wordlist = line.split()\n",
    "    for word in wordlist:\n",
    "        number = int(word)\n",
    "        sum += number\n",
    "print('the sum is', sum)"
   ]
  },
  {
   "cell_type": "markdown",
   "metadata": {},
   "source": [
    "## 使用pickle读写对象\n",
    "pickling封装\n",
    "\n",
    "先将复杂的对象映射为文本再映射回来这个过程肯定很无聊和负载。通过pickle,任何对象可以被封装，然后再保存到文件中。如果要加载到程序中，先unpickle\n",
    "\n",
    "1. 导入pickle模块\n",
    "2. 使用'rb' 'wb'字节流来输入或输出\n",
    "3. 保存对象 pickle.dump(object to be stored, file object) 不用知道对象类型和有多少对象\n",
    "4. load(file object) 如果到达文件末尾，会引发一个异常EOFError，需要通过try-except语句捕获，并**关闭文件**退出循环"
   ]
  },
  {
   "cell_type": "code",
   "execution_count": 41,
   "metadata": {},
   "outputs": [],
   "source": [
    "import pickle\n",
    "lyst = [60, 'a string object', 1977]\n",
    "fileObj = open('.\\ExamplePrograms\\Ch_1_Student_files\\items.dat','wb')\n",
    "for item in lyst:       # 其实也可以将整个列表写入\n",
    "    pickle.dump(item, fileObj)                \n",
    "fileObj.close()"
   ]
  },
  {
   "cell_type": "code",
   "execution_count": 44,
   "metadata": {},
   "outputs": [
    {
     "name": "stdout",
     "output_type": "stream",
     "text": [
      "[60, 'a string object', 1977]\n"
     ]
    }
   ],
   "source": [
    "lyst = list()\n",
    "fileObj = open('.\\ExamplePrograms\\Ch_1_Student_files\\items.dat', 'rb')\n",
    "while True:\n",
    "    try:\n",
    "        item = pickle.load(fileObj)\n",
    "        lyst.append(item)\n",
    "    except EOFError:\n",
    "        fileObj.close()   ## 需要关闭文件，之前open('r')是不用关闭的\n",
    "        break\n",
    "print(lyst)"
   ]
  },
  {
   "cell_type": "markdown",
   "metadata": {},
   "source": [
    "# 创建新对象（《从零开始学python》）\n",
    "## 理解面向对象\n",
    "### 面向对象编程\n",
    "把对象作为程序的基本单元，一个对象包含数据和操作数据的函数\n",
    "\n",
    "python中所有数据类型都被视为对象，也可以自定义对象（也就是面向对象object中类class的概念）\n",
    "### 面向对象术语简介\n",
    "- 对象：通过类定义的数据结构实例。对象包括两个数据成员（类变量和实例变量）和方法\n",
    "- 类：class， 用来描述具有相同属性和方法的对象的集合，类定义了集合中每个对象共有的属性和方法，**对象是类的实例**\n",
    "- 类变量（属性）：类变量在整个实例化的对象中是公用的。类变量也称属性\n",
    "- 数据成员：类变量或实例变量用于处理类及其实例对象的相关数据\n",
    "- 方法重写：如果从父类继承的方法不能满足子类的需求，就应该改对其进行改写\n",
    "- 实例变量：定义在方法中的变量只作用于当前实例的类\n",
    "- 多态：对不同类对象使用同样的操作\n",
    "- 封装：对外部世界隐藏对象的工作细节\n",
    "- 继承：一个派生类继承基类的字段和方法。\n",
    "- 实例化：创建一个类的实例、类的具体对象\n",
    "- 方法：类中定义的函数\n",
    "## 类的定义和使用\n",
    "### 类的定义\n",
    "```\n",
    "class ClassName(object):\n",
    "    <statement>\n",
    "```\n",
    "如果没有合适的继承类，就使用object类，这是所有的类最终都会继承的类\n",
    "\n",
    "类包含属性（相当于函数中的语句）和方法（函数）\n",
    "### 类的使用"
   ]
  },
  {
   "cell_type": "code",
   "execution_count": 47,
   "metadata": {},
   "outputs": [
    {
     "name": "stdout",
     "output_type": "stream",
     "text": [
      "123\n",
      "hello world\n"
     ]
    }
   ],
   "source": [
    "class MyClass(object):\n",
    "    i = 123\n",
    "    def f(self):       # 定义方法时第一个采纳数必须是self\n",
    "        return 'hello world'\n",
    "use_class = MyClass()  #类的实例化\n",
    "print(use_class.i)\n",
    "print(use_class.f())    #调用方法时，self不用传递"
   ]
  },
  {
   "cell_type": "markdown",
   "metadata": {},
   "source": [
    "## 深入类\n",
    "### 类的构造方法"
   ]
  },
  {
   "cell_type": "code",
   "execution_count": 48,
   "metadata": {},
   "outputs": [
    {
     "name": "stdout",
     "output_type": "stream",
     "text": [
      "类实例化\n",
      "类实例化结束\n",
      "类中的方法\n"
     ]
    }
   ],
   "source": [
    "class DefaultInit(object):\n",
    "    def __init__(self):\n",
    "        print('类实例化')\n",
    "    def show(self):\n",
    "        print('类中的方法')\n",
    "test = DefaultInit()\n",
    "print('类实例化结束')\n",
    "test.show()"
   ]
  },
  {
   "cell_type": "markdown",
   "metadata": {},
   "source": [
    "__init__()方法也叫**构造方法**，在对象被实例化的时候就被调用\n",
    "\n",
    "\n",
    "如果不定义__init__()方法，则调用默认的init方法\n",
    "\n",
    "如果定义了多个构造方法，则后面的方法会覆盖前面的构造方法，并根据最后一个进行实例化，所以最好一个类只定义一个。\n",
    "### 类的访问权限"
   ]
  },
  {
   "cell_type": "code",
   "execution_count": 50,
   "metadata": {},
   "outputs": [
    {
     "name": "stdout",
     "output_type": "stream",
     "text": [
      "修改前分数： 95\n",
      "学生： xiaomeng 分数： 0\n"
     ]
    }
   ],
   "source": [
    "class Student(object):\n",
    "    def __init__(self, name, score):\n",
    "        self.name = name\n",
    "        self.score = score\n",
    "    def info(self):\n",
    "        print('学生： %s 分数： %s'% (self.name, self.score))\n",
    "stu = Student('xiaomeng', 95)\n",
    "print('修改前分数：', stu.score)\n",
    "stu.score = 0\n",
    "stu.info()"
   ]
  },
  {
   "cell_type": "markdown",
   "metadata": {},
   "source": [
    "要让内部属性不让外部访问，在属性名称前加两个下划线__\n",
    "\n",
    "私有化方法同理self.__method"
   ]
  },
  {
   "cell_type": "code",
   "execution_count": 51,
   "metadata": {},
   "outputs": [
    {
     "name": "stdout",
     "output_type": "stream",
     "text": [
      "学生： xiaomeng 分数： 95\n"
     ]
    }
   ],
   "source": [
    "class Student(object):\n",
    "    def __init__(self, name, score):\n",
    "        self.name = name\n",
    "        self.__score = score\n",
    "    def info(self):\n",
    "        print('学生： %s 分数： %s'% (self.name, self.__score))\n",
    "stu = Student('xiaomeng', 95)\n",
    "stu.info()"
   ]
  },
  {
   "cell_type": "markdown",
   "metadata": {},
   "source": [
    "外部代码要获取类中的name和score属性怎么办呢？可以单独写一个get_attrs方法，专门return类中的私有变量\n",
    "\n",
    "同理可以写一个set_attrs方法专门用于修改类中的私有变量，这样就可以帮助我们做检查"
   ]
  },
  {
   "cell_type": "code",
   "execution_count": 58,
   "metadata": {},
   "outputs": [
    {
     "name": "stdout",
     "output_type": "stream",
     "text": [
      "score is 100\n",
      "请输入0到100的数字\n",
      "score after revised 100\n"
     ]
    }
   ],
   "source": [
    "class Student(object):\n",
    "    def __init__(self, name, score):\n",
    "        self.name = name\n",
    "        self.__score = score\n",
    "    def info(self):\n",
    "        print('学生： %s 分数： %s'% (self.name, self.__score))\n",
    "    def get_score(self):\n",
    "        return self.__score\n",
    "    def set_score(self, score):\n",
    "        if 0<=score<=100:\n",
    "            self.__score = score\n",
    "        else:\n",
    "            print('请输入0到100的数字')\n",
    "stu = Student('mingming', 100)\n",
    "print('score is', stu.get_score())\n",
    "stu.set_score(-10)\n",
    "print('score after revised', stu.get_score())"
   ]
  },
  {
   "cell_type": "markdown",
   "metadata": {},
   "source": [
    "## 继承\n",
    "定义的新class叫子类(subclass),被继承的class类称为父类、基类或超类(base class, super class)\n",
    "```\n",
    "class DerivedClassNmae(BaseClassName):\n",
    "    <statement>\n",
    "```\n",
    "1. 基类的init构造方法不会被自动调用\n",
    "2. 如果子类中找不到对应的方法，才到基类中逐个查找\n",
    "3. 在子类中调用基类的方法时要加上基类的类名前缀，并带上self参数变量。self中调用普通函数则不用self\n",
    "4. 继承最大好处是子类获得了父类全部**非私有**的功能"
   ]
  },
  {
   "cell_type": "code",
   "execution_count": 60,
   "metadata": {},
   "outputs": [
    {
     "name": "stdout",
     "output_type": "stream",
     "text": [
      "animal is running\n",
      "dog is eating\n"
     ]
    }
   ],
   "source": [
    "class Animal(object):\n",
    "    def run(self):\n",
    "        print('animal is running')\n",
    "\n",
    "class Dog(Animal):\n",
    "    def eat(self):\n",
    "        print('dog is eating')\n",
    "\n",
    "class Cat(Animal):\n",
    "    pass\n",
    "\n",
    "dog = Dog()\n",
    "dog.run()\n",
    "dog.eat()"
   ]
  },
  {
   "cell_type": "markdown",
   "metadata": {},
   "source": [
    "## 多态\n",
    "子类的同名方法会覆盖父类的方法，称为多态\n",
    "\n",
    "多态意味着即使不知道变量所引用的对象类型是什么，也能对对象进行操作，多态会根据对象（或类）的不同表现而表现出不同的行为。\n",
    "\n",
    "我们在上面animal中定义了run方法，dog里面也有run方法，最后调用的是子类里面的run方法"
   ]
  },
  {
   "cell_type": "code",
   "execution_count": 61,
   "metadata": {},
   "outputs": [
    {
     "name": "stdout",
     "output_type": "stream",
     "text": [
      "Dog is running\n"
     ]
    }
   ],
   "source": [
    "class Dog(Animal):\n",
    "    def run(self):\n",
    "        print('Dog is running')\n",
    "dog = Dog()\n",
    "dog.run()"
   ]
  },
  {
   "cell_type": "markdown",
   "metadata": {},
   "source": [
    "我们定义一个类时，实际上就定义了一种数据类型。定义的数据类型和python自带的list, dict, str没什么两样"
   ]
  },
  {
   "cell_type": "code",
   "execution_count": 66,
   "metadata": {},
   "outputs": [
    {
     "name": "stdout",
     "output_type": "stream",
     "text": [
      "True\n",
      "False\n"
     ]
    }
   ],
   "source": [
    "# 判断是否为某个类型\n",
    "a = Dog()\n",
    "print(isinstance(a, Dog))\n",
    "b = Animal()\n",
    "print(isinstance(b, Dog))  "
   ]
  },
  {
   "cell_type": "markdown",
   "metadata": {},
   "source": [
    "任何依赖Animal作为参数的函数或方法都可以不加修改地运行，新增animal子类不必对run_two_times()进行任何修改\n",
    "\n",
    "当我们需要传入dog, cat等对象时，只需要接收Animal类型就可以。因此传入的类型只要是animal或animal的子类，就能自动调用实际类型的方法，反正子类父类都有run方法，子类没有就调用父类。"
   ]
  },
  {
   "cell_type": "code",
   "execution_count": 69,
   "metadata": {},
   "outputs": [
    {
     "name": "stdout",
     "output_type": "stream",
     "text": [
      "Dog is running\n",
      "Dog is running\n"
     ]
    }
   ],
   "source": [
    "def run_two_times(animal):\n",
    "    animal.run()\n",
    "    animal.run()\n",
    "run_two_times(Dog())\n",
    "    "
   ]
  },
  {
   "cell_type": "markdown",
   "metadata": {},
   "source": [
    "## 封装\n",
    "就像之前Student类里的info一样，封装可以不用关心对象是如何构建的，直接使用即可。get_score(), set_score()方法也是封装的一种。\n",
    "## 多重继承\n",
    "```\n",
    "class DerivedClassName(Base1, Base2, Base3):\n",
    "    <statement>\n",
    "```\n",
    "若方法在子类中未找到，则从左到右查找父类中是否包含\n",
    "## 获取对象信息\n",
    "### type()\n",
    "判断基本类型"
   ]
  },
  {
   "cell_type": "code",
   "execution_count": 72,
   "metadata": {},
   "outputs": [
    {
     "data": {
      "text/plain": [
       "int"
      ]
     },
     "execution_count": 72,
     "metadata": {},
     "output_type": "execute_result"
    }
   ],
   "source": [
    "type(123)"
   ]
  },
  {
   "cell_type": "code",
   "execution_count": 75,
   "metadata": {},
   "outputs": [
    {
     "data": {
      "text/plain": [
       "__main__.Dog"
      ]
     },
     "execution_count": 75,
     "metadata": {},
     "output_type": "execute_result"
    }
   ],
   "source": [
    "type(dog)"
   ]
  },
  {
   "cell_type": "code",
   "execution_count": 77,
   "metadata": {},
   "outputs": [
    {
     "data": {
      "text/plain": [
       "False"
      ]
     },
     "execution_count": 77,
     "metadata": {},
     "output_type": "execute_result"
    }
   ],
   "source": [
    "cat = Cat()\n",
    "type(cat) == type(dog)"
   ]
  },
  {
   "cell_type": "code",
   "execution_count": 78,
   "metadata": {},
   "outputs": [
    {
     "data": {
      "text/plain": [
       "True"
      ]
     },
     "execution_count": 78,
     "metadata": {},
     "output_type": "execute_result"
    }
   ],
   "source": [
    "type('abc') == str"
   ]
  },
  {
   "cell_type": "markdown",
   "metadata": {},
   "source": [
    "### isinstance()\n",
    "判断class的数据类型"
   ]
  },
  {
   "cell_type": "code",
   "execution_count": 79,
   "metadata": {},
   "outputs": [
    {
     "data": {
      "text/plain": [
       "True"
      ]
     },
     "execution_count": 79,
     "metadata": {},
     "output_type": "execute_result"
    }
   ],
   "source": [
    "isinstance(dog, Animal)"
   ]
  },
  {
   "cell_type": "code",
   "execution_count": 80,
   "metadata": {},
   "outputs": [
    {
     "data": {
      "text/plain": [
       "True"
      ]
     },
     "execution_count": 80,
     "metadata": {},
     "output_type": "execute_result"
    }
   ],
   "source": [
    "isinstance(dog, object)"
   ]
  },
  {
   "cell_type": "code",
   "execution_count": 83,
   "metadata": {},
   "outputs": [
    {
     "data": {
      "text/plain": [
       "True"
      ]
     },
     "execution_count": 83,
     "metadata": {},
     "output_type": "execute_result"
    }
   ],
   "source": [
    "\"\"\"判断一个变量是否为某些类型中的一种\"\"\"\n",
    "isinstance((1,2,3), (list, tuple))"
   ]
  },
  {
   "cell_type": "markdown",
   "metadata": {},
   "source": [
    "### dir()\n",
    "获取一个对象所有属性和方法"
   ]
  },
  {
   "cell_type": "code",
   "execution_count": 84,
   "metadata": {
    "scrolled": true
   },
   "outputs": [
    {
     "data": {
      "text/plain": [
       "['__class__',\n",
       " '__delattr__',\n",
       " '__dict__',\n",
       " '__dir__',\n",
       " '__doc__',\n",
       " '__eq__',\n",
       " '__format__',\n",
       " '__ge__',\n",
       " '__getattribute__',\n",
       " '__gt__',\n",
       " '__hash__',\n",
       " '__init__',\n",
       " '__init_subclass__',\n",
       " '__le__',\n",
       " '__lt__',\n",
       " '__module__',\n",
       " '__ne__',\n",
       " '__new__',\n",
       " '__reduce__',\n",
       " '__reduce_ex__',\n",
       " '__repr__',\n",
       " '__setattr__',\n",
       " '__sizeof__',\n",
       " '__str__',\n",
       " '__subclasshook__',\n",
       " '__weakref__',\n",
       " 'run']"
      ]
     },
     "execution_count": 84,
     "metadata": {},
     "output_type": "execute_result"
    }
   ],
   "source": [
    "dir(Animal)"
   ]
  },
  {
   "cell_type": "markdown",
   "metadata": {},
   "source": [
    "## 类的专有方法\n",
    "\n",
    "专有方法是在特殊情况下或使用特别语法时**由python调用的**，而不是像普通方法一样在代码里调用\n",
    "\n",
    "### __str__"
   ]
  },
  {
   "cell_type": "code",
   "execution_count": 86,
   "metadata": {},
   "outputs": [
    {
     "name": "stdout",
     "output_type": "stream",
     "text": [
      "学生姓名: xiaozhi\n"
     ]
    }
   ],
   "source": [
    "class Student(object):\n",
    "    def __init__(self, name):\n",
    "        self.name = name\n",
    "    def __str__(self):\n",
    "        return '学生姓名: %s'% self.name\n",
    "print(Student('xiaozhi'))"
   ]
  },
  {
   "cell_type": "code",
   "execution_count": 87,
   "metadata": {},
   "outputs": [
    {
     "data": {
      "text/plain": [
       "学生姓名：xiaoming"
      ]
     },
     "execution_count": 87,
     "metadata": {},
     "output_type": "execute_result"
    }
   ],
   "source": [
    "\"\"\"__repr__供直接显示时调用，__str__供print时调用\"\"\"\n",
    "class Student(object):\n",
    "    def __init__(self, name):\n",
    "        self.name = name\n",
    "    def __str__(self):\n",
    "        return '学生姓名：%s'% self.name\n",
    "    __repr__ = __str__\n",
    "Student('xiaoming')"
   ]
  },
  {
   "cell_type": "markdown",
   "metadata": {},
   "source": [
    "### __iter__\n",
    "将一个class用于for..in 循环，类似tuple或list一样，必须用__iter__方法，返回一个迭代对象。python的for循环会不断调用该迭代器的__next__()方法，获得循环的下一个值,直到引发StopIteration错误"
   ]
  },
  {
   "cell_type": "code",
   "execution_count": 90,
   "metadata": {
    "scrolled": true
   },
   "outputs": [
    {
     "name": "stdout",
     "output_type": "stream",
     "text": [
      "1\n",
      "1\n",
      "2\n",
      "3\n",
      "5\n",
      "8\n",
      "13\n",
      "21\n",
      "34\n",
      "55\n",
      "89\n",
      "144\n",
      "233\n",
      "377\n",
      "610\n",
      "987\n",
      "1597\n",
      "2584\n",
      "4181\n",
      "6765\n",
      "10946\n",
      "17711\n",
      "28657\n",
      "46368\n",
      "75025\n"
     ]
    }
   ],
   "source": [
    "class Fib(object):\n",
    "    def __init__(self):\n",
    "        self.a, self.b = 0,1\n",
    "    def __iter__(self):\n",
    "        return self         #实例本身就是迭代对象，故返回自己\n",
    "    def __next__(self):\n",
    "        self.a, self.b = self.b, self.a + self.b\n",
    "        if self.a > 100000:\n",
    "            raise StopIteration()\n",
    "        return self.a\n",
    "\n",
    "for n in Fib():\n",
    "    print(n)"
   ]
  },
  {
   "cell_type": "markdown",
   "metadata": {},
   "source": [
    "### __getitem__\n",
    "要像list一样按照下标取出元素"
   ]
  },
  {
   "cell_type": "code",
   "execution_count": 93,
   "metadata": {},
   "outputs": [
    {
     "data": {
      "text/plain": [
       "3"
      ]
     },
     "execution_count": 93,
     "metadata": {},
     "output_type": "execute_result"
    }
   ],
   "source": [
    "class Fib(object):\n",
    "    def __getitem__(self, n):\n",
    "        a, b =1, 1\n",
    "        for x in range(n):\n",
    "            a, b = b, b+a\n",
    "        return a\n",
    "fib = Fib()\n",
    "fib[3]"
   ]
  },
  {
   "cell_type": "markdown",
   "metadata": {},
   "source": [
    "### __getattr__\n",
    "如果累的方法或属性不存在时，python解释器通过__getattr__尝试获得属性,也可return None"
   ]
  },
  {
   "cell_type": "code",
   "execution_count": 96,
   "metadata": {},
   "outputs": [
    {
     "data": {
      "text/plain": [
       "60"
      ]
     },
     "execution_count": 96,
     "metadata": {},
     "output_type": "execute_result"
    }
   ],
   "source": [
    "class Student(object):\n",
    "    def __init__(self):\n",
    "        self.name = 'xiaozhi'\n",
    "    def __getattr__(self, attr):\n",
    "        if attr=='score':\n",
    "            return 60\n",
    "stu = Student()\n",
    "stu.score"
   ]
  },
  {
   "cell_type": "markdown",
   "metadata": {},
   "source": [
    "### __call__\n",
    "可以直接对实例本身进行调用"
   ]
  },
  {
   "cell_type": "code",
   "execution_count": 99,
   "metadata": {},
   "outputs": [
    {
     "name": "stdout",
     "output_type": "stream",
     "text": [
      "this is stu itself xiaomi\n"
     ]
    }
   ],
   "source": [
    "class Student(object):\n",
    "    def __init__(self, name):\n",
    "        self.name = name\n",
    "    def __call__(self):\n",
    "        print('this is stu itself %s' % self.name)\n",
    "stu = Student('xiaomi')\n",
    "stu()    #把对象看成函数，把函数看成对象，这两者没有根本区别"
   ]
  },
  {
   "cell_type": "markdown",
   "metadata": {},
   "source": [
    "## 综合"
   ]
  },
  {
   "cell_type": "code",
   "execution_count": 105,
   "metadata": {},
   "outputs": [],
   "source": [
    "class WeatherSearch(object):\n",
    "    def __init__(self, input_daytime):\n",
    "        self.input_daytime = input_daytime\n",
    "    def seach_visibility(self):\n",
    "        visible_leave = 0\n",
    "        if self.input_daytime =='daytime':\n",
    "            visible_leave = 2\n",
    "        if self.input_daytime =='night':\n",
    "            visible_leave = 9\n",
    "        return visible_leave"
   ]
  },
  {
   "cell_type": "code",
   "execution_count": 113,
   "metadata": {},
   "outputs": [
    {
     "name": "stdout",
     "output_type": "stream",
     "text": [
      "the weather is good, suitable for use bike\n"
     ]
    }
   ],
   "source": [
    "class OutAdvice(WeatherSearch):\n",
    "    def __init__(self, input_daytime):\n",
    "        WeatherSearch.__init__(self, input_daytime)\n",
    "    def seach_temperature(self):\n",
    "        vehicle = ''\n",
    "        if self.input_daytime == 'daytime':\n",
    "            vehicle = 'bike'\n",
    "        if self.input_daytime == 'night':\n",
    "            vehicle == 'taxi'\n",
    "        return vehicle\n",
    "    def out_advice(self):\n",
    "#         visible_leave = WeatherSearch.seach_visibility(self)\n",
    "        visible_leave = self.seach_visibility()   #这种方法和上面的方法都可以，self自身已经继承了父类所有非私有方法\n",
    "        if visible_leave == 2:\n",
    "            print('the weather is good, suitable for use %s' % self.seach_temperature())\n",
    "        elif visible_leave == 9:\n",
    "            print('the weather is bad, you should use %s'% self.seach_temperature())\n",
    "        else:\n",
    "            print('cannot give you advice')\n",
    "check = OutAdvice('daytime')\n",
    "check.out_advice()"
   ]
  },
  {
   "cell_type": "markdown",
   "metadata": {},
   "source": [
    "## 调试\n",
    "在init中初始化对象的全部属性是一个好习惯，可以更好管理类中的属性\n",
    "\n",
    "继承可能会不知道调用的是哪一个方法，巧用输出语句"
   ]
  }
 ],
 "metadata": {
  "kernelspec": {
   "display_name": "Python 3",
   "language": "python",
   "name": "python3"
  },
  "language_info": {
   "codemirror_mode": {
    "name": "ipython",
    "version": 3
   },
   "file_extension": ".py",
   "mimetype": "text/x-python",
   "name": "python",
   "nbconvert_exporter": "python",
   "pygments_lexer": "ipython3",
   "version": "3.6.5"
  },
  "latex_envs": {
   "LaTeX_envs_menu_present": true,
   "autoclose": false,
   "autocomplete": true,
   "bibliofile": "biblio.bib",
   "cite_by": "apalike",
   "current_citInitial": 1,
   "eqLabelWithNumbers": true,
   "eqNumInitial": 1,
   "hotkeys": {
    "equation": "Ctrl-E",
    "itemize": "Ctrl-I"
   },
   "labels_anchors": false,
   "latex_user_defs": false,
   "report_style_numbering": false,
   "user_envs_cfg": false
  },
  "toc": {
   "base_numbering": 1,
   "nav_menu": {},
   "number_sections": true,
   "sideBar": false,
   "skip_h1_title": false,
   "title_cell": "Table of Contents",
   "title_sidebar": "Contents",
   "toc_cell": true,
   "toc_position": {
    "height": "419px",
    "left": "41px",
    "top": "110px",
    "width": "265.797px"
   },
   "toc_section_display": true,
   "toc_window_display": false
  }
 },
 "nbformat": 4,
 "nbformat_minor": 2
}
