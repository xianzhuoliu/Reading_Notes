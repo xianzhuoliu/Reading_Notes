{
 "cells": [
  {
   "cell_type": "code",
   "execution_count": 6,
   "metadata": {},
   "outputs": [],
   "source": [
    "import sys\n",
    "sys.path.append('.\\Case Study')\n",
    "\n",
    "from model import PFEvaluatorModel, PFEvaluator\n",
    "from scanner import Scanner\n",
    "from tokens import Token\n",
    "from arraystack import ArrayStack"
   ]
  },
  {
   "cell_type": "code",
   "execution_count": 13,
   "metadata": {},
   "outputs": [],
   "source": [
    "class IFToPFConverter(object):\n",
    "    def __init__(self, scanner):\n",
    "        self._expressionSoFar = \"\"\n",
    "        self._operandStack = ArrayStack()\n",
    "        self._scanner = scanner\n",
    "        expression = self.convert()\n",
    "        \n",
    "    def convert(self):\n",
    "        while self._scanner.hasNext():\n",
    "            currentToken = self._scanner.next()\n",
    "            if currentToken.getType() == Token.INT:\n",
    "                self._expressionSoFar += str(currentToken.getValue()) + \" \"\n",
    "            if currentToken.getType() == Token.LEFTPAR:\n",
    "                self._operandStack.push(currentToken)\n",
    "            if currentToken.isOperator():\n",
    "                while self._operandStack.isEmpty() is False:\n",
    "                    if currentToken.getPrecedence(self._operandStack.peek().getType()):\n",
    "                        self._expressionSoFar += self._operandStack.pop().getValue() + \" \"\n",
    "                    else: break\n",
    "                self._operandStack.push(currentToken)\n",
    "            if currentToken.getType() == Token.RIGHPAR:\n",
    "                while self._operandStack.isEmpty() is False:\n",
    "                    if self._operandStack.peek().getType() == Token.LEFTPAR:\n",
    "                        self._operandStack.pop()\n",
    "                        break\n",
    "                    self._expressionSoFar += self._operandStack.pop().getValue() + \" \"\n",
    "                    \n",
    "            print('self._operandStack: ',self._operandStack,' ', 'self._expressionSoFar', self._expressionSoFar)\n",
    "        \n",
    "        while self._operandStack.isEmpty() is False:\n",
    "            self._expressionSoFar += str(self._operandStack.pop()) + \" \"\n",
    "        \n",
    "#         print('expressionSoFar', self._expressionSoFar)\n",
    "        return self._expressionSoFar"
   ]
  },
  {
   "cell_type": "code",
   "execution_count": 14,
   "metadata": {},
   "outputs": [
    {
     "name": "stdout",
     "output_type": "stream",
     "text": [
      "please input a postfix expression: (2+1)/3+1\n",
      "after formatted: ( 2 + 1 ) / 3 + 1 \n",
      "self._operandStack:  [(]   self._expressionSoFar \n",
      "self._operandStack:  [(]   self._expressionSoFar 2 \n",
      "self._operandStack:  [(, +]   self._expressionSoFar 2 \n",
      "self._operandStack:  [(, +]   self._expressionSoFar 2 1 \n",
      "self._operandStack:  []   self._expressionSoFar 2 1 + \n",
      "self._operandStack:  [/]   self._expressionSoFar 2 1 + \n",
      "self._operandStack:  [/]   self._expressionSoFar 2 1 + 3 \n",
      "self._operandStack:  [+]   self._expressionSoFar 2 1 + 3 / \n",
      "self._operandStack:  [+]   self._expressionSoFar 2 1 + 3 / 1 \n",
      "2 1 + 3 / 1 + \n",
      "2\n"
     ]
    },
    {
     "data": {
      "text/plain": [
       "2"
      ]
     },
     "execution_count": 14,
     "metadata": {},
     "output_type": "execute_result"
    }
   ],
   "source": [
    "\"\"\"\n",
    "PFEvaluatorView()\n",
    "Creates and saves a reference to the model.\n",
    "run()\n",
    "While True:\n",
    "    Retrieve the expression string from the keyboard.\n",
    "    If the string is empty, return.\n",
    "    Send it to the model for formatting.\n",
    "    Send it to the model for evaluation.\n",
    "    Either print the value or catch exceptions raised by the evaluator,\n",
    "    ask the model for the associated details, and display error\n",
    "    messages.\n",
    "\"\"\"\n",
    "\n",
    "class PFEvaluatorView(object):\n",
    "    def __init__(self, expString):\n",
    "        self._expStr = expString\n",
    "#         print(self._expStr)\n",
    "        \n",
    "    def run(self):\n",
    "        \n",
    "        if self._expStr is None:\n",
    "            pass\n",
    "        normalizeStr = PFEvaluatorModel.format(self, self._expStr)\n",
    "        print('after formatted:', normalizeStr)\n",
    "\n",
    "        conv = IFToPFConverter(Scanner(normalizeStr))\n",
    "        postfix = conv.convert()\n",
    "        print(postfix)\n",
    "            \n",
    "        value = PFEvaluatorModel.evaluate(self, postfix)\n",
    "        \n",
    "        print(value)\n",
    "        return value\n",
    "\n",
    "expString = input('please input a postfix expression: ')\n",
    "view = PFEvaluatorView(expString)\n",
    "view.run()"
   ]
  }
 ],
 "metadata": {
  "kernelspec": {
   "display_name": "Python 3",
   "language": "python",
   "name": "python3"
  },
  "language_info": {
   "codemirror_mode": {
    "name": "ipython",
    "version": 3
   },
   "file_extension": ".py",
   "mimetype": "text/x-python",
   "name": "python",
   "nbconvert_exporter": "python",
   "pygments_lexer": "ipython3",
   "version": "3.6.5"
  },
  "latex_envs": {
   "LaTeX_envs_menu_present": true,
   "autoclose": false,
   "autocomplete": true,
   "bibliofile": "biblio.bib",
   "cite_by": "apalike",
   "current_citInitial": 1,
   "eqLabelWithNumbers": true,
   "eqNumInitial": 1,
   "hotkeys": {
    "equation": "Ctrl-E",
    "itemize": "Ctrl-I"
   },
   "labels_anchors": false,
   "latex_user_defs": false,
   "report_style_numbering": false,
   "user_envs_cfg": false
  },
  "toc": {
   "base_numbering": 1,
   "nav_menu": {},
   "number_sections": true,
   "sideBar": true,
   "skip_h1_title": false,
   "title_cell": "Table of Contents",
   "title_sidebar": "Contents",
   "toc_cell": false,
   "toc_position": {},
   "toc_section_display": true,
   "toc_window_display": false
  }
 },
 "nbformat": 4,
 "nbformat_minor": 2
}
