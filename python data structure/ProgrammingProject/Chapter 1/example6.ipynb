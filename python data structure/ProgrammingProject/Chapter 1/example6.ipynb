{
 "cells": [
  {
   "cell_type": "code",
   "execution_count": 8,
   "metadata": {},
   "outputs": [
    {
     "name": "stdout",
     "output_type": "stream",
     "text": [
      "Bob 100 40\n",
      "Jane 100 50\n",
      "\n"
     ]
    },
    {
     "data": {
      "text/plain": [
       "<_io.TextIOWrapper name='example6.txt' mode='w' encoding='cp936'>"
      ]
     },
     "execution_count": 8,
     "metadata": {},
     "output_type": "execute_result"
    }
   ],
   "source": [
    "\"\"\"6. The Payroll Department keeps a list of employee information for each pay period\n",
    "in a text file. The format of each line of the file is\n",
    "<last name> <hourly wage> <hours worked>\n",
    "Write a program that inputs a filename from the user and prints a report to the\n",
    "terminal of the wages paid to the employees for the given period. The report\n",
    "should be in tabular format with the appropriate header. Each line should contain\n",
    "an employee’s name, the hours worked, and the wages paid for that period.\"\"\"\n",
    "import sys\n",
    "\n",
    "def buildTxt(txt_name):\n",
    "    f = open(txt_name, 'w')\n",
    "    f.write(\"LastName HourlyWage HoursWorked\\n\")\n",
    "    sentinel = ''\n",
    "    lines = []\n",
    "    for line in iter(input, sentinel):\n",
    "        lines.append(line)\n",
    "    for i in lines:\n",
    "        f.write(i)\n",
    "    f.close()\n",
    "    return f\n",
    "\n",
    "buildTxt('example6.txt')"
   ]
  },
  {
   "cell_type": "code",
   "execution_count": 9,
   "metadata": {},
   "outputs": [
    {
     "name": "stdout",
     "output_type": "stream",
     "text": [
      "['LastName HourlyWage HoursWorked\\n', 'Bob 100 40Jane 100 50']\n"
     ]
    },
    {
     "ename": "ValueError",
     "evalue": "invalid literal for int() with base 10: '40Jane'",
     "output_type": "error",
     "traceback": [
      "\u001b[1;31m---------------------------------------------------------------------------\u001b[0m",
      "\u001b[1;31mValueError\u001b[0m                                Traceback (most recent call last)",
      "\u001b[1;32m<ipython-input-9-b69325874f0f>\u001b[0m in \u001b[0;36m<module>\u001b[1;34m()\u001b[0m\n\u001b[0;32m     12\u001b[0m         \u001b[0mnewLines\u001b[0m\u001b[1;33m.\u001b[0m\u001b[0mappend\u001b[0m\u001b[1;33m(\u001b[0m\u001b[0mwords\u001b[0m\u001b[1;33m)\u001b[0m\u001b[1;33m\u001b[0m\u001b[0m\n\u001b[0;32m     13\u001b[0m     \u001b[1;32mreturn\u001b[0m \u001b[0mnewLines\u001b[0m\u001b[1;33m\u001b[0m\u001b[0m\n\u001b[1;32m---> 14\u001b[1;33m \u001b[0mreadTxt\u001b[0m\u001b[1;33m(\u001b[0m\u001b[1;34m'example6.txt'\u001b[0m\u001b[1;33m)\u001b[0m\u001b[1;33m\u001b[0m\u001b[0m\n\u001b[0m",
      "\u001b[1;32m<ipython-input-9-b69325874f0f>\u001b[0m in \u001b[0;36mreadTxt\u001b[1;34m(txt_name)\u001b[0m\n\u001b[0;32m      8\u001b[0m     \u001b[1;32mfor\u001b[0m \u001b[0mline\u001b[0m \u001b[1;32min\u001b[0m \u001b[0mlines\u001b[0m\u001b[1;33m[\u001b[0m\u001b[1;36m1\u001b[0m\u001b[1;33m:\u001b[0m\u001b[1;33m]\u001b[0m\u001b[1;33m:\u001b[0m\u001b[1;33m\u001b[0m\u001b[0m\n\u001b[0;32m      9\u001b[0m         \u001b[0mwords\u001b[0m \u001b[1;33m=\u001b[0m \u001b[0mline\u001b[0m\u001b[1;33m.\u001b[0m\u001b[0msplit\u001b[0m\u001b[1;33m(\u001b[0m\u001b[1;33m)\u001b[0m\u001b[1;33m\u001b[0m\u001b[0m\n\u001b[1;32m---> 10\u001b[1;33m         \u001b[0mpay\u001b[0m \u001b[1;33m=\u001b[0m \u001b[0mint\u001b[0m\u001b[1;33m(\u001b[0m\u001b[0mwords\u001b[0m\u001b[1;33m[\u001b[0m\u001b[1;36m1\u001b[0m\u001b[1;33m]\u001b[0m\u001b[1;33m)\u001b[0m \u001b[1;33m*\u001b[0m \u001b[0mint\u001b[0m\u001b[1;33m(\u001b[0m\u001b[0mwords\u001b[0m\u001b[1;33m[\u001b[0m\u001b[1;36m2\u001b[0m\u001b[1;33m]\u001b[0m\u001b[1;33m)\u001b[0m\u001b[1;33m\u001b[0m\u001b[0m\n\u001b[0m\u001b[0;32m     11\u001b[0m         \u001b[0mwords\u001b[0m\u001b[1;33m.\u001b[0m\u001b[0mappend\u001b[0m\u001b[1;33m(\u001b[0m\u001b[0mstr\u001b[0m\u001b[1;33m(\u001b[0m\u001b[0mpay\u001b[0m\u001b[1;33m)\u001b[0m\u001b[1;33m+\u001b[0m\u001b[1;34m'\\n'\u001b[0m\u001b[1;33m)\u001b[0m\u001b[1;33m\u001b[0m\u001b[0m\n\u001b[0;32m     12\u001b[0m         \u001b[0mnewLines\u001b[0m\u001b[1;33m.\u001b[0m\u001b[0mappend\u001b[0m\u001b[1;33m(\u001b[0m\u001b[0mwords\u001b[0m\u001b[1;33m)\u001b[0m\u001b[1;33m\u001b[0m\u001b[0m\n",
      "\u001b[1;31mValueError\u001b[0m: invalid literal for int() with base 10: '40Jane'"
     ]
    }
   ],
   "source": [
    "def readTxt(txt_name):\n",
    "    f = open(txt_name, 'r')\n",
    "    lines = f.readlines()            #readlines返回的是一个列表\n",
    "    print(lines)\n",
    "    lines[0] = lines[0].split()      #是为了去掉'\\n'同时加上TotalPay,split返回的是一个列表\n",
    "    lines[0].append('TotalPay')    #不能写lines[0] = lines[0].append('TotalPay\\n')直接对lines[0]操作即可\n",
    "    newLines = [lines[0]]\n",
    "    for line in lines[1:]:\n",
    "        words = line.split()\n",
    "        pay = int(words[1]) * int(words[2])\n",
    "        words.append(str(pay)+'\\n')\n",
    "        newLines.append(words)\n",
    "    return newLines\n",
    "readTxt('example6.txt')"
   ]
  },
  {
   "cell_type": "code",
   "execution_count": 7,
   "metadata": {},
   "outputs": [
    {
     "name": "stdout",
     "output_type": "stream",
     "text": [
      "['LastName HourlyWage HoursWorked\\n', 'Jane 100 50\\n', 'Bob 100 40\\n']\n",
      "[['LastName', 'HourlyWage', 'HoursWorked', 'TotalPay'], ['Jane', '100', '50', '5000\\n'], ['Bob', '100', '40', '4000\\n']] \n",
      "\n",
      "+----------+------------+-------------+----------+\n",
      "| LastName | HourlyWage | HoursWorked | TotalPay |\n",
      "+----------+------------+-------------+----------+\n",
      "|   Jane   |    100     |      50     |   5000   |\n",
      "|          |            |             |          |\n",
      "|   Bob    |    100     |      40     |   4000   |\n",
      "|          |            |             |          |\n",
      "+----------+------------+-------------+----------+\n"
     ]
    }
   ],
   "source": [
    "from prettytable import PrettyTable\n",
    "lines = readTxt('example6.txt')   \n",
    "tb = PrettyTable(lines[0])\n",
    "for line in lines[1:]:\n",
    "    tb.add_row(line)\n",
    "print(lines,'\\n')\n",
    "print(tb)"
   ]
  },
  {
   "cell_type": "code",
   "execution_count": null,
   "metadata": {},
   "outputs": [],
   "source": [
    "\"\"\"标准答案\"\"\"\n",
    "\n",
    "import sys\n",
    "from prettytable import PrettyTable\n",
    "\n",
    "\n",
    "def build_txt(txt_name):\n",
    "    f = open(txt_name, 'w')\n",
    "    f.write(\"LastName HourlyWage HoursWorked\\n\")\n",
    "    s = sys.stdin.readlines()\n",
    "    for i in s:\n",
    "        f.write(i)\n",
    "    f.close()\n",
    "    return f\n",
    "\n",
    "\n",
    "def read_txt(txt_name):\n",
    "    f = open(txt_name, 'r')\n",
    "    words = []\n",
    "    contents = f.readlines()\n",
    "    for line in contents:\n",
    "        line = line.split()   #['bob','100','50']\n",
    "        words.append(line)    #[[],['bob','100','50']]\n",
    "    f.close()\n",
    "    return words\n",
    "\n",
    "\n",
    "def cal_pay(words):\n",
    "    words[0].append(\"pay\")\n",
    "    for i in range(1, len(words)):\n",
    "        words[i].append(int(words[i][1]) * int(words[i][2]))\n",
    "    return words\n",
    "\n",
    "\n",
    "def main():\n",
    "    # build_txt(\"example6.txt\")\n",
    "    words = read_txt(\"example6.txt\")\n",
    "    words = cal_pay(words)\n",
    "    for i in range(len(words)):\n",
    "        if i == 0:\n",
    "            table = PrettyTable(words[0])\n",
    "        else:\n",
    "            table.add_row(words[i])\n",
    "    print(table)\n",
    "\n",
    "\n",
    "if __name__ == '__main__':\n",
    "    main()\n"
   ]
  }
 ],
 "metadata": {
  "kernelspec": {
   "display_name": "Python 3",
   "language": "python",
   "name": "python3"
  },
  "language_info": {
   "codemirror_mode": {
    "name": "ipython",
    "version": 3
   },
   "file_extension": ".py",
   "mimetype": "text/x-python",
   "name": "python",
   "nbconvert_exporter": "python",
   "pygments_lexer": "ipython3",
   "version": "3.6.5"
  },
  "toc": {
   "base_numbering": 1,
   "nav_menu": {},
   "number_sections": true,
   "sideBar": true,
   "skip_h1_title": false,
   "title_cell": "Table of Contents",
   "title_sidebar": "Contents",
   "toc_cell": false,
   "toc_position": {},
   "toc_section_display": true,
   "toc_window_display": false
  }
 },
 "nbformat": 4,
 "nbformat_minor": 2
}
