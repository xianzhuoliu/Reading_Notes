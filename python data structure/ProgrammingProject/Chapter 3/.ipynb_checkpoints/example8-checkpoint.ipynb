{
 "cells": [
  {
   "cell_type": "code",
   "execution_count": 1,
   "metadata": {},
   "outputs": [
    {
     "data": {
      "text/plain": [
       "'最好情况，每次random.randint都返回不重复数字，O(n)\\n最坏情况，每次random.randint都返回重复数字，O(n^2)\\n平均情况，接近最坏情况'"
      ]
     },
     "execution_count": 1,
     "metadata": {},
     "output_type": "execute_result"
    }
   ],
   "source": [
    "\"\"\" The function makeRandomList creates and returns a list of numbers of a given size\n",
    "(its argument). The numbers in the list are unique and range from 1 through the\n",
    "size. They are placed in random order. Here is the code for the function:\n",
    "def makeRandomList(size):\n",
    "lyst = []\n",
    "for count in range(size):\n",
    "while True:\n",
    "number = random.randint(1, size)\n",
    "if not number in lyst:\n",
    "lyst.append(number)\n",
    "break\n",
    "return lyst\n",
    "You can assume that range , randint , and append are constant time functions. You\n",
    "can also assume that random.randint more rarely returns duplicate numbers as the\n",
    "range between its arguments increases. State the computational complexity of this\n",
    "function using big-O notation, and justify your answer.\"\"\"\n",
    "\n",
    "\"\"\"最好情况，每次random.randint都返回不重复数字，O(n)\n",
    "最坏情况，每次random.randint都返回重复数字，O(n^2)\n",
    "平均情况，接近最坏情况\"\"\"\n",
    "\n"
   ]
  }
 ],
 "metadata": {
  "kernelspec": {
   "display_name": "Python 3",
   "language": "python",
   "name": "python3"
  },
  "language_info": {
   "codemirror_mode": {
    "name": "ipython",
    "version": 3
   },
   "file_extension": ".py",
   "mimetype": "text/x-python",
   "name": "python",
   "nbconvert_exporter": "python",
   "pygments_lexer": "ipython3",
   "version": "3.6.5"
  },
  "latex_envs": {
   "LaTeX_envs_menu_present": true,
   "autoclose": false,
   "autocomplete": true,
   "bibliofile": "biblio.bib",
   "cite_by": "apalike",
   "current_citInitial": 1,
   "eqLabelWithNumbers": true,
   "eqNumInitial": 1,
   "hotkeys": {
    "equation": "Ctrl-E",
    "itemize": "Ctrl-I"
   },
   "labels_anchors": false,
   "latex_user_defs": false,
   "report_style_numbering": false,
   "user_envs_cfg": false
  },
  "toc": {
   "base_numbering": 1,
   "nav_menu": {},
   "number_sections": true,
   "sideBar": true,
   "skip_h1_title": false,
   "title_cell": "Table of Contents",
   "title_sidebar": "Contents",
   "toc_cell": false,
   "toc_position": {},
   "toc_section_display": true,
   "toc_window_display": false
  }
 },
 "nbformat": 4,
 "nbformat_minor": 2
}
