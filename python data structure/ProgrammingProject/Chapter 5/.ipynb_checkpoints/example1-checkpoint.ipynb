{
 "cells": [
  {
   "cell_type": "code",
   "execution_count": 48,
   "metadata": {},
   "outputs": [
    {
     "name": "stdout",
     "output_type": "stream",
     "text": [
      "True\n",
      "the elapse time is:  0.0009999275207519531\n",
      "True\n",
      "the elapse time is:  0.0009999275207519531\n"
     ]
    }
   ],
   "source": [
    "import sys\n",
    "sys.path.append('..\\..\\ExamplePrograms\\Ch_5_Student_Files')\n",
    "\n",
    "from arraybag import ArrayBag\n",
    "from linkedbag import LinkedBag\n",
    "import random\n",
    "import time\n",
    "\n",
    "lyst = []\n",
    "for i in range(10000):\n",
    "    lyst.append(random.randint(0, 10000))\n",
    "\n",
    "array1 = ArrayBag([lyst])\n",
    "linked1 = LinkedBag([lyst])\n",
    "\n",
    "random.shuffle(lyst)\n",
    "\n",
    "array2 = ArrayBag([lyst])\n",
    "linked2 = LinkedBag([lyst])\n",
    "\n",
    "start = time.time()\n",
    "print(array1 == array2)\n",
    "print('the elapse time is: ', time.time() - start)\n",
    "\n",
    "start = time.time()\n",
    "print(linked1 == linked2)\n",
    "print('the elapse time is: ', time.time() - start)"
   ]
  },
  {
   "cell_type": "code",
   "execution_count": 27,
   "metadata": {},
   "outputs": [
    {
     "name": "stdout",
     "output_type": "stream",
     "text": [
      "[4, 3, 1, 2]\n"
     ]
    }
   ],
   "source": [
    "list_ = [1, 2, 3, 4]\n",
    "random.shuffle(list_)\n",
    "print(list_)"
   ]
  },
  {
   "cell_type": "code",
   "execution_count": 28,
   "metadata": {},
   "outputs": [
    {
     "name": "stdout",
     "output_type": "stream",
     "text": [
      "Help on method randint in module random:\n",
      "\n",
      "randint(a, b) method of random.Random instance\n",
      "    Return random integer in range [a, b], including both end points.\n",
      "\n"
     ]
    }
   ],
   "source": [
    "help(random.randint)"
   ]
  }
 ],
 "metadata": {
  "kernelspec": {
   "display_name": "Python 3",
   "language": "python",
   "name": "python3"
  },
  "language_info": {
   "codemirror_mode": {
    "name": "ipython",
    "version": 3
   },
   "file_extension": ".py",
   "mimetype": "text/x-python",
   "name": "python",
   "nbconvert_exporter": "python",
   "pygments_lexer": "ipython3",
   "version": "3.6.5"
  },
  "latex_envs": {
   "LaTeX_envs_menu_present": true,
   "autoclose": false,
   "autocomplete": true,
   "bibliofile": "biblio.bib",
   "cite_by": "apalike",
   "current_citInitial": 1,
   "eqLabelWithNumbers": true,
   "eqNumInitial": 1,
   "hotkeys": {
    "equation": "Ctrl-E",
    "itemize": "Ctrl-I"
   },
   "labels_anchors": false,
   "latex_user_defs": false,
   "report_style_numbering": false,
   "user_envs_cfg": false
  },
  "toc": {
   "base_numbering": 1,
   "nav_menu": {},
   "number_sections": true,
   "sideBar": true,
   "skip_h1_title": false,
   "title_cell": "Table of Contents",
   "title_sidebar": "Contents",
   "toc_cell": false,
   "toc_position": {},
   "toc_section_display": true,
   "toc_window_display": false
  }
 },
 "nbformat": 4,
 "nbformat_minor": 2
}
