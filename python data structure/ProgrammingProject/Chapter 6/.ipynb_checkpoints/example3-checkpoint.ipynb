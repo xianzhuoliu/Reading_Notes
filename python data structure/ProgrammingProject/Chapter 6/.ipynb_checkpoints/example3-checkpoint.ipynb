{
 "cells": [
  {
   "cell_type": "code",
   "execution_count": 1,
   "metadata": {},
   "outputs": [],
   "source": [
    "import sys\n",
    "sys.path.append('..\\..\\ExamplePrograms\\Ch_5_Student_Files')\n",
    "sys.path.append('..\\..\\ExamplePrograms\\Ch_6_Student_Files\\Abstract Collection')"
   ]
  },
  {
   "cell_type": "code",
   "execution_count": null,
   "metadata": {},
   "outputs": [],
   "source": [
    "class AbstractCollection(object):\n",
    "    \"\"\"An abstract bag implementation.\"\"\"\n",
    "\n",
    "    # Constructor\n",
    "    def __init__(self, sourceCollection = None):\n",
    "        \"\"\"Sets the initial state of self, which includes the\n",
    "        contents of sourceCollection, if it's present.\"\"\"\n",
    "        self._size = 0\n",
    "        if sourceCollection:\n",
    "            for item in sourceCollection:\n",
    "                self.add(item)\n",
    "\n",
    "    # Accessor methods\n",
    "    def isEmpty(self):\n",
    "        \"\"\"Returns True if len(self) == 0, or False otherwise.\"\"\"\n",
    "        return len(self) == 0\n",
    "    \n",
    "    def __len__(self):\n",
    "        \"\"\"Returns the number of items in self.\"\"\"\n",
    "        return self._size\n",
    "\n",
    "    def __str__(self):\n",
    "        \"\"\"Returns the string representation of self.\"\"\"\n",
    "        return \"{\" + \", \".join(map(str, self)) + \"}\"\n",
    "\n",
    "    def __add__(self, other):\n",
    "        \"\"\"Returns a new bag containing the contents\n",
    "        of self and other.\"\"\"\n",
    "        result = type(self)(self)\n",
    "        for item in other:\n",
    "            result.add(item)\n",
    "        return result\n",
    "\n",
    "    def __eq__(self, other):\n",
    "        \"\"\"Returns True if self equals other,\n",
    "        or False otherwise.\"\"\"\n",
    "        if self is other: return True\n",
    "        if type(self) != type(other) or \\\n",
    "           len(self) != len(other):\n",
    "            return False\n",
    "        for item in self:\n",
    "            if not item in other:\n",
    "                return False\n",
    "        return True\n"
   ]
  }
 ],
 "metadata": {
  "kernelspec": {
   "display_name": "Python 3",
   "language": "python",
   "name": "python3"
  },
  "language_info": {
   "codemirror_mode": {
    "name": "ipython",
    "version": 3
   },
   "file_extension": ".py",
   "mimetype": "text/x-python",
   "name": "python",
   "nbconvert_exporter": "python",
   "pygments_lexer": "ipython3",
   "version": "3.6.5"
  },
  "latex_envs": {
   "LaTeX_envs_menu_present": true,
   "autoclose": false,
   "autocomplete": true,
   "bibliofile": "biblio.bib",
   "cite_by": "apalike",
   "current_citInitial": 1,
   "eqLabelWithNumbers": true,
   "eqNumInitial": 1,
   "hotkeys": {
    "equation": "Ctrl-E",
    "itemize": "Ctrl-I"
   },
   "labels_anchors": false,
   "latex_user_defs": false,
   "report_style_numbering": false,
   "user_envs_cfg": false
  },
  "toc": {
   "base_numbering": 1,
   "nav_menu": {},
   "number_sections": true,
   "sideBar": true,
   "skip_h1_title": false,
   "title_cell": "Table of Contents",
   "title_sidebar": "Contents",
   "toc_cell": false,
   "toc_position": {},
   "toc_section_display": true,
   "toc_window_display": false
  }
 },
 "nbformat": 4,
 "nbformat_minor": 2
}
