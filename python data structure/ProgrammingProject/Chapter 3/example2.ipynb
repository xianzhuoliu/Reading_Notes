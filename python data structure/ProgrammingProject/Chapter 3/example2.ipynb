{
 "cells": [
  {
   "cell_type": "code",
   "execution_count": 5,
   "metadata": {},
   "outputs": [
    {
     "data": {
      "text/plain": [
       "[2, 1]"
      ]
     },
     "execution_count": 5,
     "metadata": {},
     "output_type": "execute_result"
    }
   ],
   "source": [
    "\"\"\" The list method reverse reverses the elements in the list. Define a function\n",
    "named reverse that reverses the elements in its list argument (without using the\n",
    "method reverse ). Try to make this function as efficient as possible, and state its\n",
    "computational complexity using big-O notation.\"\"\"\n",
    "\n",
    "def swap(list_, s1, s2):\n",
    "    temp = 0\n",
    "    temp = list_[s1]\n",
    "    list_[s1] = list_[s2]\n",
    "    list_[s2] = temp\n",
    "    return list_\n",
    "    \n",
    "list_ = [1, 2]\n",
    "swap(list_, 0, 1)"
   ]
  },
  {
   "cell_type": "code",
   "execution_count": 8,
   "metadata": {},
   "outputs": [
    {
     "name": "stdout",
     "output_type": "stream",
     "text": [
      "[6, 8, 3, 0, 5, 6, 6, 9, 5]\n"
     ]
    },
    {
     "data": {
      "text/plain": [
       "[5, 9, 6, 6, 5, 0, 3, 8, 6]"
      ]
     },
     "execution_count": 8,
     "metadata": {},
     "output_type": "execute_result"
    }
   ],
   "source": [
    "def reverse(list_):\n",
    "    for i in range(len(list_)//2):\n",
    "        swap(list_, i, -(i+1))\n",
    "    return list_\n",
    "\n",
    "import random\n",
    "\n",
    "list_ = []\n",
    "for i in range(9):\n",
    "    list_.append(random.randint(0, 10))\n",
    "print(list_)\n",
    "reverse(list_)\n",
    "\n"
   ]
  }
 ],
 "metadata": {
  "kernelspec": {
   "display_name": "Python 3",
   "language": "python",
   "name": "python3"
  },
  "language_info": {
   "codemirror_mode": {
    "name": "ipython",
    "version": 3
   },
   "file_extension": ".py",
   "mimetype": "text/x-python",
   "name": "python",
   "nbconvert_exporter": "python",
   "pygments_lexer": "ipython3",
   "version": "3.6.5"
  },
  "latex_envs": {
   "LaTeX_envs_menu_present": true,
   "autoclose": false,
   "autocomplete": true,
   "bibliofile": "biblio.bib",
   "cite_by": "apalike",
   "current_citInitial": 1,
   "eqLabelWithNumbers": true,
   "eqNumInitial": 1,
   "hotkeys": {
    "equation": "Ctrl-E",
    "itemize": "Ctrl-I"
   },
   "labels_anchors": false,
   "latex_user_defs": false,
   "report_style_numbering": false,
   "user_envs_cfg": false
  },
  "toc": {
   "base_numbering": 1,
   "nav_menu": {},
   "number_sections": true,
   "sideBar": true,
   "skip_h1_title": false,
   "title_cell": "Table of Contents",
   "title_sidebar": "Contents",
   "toc_cell": false,
   "toc_position": {},
   "toc_section_display": true,
   "toc_window_display": false
  }
 },
 "nbformat": 4,
 "nbformat_minor": 2
}
