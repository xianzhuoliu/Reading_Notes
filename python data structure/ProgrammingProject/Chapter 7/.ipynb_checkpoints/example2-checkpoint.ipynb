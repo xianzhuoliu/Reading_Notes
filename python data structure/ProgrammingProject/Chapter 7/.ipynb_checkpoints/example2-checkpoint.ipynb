{
 "cells": [
  {
   "cell_type": "code",
   "execution_count": 1,
   "metadata": {},
   "outputs": [],
   "source": [
    "import sys\n",
    "sys.path.append('..\\..\\ExamplePrograms\\Ch_7_Student_Files')"
   ]
  },
  {
   "cell_type": "code",
   "execution_count": 8,
   "metadata": {},
   "outputs": [
    {
     "name": "stdout",
     "output_type": "stream",
     "text": [
      "please input the string: abaaaba\n",
      "[a, b, a]\n",
      "match  a\n",
      "match  b\n",
      "match  a\n",
      "it is a panlidrome string\n"
     ]
    }
   ],
   "source": [
    "from arraystack import ArrayStack\n",
    "\n",
    "def panlidrome(strTest):\n",
    "    lyst = []\n",
    "    for i in strTest:\n",
    "        lyst.append(i)\n",
    "#     print(lyst)\n",
    "    midPoint = len(lyst) // 2\n",
    "    stack = ArrayStack()\n",
    "    for i in range(midPoint):\n",
    "        stack.push(lyst[i])\n",
    "    print(stack)\n",
    "    if len(lyst) % 2 == 1:\n",
    "        midPoint += 1\n",
    "    for i in lyst[midPoint:]:\n",
    "        if i == stack.peek():\n",
    "            print('match ', i )\n",
    "            stack.pop()\n",
    "        else:\n",
    "            print(\"it is not a panlidrome string\")\n",
    "            break\n",
    "    if stack.isEmpty():\n",
    "        print('it is a panlidrome string')\n",
    "    pass\n",
    "            \n",
    "def main():\n",
    "    strTest = input('please input the string: ')\n",
    "    panlidrome(strTest)\n",
    "    \n",
    "if __name__ == '__main__':\n",
    "    main()"
   ]
  },
  {
   "cell_type": "code",
   "execution_count": 8,
   "metadata": {},
   "outputs": [
    {
     "name": "stdout",
     "output_type": "stream",
     "text": [
      "please input the string: aabbaa\n",
      "a\n",
      "a\n",
      "b\n",
      "b\n",
      "a\n",
      "a\n"
     ]
    }
   ],
   "source": [
    "strTest = input('please input the string: ')\n",
    "for i in strTest:\n",
    "    print(i)\n",
    "# print(lyst)"
   ]
  },
  {
   "cell_type": "code",
   "execution_count": 3,
   "metadata": {},
   "outputs": [
    {
     "name": "stdout",
     "output_type": "stream",
     "text": [
      "[0, 1, 2, 3, 4, 5, 6, 7, 8, 9, 10]\n"
     ]
    }
   ],
   "source": [
    "stack = ArrayStack()\n",
    "for i in range(11):\n",
    "    stack.push(i)\n",
    "print(stack)"
   ]
  },
  {
   "cell_type": "code",
   "execution_count": 12,
   "metadata": {},
   "outputs": [
    {
     "name": "stdout",
     "output_type": "stream",
     "text": [
      "Please enter a string:aabbaac\n",
      "aabbaac is not a Palindrome string.\n"
     ]
    }
   ],
   "source": [
    "\"\"\"标准答案\"\"\"\n",
    "\n",
    "from linkedstack import LinkedStack\n",
    "def main():\n",
    "    ch = input(\"Please enter a string:\")\n",
    "    stack = LinkedStack()\n",
    "    for i in ch:\n",
    "        if stack.isEmpty() or stack.peek() != i:\n",
    "            stack.push(i)\n",
    "        else:\n",
    "            stack.pop()\n",
    "    if stack.isEmpty():\n",
    "        print(\"{} is a Palindrome string.\".format(ch))\n",
    "    else:\n",
    "        print(\"{} is not a Palindrome string.\".format(ch))\n",
    "\n",
    "\n",
    "if __name__ == '__main__':\n",
    "    main()"
   ]
  }
 ],
 "metadata": {
  "kernelspec": {
   "display_name": "Python 3",
   "language": "python",
   "name": "python3"
  },
  "language_info": {
   "codemirror_mode": {
    "name": "ipython",
    "version": 3
   },
   "file_extension": ".py",
   "mimetype": "text/x-python",
   "name": "python",
   "nbconvert_exporter": "python",
   "pygments_lexer": "ipython3",
   "version": "3.6.5"
  },
  "latex_envs": {
   "LaTeX_envs_menu_present": true,
   "autoclose": false,
   "autocomplete": true,
   "bibliofile": "biblio.bib",
   "cite_by": "apalike",
   "current_citInitial": 1,
   "eqLabelWithNumbers": true,
   "eqNumInitial": 1,
   "hotkeys": {
    "equation": "Ctrl-E",
    "itemize": "Ctrl-I"
   },
   "labels_anchors": false,
   "latex_user_defs": false,
   "report_style_numbering": false,
   "user_envs_cfg": false
  },
  "toc": {
   "base_numbering": 1,
   "nav_menu": {},
   "number_sections": true,
   "sideBar": true,
   "skip_h1_title": false,
   "title_cell": "Table of Contents",
   "title_sidebar": "Contents",
   "toc_cell": false,
   "toc_position": {},
   "toc_section_display": true,
   "toc_window_display": false
  }
 },
 "nbformat": 4,
 "nbformat_minor": 2
}
