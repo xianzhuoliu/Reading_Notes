{
 "cells": [
  {
   "cell_type": "code",
   "execution_count": 41,
   "metadata": {},
   "outputs": [
    {
     "name": "stdout",
     "output_type": "stream",
     "text": [
      "please input the number list1 2 1 1 1 3\n",
      "[1, 2, 1, 1, 1, 3]\n",
      "[1, 1, 1, 1, 2, 3]\n",
      "this is mean: 1.5\n",
      "this is median: 1.0\n",
      "this is mode: 1\n"
     ]
    }
   ],
   "source": [
    "\"\"\"Statisticians would like to have a set of functions to compute the median and\n",
    "mode of a list of numbers. The median is the number that would appear at the\n",
    "midpoint of a list if it were sorted. The mode is the number that appears most\n",
    "frequently in the list. Define these functions in a module named stats.py . Also\n",
    "include a function named mean , which computes the average of a set of numbers.\n",
    "Each function expects a list of numbers as an argument and returns a single\n",
    "number.\"\"\"\n",
    "\n",
    "class Stats(object):\n",
    "    def __init__(self, list):\n",
    "        list.sort()                       #注意是在原list上进行sort，不是复制一个新的\n",
    "        self.list = list\n",
    "        print(self.list)\n",
    "    def __str__(self):\n",
    "        return self.list\n",
    "    def median(self):\n",
    "        if len(self.list)%2 == 0:\n",
    "            median = (self.list[len(self.list)//2] + self.list[len(self.list)//2 - 1]) / 2\n",
    "        if len(self.list)%2 == 1:\n",
    "            median = self.list[len(self.list)//2 + 1]\n",
    "        return median\n",
    "    def mode(self):\n",
    "        sum = [0]*len(self.list)\n",
    "        for i in range(len(self.list)):\n",
    "            sum[i] = 0\n",
    "            for j in range(len(self.list)):\n",
    "                if j == i:\n",
    "                    sum[i] += 1\n",
    "        index = sum.index(max(sum))\n",
    "        return self.list[index]\n",
    "    def mean(self):\n",
    "        return sum(self.list)/len(self.list)\n",
    "    \n",
    "list_ = input('please input the number list')\n",
    "list = list_.split()\n",
    "for i in range(len(list)):\n",
    "    list[i] = int(list[i])\n",
    "print(list)\n",
    "stats = Stats(list)\n",
    "print('this is mean:', stats.mean())\n",
    "print('this is median:', stats.median())\n",
    "print('this is mode:', stats.mode())\n"
   ]
  },
  {
   "cell_type": "code",
   "execution_count": 42,
   "metadata": {},
   "outputs": [
    {
     "name": "stdout",
     "output_type": "stream",
     "text": [
      "Please enter number:1 2 3 4\n",
      "Mean value of list is: 2.5\n",
      "Median value of list is: 2.5\n",
      "Mode value of list is: 1\n"
     ]
    }
   ],
   "source": [
    "\"\"\"标准答案\"\"\"\n",
    "\n",
    "class Stats(object):\n",
    "    def __init__(self, list_):\n",
    "        list_.sort()\n",
    "        self.list_ = list_\n",
    "\n",
    "    def __str__(self):\n",
    "        return str(self.list_)\n",
    "\n",
    "    def mean(self):\n",
    "        return sum(self.list_) / len(self.list_)\n",
    "\n",
    "    def median(self):\n",
    "        if len(self.list_) % 2 == 0:\n",
    "            return (self.list_[len(self.list_)//2] + self.list_[len(self.list_)//2 - 1]) / 2\n",
    "        else:\n",
    "            return self.list_[len(self.list_)//2]\n",
    "\n",
    "    def mode(self):\n",
    "        sum_ = 1\n",
    "        max_sum = 1\n",
    "        index = 0\n",
    "        temp = self.list_[0]\n",
    "        for i in range(1, len(self.list_)):\n",
    "            if self.list_[i] == temp:\n",
    "                sum_ += 1\n",
    "            else:\n",
    "                temp = self.list_[i]\n",
    "                if sum_ > max_sum:\n",
    "                    max_sum = sum_\n",
    "                    index = i - 1\n",
    "                sum_ = 1\n",
    "        if sum_ > max_sum:\n",
    "            index = len(self.list_) - 1\n",
    "        return self.list_[index]\n",
    "\n",
    "\n",
    "def main():\n",
    "    list_num = input(\"Please enter number:\")\n",
    "    list_ = []\n",
    "    for i in list_num.split():\n",
    "        list_.append(int(i))\n",
    "    stats = Stats(list_)\n",
    "    print(\"Mean value of list is:\", stats.mean())\n",
    "    print(\"Median value of list is:\", stats.median())\n",
    "    print(\"Mode value of list is:\", stats.mode())\n",
    "\n",
    "\n",
    "if __name__ == '__main__':\n",
    "    main()"
   ]
  }
 ],
 "metadata": {
  "kernelspec": {
   "display_name": "Python 3",
   "language": "python",
   "name": "python3"
  },
  "language_info": {
   "codemirror_mode": {
    "name": "ipython",
    "version": 3
   },
   "file_extension": ".py",
   "mimetype": "text/x-python",
   "name": "python",
   "nbconvert_exporter": "python",
   "pygments_lexer": "ipython3",
   "version": "3.6.5"
  },
  "toc": {
   "base_numbering": 1,
   "nav_menu": {},
   "number_sections": true,
   "sideBar": true,
   "skip_h1_title": false,
   "title_cell": "Table of Contents",
   "title_sidebar": "Contents",
   "toc_cell": false,
   "toc_position": {},
   "toc_section_display": true,
   "toc_window_display": false
  }
 },
 "nbformat": 4,
 "nbformat_minor": 2
}
