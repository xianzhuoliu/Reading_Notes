{
 "cells": [
  {
   "cell_type": "code",
   "execution_count": 55,
   "metadata": {},
   "outputs": [
    {
     "name": "stdout",
     "output_type": "stream",
     "text": [
      "{0, 1, 2, 3, 4, 5, 6, 7, 8}\n",
      "{0, 1, 2, 3, 4, 5, 7, 8}\n"
     ]
    }
   ],
   "source": [
    "\"\"\" Complete the code for the ArrayBag methods add and remove , so that the array is\n",
    "resized when necessary.\"\"\"\n",
    "\n",
    "import sys\n",
    "sys.path.append('..\\..\\ExamplePrograms\\Ch_4_Student_Files')\n",
    "\n",
    "from arrays import Array\n",
    "\n",
    "class ArrayBag(object):\n",
    "    \"\"\"An array-based bag implementation.\"\"\"\n",
    "\n",
    "    # Class variable\n",
    "    DEFAULT_CAPACITY = 10\n",
    "\n",
    "    # Constructor\n",
    "    def __init__(self, sourceCollection = None):\n",
    "        \"\"\"Sets the initial state of self, which includes the\n",
    "        contents of sourceCollection, if it's present.\"\"\"\n",
    "        self._items = Array(ArrayBag.DEFAULT_CAPACITY)\n",
    "        self._size = 0                                   # logical size\n",
    "        if sourceCollection:\n",
    "            for item in sourceCollection:\n",
    "                self.add(item)\n",
    "\n",
    "    # Accessor methods\n",
    "    def isEmpty(self):\n",
    "        \"\"\"Returns True if len(self) == 0, or False otherwise.\"\"\"\n",
    "        return len(self) == 0\n",
    "    \n",
    "    def __len__(self):\n",
    "        \"\"\"Returns the number of items in self.\"\"\"\n",
    "        return self._size\n",
    "\n",
    "    def __str__(self):\n",
    "        \"\"\"Returns the string representation of self.\"\"\"\n",
    "        return \"{\" + \", \".join(map(str, self)) + \"}\"\n",
    "\n",
    "    def __iter__(self):\n",
    "        \"\"\"Supports iteration over a view of self.\"\"\"\n",
    "        cursor = 0\n",
    "        while cursor < len(self):\n",
    "            yield self._items[cursor]\n",
    "            cursor += 1\n",
    "\n",
    "    def __add__(self, other):\n",
    "        \"\"\"Returns a new bag containing the contents\n",
    "        of self and other.\"\"\"\n",
    "        result = ArrayBag(self)\n",
    "        for item in other:\n",
    "            result.add(item)\n",
    "        return result\n",
    "\n",
    "    def __eq__(self, other):\n",
    "        \"\"\"Returns True if self equals other,\n",
    "        or False otherwise.\"\"\"\n",
    "        if self is other: return True\n",
    "        if type(self) != type(other) or \\\n",
    "           len(self) != len(other):\n",
    "            return False\n",
    "        for item in self:\n",
    "            if not item in other:\n",
    "                return False\n",
    "        return True\n",
    "\n",
    "    # Mutator methods\n",
    "    def clear(self):\n",
    "        \"\"\"Makes self become empty.\"\"\"\n",
    "        # Exercise\n",
    "        pass\n",
    "\n",
    "    def add(self, item):\n",
    "        \"\"\"Adds item to self.\"\"\"\n",
    "        # Check array memory here and increase it if necessary\n",
    "        # Exercise\n",
    "        self._items[len(self)] = item\n",
    "        self._size += 1\n",
    "        if len(self._items) ==  len(self): #len(self._items)返回物理大小, len(self)返回逻辑大小\n",
    "            temp = Array(len(self) + 1)\n",
    "            for i in range(len(self)):\n",
    "                temp._items[i] = self._items[i]\n",
    "            self._items = temp             # 注意temp是Array参数，self._items是Array参数，要注意对应\n",
    "\n",
    "    def remove(self, item):\n",
    "        \"\"\"Precondition: item is in self.\n",
    "        Raises: KeyError if item in not in self.\n",
    "        Postcondition: item is removed from self.\"\"\"\n",
    "        # Check precondition and raise if necessary\n",
    "        if not item in self:\n",
    "            raise KeyError(str(item) + \" not in bag\")\n",
    "        # Search for the index of the target item\n",
    "        targetIndex = 0\n",
    "        for targetItem in self:\n",
    "            if targetItem == item:\n",
    "                break\n",
    "            targetIndex += 1\n",
    "        # Shift items to the left of target up by one position\n",
    "        for i in range(targetIndex, len(self) - 1):\n",
    "            self._items[i] = self._items[i + 1]\n",
    "        # Decrement logical size\n",
    "        self._size -= 1\n",
    "        # Check array memory here and decrease it if necessary\n",
    "        # Exercise\n",
    "        if len(self._items)*0.75 > len(self):\n",
    "            temp = Array(int(len(self._items) * 0.75 // 1))\n",
    "            for i in range(len(self)):\n",
    "                temp[i] = self._items[i]\n",
    "            self._items = temp\n",
    "            \n",
    "        \n",
    "def main():\n",
    "    lyst = []\n",
    "    for i in range(12):\n",
    "        lyst.append(i)\n",
    "    a = ArrayBag(lyst)\n",
    "#     print(lyst)\n",
    "    \n",
    "    a.remove(9)\n",
    "    a.remove(10)\n",
    "    a.remove(11)\n",
    "    print(a)\n",
    "    a.remove(6)\n",
    "    print(a)\n",
    "    \n",
    "if __name__ == '__main__':\n",
    "    main()"
   ]
  },
  {
   "cell_type": "code",
   "execution_count": 50,
   "metadata": {},
   "outputs": [
    {
     "data": {
      "text/plain": [
       "9.0"
      ]
     },
     "execution_count": 50,
     "metadata": {},
     "output_type": "execute_result"
    }
   ],
   "source": [
    "13 * 0.75 // 1 "
   ]
  },
  {
   "cell_type": "code",
   "execution_count": 61,
   "metadata": {},
   "outputs": [
    {
     "name": "stdout",
     "output_type": "stream",
     "text": [
      "Help on wrapper_descriptor:\n",
      "\n",
      "__str__(self, /)\n",
      "    Return str(self).\n",
      "\n"
     ]
    }
   ],
   "source": [
    "help(str.__str__)"
   ]
  }
 ],
 "metadata": {
  "kernelspec": {
   "display_name": "Python 3",
   "language": "python",
   "name": "python3"
  },
  "language_info": {
   "codemirror_mode": {
    "name": "ipython",
    "version": 3
   },
   "file_extension": ".py",
   "mimetype": "text/x-python",
   "name": "python",
   "nbconvert_exporter": "python",
   "pygments_lexer": "ipython3",
   "version": "3.6.5"
  },
  "latex_envs": {
   "LaTeX_envs_menu_present": true,
   "autoclose": false,
   "autocomplete": true,
   "bibliofile": "biblio.bib",
   "cite_by": "apalike",
   "current_citInitial": 1,
   "eqLabelWithNumbers": true,
   "eqNumInitial": 1,
   "hotkeys": {
    "equation": "Ctrl-E",
    "itemize": "Ctrl-I"
   },
   "labels_anchors": false,
   "latex_user_defs": false,
   "report_style_numbering": false,
   "user_envs_cfg": false
  },
  "toc": {
   "base_numbering": 1,
   "nav_menu": {},
   "number_sections": true,
   "sideBar": true,
   "skip_h1_title": false,
   "title_cell": "Table of Contents",
   "title_sidebar": "Contents",
   "toc_cell": false,
   "toc_position": {},
   "toc_section_display": true,
   "toc_window_display": false
  }
 },
 "nbformat": 4,
 "nbformat_minor": 2
}
