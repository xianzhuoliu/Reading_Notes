{
 "cells": [
  {
   "cell_type": "code",
   "execution_count": 1,
   "metadata": {},
   "outputs": [],
   "source": [
    "import sys\n",
    "sys.path.append('..\\..\\ExamplePrograms\\Ch_7_Student_Files')"
   ]
  },
  {
   "cell_type": "code",
   "execution_count": 44,
   "metadata": {},
   "outputs": [],
   "source": [
    "from arrays import Array\n",
    "from abstractstack import AbstractStack\n",
    "\n",
    "class ArrayStack(AbstractStack):\n",
    "    \"\"\"An array-based stack implementation.\"\"\"\n",
    "\n",
    "    # Class variable\n",
    "    DEFAULT_CAPACITY = 10\n",
    "\n",
    "    # Constructor\n",
    "    def __init__(self, sourceCollection = None):\n",
    "        \"\"\"Sets the initial state of self, which includes the\n",
    "        contents of sourceCollection, if it's present.\"\"\"\n",
    "        self._items = Array(ArrayStack.DEFAULT_CAPACITY)\n",
    "        AbstractStack.__init__(self, sourceCollection)\n",
    "\n",
    "    # Accessor methods\n",
    "    def __iter__(self):\n",
    "        \"\"\"Supports iteration over a view of self.\n",
    "        Visits items from bottom to top of stack.\"\"\"\n",
    "        cursor = 0\n",
    "        while cursor < len(self):\n",
    "            yield self._items[cursor]\n",
    "            cursor += 1\n",
    "\n",
    "    def peek(self):\n",
    "        \"\"\"Returns the item at the top of the stack.\n",
    "        Precondition: the stack is not empty.\n",
    "        Raises: KeyError if stack is empty.\"\"\"\n",
    "        if self.isEmpty():\n",
    "            raise KeyError(\"The stack is empty\")\n",
    "        return self._items[len(self) - 1]\n",
    "\n",
    "    # Mutator methods\n",
    "    def clear(self):\n",
    "        \"\"\"Makes self become empty.\"\"\"\n",
    "        self._size = 0\n",
    "        self._items = Array(ArrayStack.DEFAULT_CAPACITY)\n",
    "\n",
    "    def push(self, item):\n",
    "        \"\"\"Inserts item at top of the stack.\"\"\"\n",
    "        # Resize array here if necessary\n",
    "        if len(self) == self.DEFAULT_CAPACITY:\n",
    "            temp = Array(self.DEFAULT_CAPACITY + 1)\n",
    "            for i in range(len(self)):\n",
    "                temp[i] = self._items[i]\n",
    "            self._items = temp\n",
    "            self.DEFAULT_CAPACITY = int(self.DEFAULT_CAPACITY + 1)\n",
    "            \n",
    "        self._items[len(self)] = item\n",
    "        self._size += 1\n",
    "\n",
    "    def pop(self):\n",
    "        \"\"\"Removes and returns the item at the top of the stack.\n",
    "        Precondition: the stack is not empty.\n",
    "        Raises: KeyError if stack is empty.\n",
    "        Postcondition: the top item is removed from the stack.\"\"\"\n",
    "        if self.isEmpty():\n",
    "            raise KeyError(\"The stack is empty\")\n",
    "        oldItem = self._items[len(self) - 1]\n",
    "        self._size -= 1\n",
    "    \n",
    "        # Resize the array here if necessary\n",
    "        if len(self) <= self.DEFAULT_CAPACITY * 0.5:\n",
    "            temp = Array(int(ArrayStack.DEFAULT_CAPACITY * 0.75 // 1))\n",
    "            for i in range(len(self)):\n",
    "                temp[i] = self._items[i]\n",
    "            self._items = temp\n",
    "            self.DEFAULT_CAPACITY = int(ArrayStack.DEFAULT_CAPACITY * 0.75)\n",
    "        print('len(self): ', len(self),' ', 'self.DEFAULT_CAPACITY: ', self.DEFAULT_CAPACITY)\n",
    "        return oldItem"
   ]
  },
  {
   "cell_type": "code",
   "execution_count": 45,
   "metadata": {},
   "outputs": [
    {
     "name": "stdout",
     "output_type": "stream",
     "text": [
      "[0, 1, 2, 3, 4, 5, 6, 7, 8, 9, 10]\n",
      "len(self):  10   self.DEFAULT_CAPACITY:  11\n",
      "[0, 1, 2, 3, 4, 5, 6, 7, 8, 9]\n",
      "[0, 1, 2, 3, 4, 5, 6, 7, 8, 9, 10]\n",
      "[0, 1, 2, 3, 4, 5, 6, 7, 8, 9, 10, 11]\n",
      "[0, 1, 2, 3, 4, 5, 6, 7, 8, 9, 10, 11, 12]\n",
      "len(self):  12   self.DEFAULT_CAPACITY:  13\n",
      "[0, 1, 2, 3, 4, 5, 6, 7, 8, 9, 10, 11]\n",
      "len(self):  11   self.DEFAULT_CAPACITY:  13\n",
      "[0, 1, 2, 3, 4, 5, 6, 7, 8, 9, 10]\n",
      "len(self):  10   self.DEFAULT_CAPACITY:  13\n",
      "[0, 1, 2, 3, 4, 5, 6, 7, 8, 9]\n",
      "len(self):  9   self.DEFAULT_CAPACITY:  13\n",
      "[0, 1, 2, 3, 4, 5, 6, 7, 8]\n",
      "len(self):  8   self.DEFAULT_CAPACITY:  13\n",
      "[0, 1, 2, 3, 4, 5, 6, 7]\n",
      "len(self):  7   self.DEFAULT_CAPACITY:  13\n",
      "[0, 1, 2, 3, 4, 5, 6]\n",
      "len(self):  6   self.DEFAULT_CAPACITY:  7\n",
      "[0, 1, 2, 3, 4, 5]\n",
      "len(self):  5   self.DEFAULT_CAPACITY:  7\n",
      "[0, 1, 2, 3, 4]\n",
      "len(self):  4   self.DEFAULT_CAPACITY:  7\n"
     ]
    },
    {
     "data": {
      "text/plain": [
       "4"
      ]
     },
     "execution_count": 45,
     "metadata": {},
     "output_type": "execute_result"
    }
   ],
   "source": [
    "lyst = []\n",
    "for i in range(11):\n",
    "    lyst.append(i)\n",
    "a = ArrayStack(lyst) #是倒着加进去的，最后一个加进去的是栈顶\n",
    "print(a)\n",
    "a.pop()\n",
    "print(a)\n",
    "a.push(10)\n",
    "print(a)\n",
    "a.push(11)\n",
    "print(a)\n",
    "a.push(12)\n",
    "print(a)\n",
    "a.pop()\n",
    "print(a)\n",
    "a.pop()\n",
    "print(a)\n",
    "a.pop()\n",
    "print(a)\n",
    "a.pop()\n",
    "print(a)\n",
    "a.pop()\n",
    "print(a)\n",
    "a.pop()\n",
    "print(a)\n",
    "a.pop()\n",
    "print(a)\n",
    "a.pop()\n",
    "print(a)\n",
    "a.pop()\n"
   ]
  },
  {
   "cell_type": "code",
   "execution_count": 36,
   "metadata": {},
   "outputs": [
    {
     "name": "stdout",
     "output_type": "stream",
     "text": [
      "[0, 1, 2, 3, 4, 5, 6, 7, 8, 9, 10]\n"
     ]
    }
   ],
   "source": [
    "stack = ArrayStack()\n",
    "for i in range(11):\n",
    "    stack.push(i)\n",
    "print(stack)\n"
   ]
  }
 ],
 "metadata": {
  "kernelspec": {
   "display_name": "Python 3",
   "language": "python",
   "name": "python3"
  },
  "language_info": {
   "codemirror_mode": {
    "name": "ipython",
    "version": 3
   },
   "file_extension": ".py",
   "mimetype": "text/x-python",
   "name": "python",
   "nbconvert_exporter": "python",
   "pygments_lexer": "ipython3",
   "version": "3.6.5"
  },
  "latex_envs": {
   "LaTeX_envs_menu_present": true,
   "autoclose": false,
   "autocomplete": true,
   "bibliofile": "biblio.bib",
   "cite_by": "apalike",
   "current_citInitial": 1,
   "eqLabelWithNumbers": true,
   "eqNumInitial": 1,
   "hotkeys": {
    "equation": "Ctrl-E",
    "itemize": "Ctrl-I"
   },
   "labels_anchors": false,
   "latex_user_defs": false,
   "report_style_numbering": false,
   "user_envs_cfg": false
  },
  "toc": {
   "base_numbering": 1,
   "nav_menu": {},
   "number_sections": true,
   "sideBar": true,
   "skip_h1_title": false,
   "title_cell": "Table of Contents",
   "title_sidebar": "Contents",
   "toc_cell": false,
   "toc_position": {},
   "toc_section_display": true,
   "toc_window_display": false
  }
 },
 "nbformat": 4,
 "nbformat_minor": 2
}
