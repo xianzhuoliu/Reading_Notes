{
 "cells": [
  {
   "cell_type": "markdown",
   "metadata": {},
   "source": [
    "Complete the linked implementation of the queue collection discussed in this\n",
    "chapter. Verify that exceptions are raised when preconditions are violated."
   ]
  },
  {
   "cell_type": "code",
   "execution_count": 1,
   "metadata": {},
   "outputs": [],
   "source": [
    "import sys\n",
    "sys.path.append('.\\Case Study')"
   ]
  },
  {
   "cell_type": "code",
   "execution_count": 33,
   "metadata": {},
   "outputs": [],
   "source": [
    "from node import Node\n",
    "from abstractcollection import AbstractCollection\n",
    "\n",
    "class LinkedQueue(AbstractCollection):\n",
    "    \"\"\"A link-based queue implementation.\"\"\"\n",
    "\n",
    "    # Constructor\n",
    "    def __init__(self, sourceCollection = None):\n",
    "        \"\"\"Sets the initial state of self, which includes the\n",
    "        contents of sourceCollection, if it's present.\"\"\"\n",
    "        self._front = self._rear = None\n",
    "        AbstractCollection.__init__(self, sourceCollection)\n",
    "\n",
    "    # Accessor methods\n",
    "    def __iter__(self):\n",
    "        \"\"\"Supports iteration over a view of self.\"\"\"\n",
    "        temp = []\n",
    "        probe = self._front\n",
    "        while probe != None:\n",
    "            temp.append(probe.data)\n",
    "            probe = probe.next\n",
    "        return iter(temp)\n",
    "    \n",
    "    def peek(self):\n",
    "        \"\"\"\n",
    "        Returns the item at the front of the queue.\n",
    "        Precondition: the queue is not empty.\n",
    "        Raises: KeyError if the stack is empty.\"\"\"\n",
    "        if self.isEmpty():\n",
    "            raise KeyError(\"The queue is empty.\")\n",
    "        return self._front.data\n",
    "\n",
    "    # Mutator methods\n",
    "    def clear(self):\n",
    "        \"\"\"Makes self become empty.\"\"\"\n",
    "        self._front = None\n",
    "        self._rear = None\n",
    "        self._size = 0\n",
    "        pass\n",
    "    \n",
    "    def add(self, item):\n",
    "        \"\"\"Adds item to the rear of the queue.\"\"\"\n",
    "        newNode = Node(item, None)\n",
    "        if self.isEmpty():\n",
    "            self._front = newNode\n",
    "        else:\n",
    "            self._rear.next = newNode\n",
    "        self._rear = newNode\n",
    "        self._size += 1\n",
    "\n",
    "    def pop(self):\n",
    "        \"\"\"\n",
    "        Removes and returns the item at the front of the queue.\n",
    "        Precondition: the queue is not empty.\n",
    "        Raises: KeyError if the queue is empty.\n",
    "        Postcondition: the front item is removed from the queue.\"\"\"\n",
    "        if self.isEmpty():\n",
    "            raise KeyError(\"The queue is empty.\")\n",
    "        oldItem = self._front.data\n",
    "        self._front = self._front.next\n",
    "        if self._front is None:\n",
    "            self._rear = None\n",
    "        self._size -= 1\n",
    "        return oldItem"
   ]
  },
  {
   "cell_type": "code",
   "execution_count": 37,
   "metadata": {},
   "outputs": [
    {
     "name": "stdout",
     "output_type": "stream",
     "text": [
      "[3]\n",
      "[3, 2, s, absc]\n",
      "3\n",
      "2\n",
      "s\n",
      "absc\n",
      "[2, s, absc]\n"
     ]
    }
   ],
   "source": [
    "a = LinkedQueue()\n",
    "a.add(3)\n",
    "print(a)\n",
    "a.add(2)\n",
    "a.add('s')\n",
    "a.add('absc')\n",
    "print(a)\n",
    "for i in a:\n",
    "    print(i)\n",
    "\n",
    "a.pop()\n",
    "# a.peek()\n",
    "print(a)"
   ]
  },
  {
   "cell_type": "code",
   "execution_count": 38,
   "metadata": {},
   "outputs": [
    {
     "data": {
      "text/plain": [
       "2"
      ]
     },
     "execution_count": 38,
     "metadata": {},
     "output_type": "execute_result"
    }
   ],
   "source": [
    "a.peek()"
   ]
  },
  {
   "cell_type": "code",
   "execution_count": 39,
   "metadata": {},
   "outputs": [],
   "source": [
    "a.clear()"
   ]
  },
  {
   "cell_type": "code",
   "execution_count": 40,
   "metadata": {},
   "outputs": [
    {
     "name": "stdout",
     "output_type": "stream",
     "text": [
      "[]\n"
     ]
    }
   ],
   "source": [
    "print(a)"
   ]
  }
 ],
 "metadata": {
  "kernelspec": {
   "display_name": "Python 3",
   "language": "python",
   "name": "python3"
  },
  "language_info": {
   "codemirror_mode": {
    "name": "ipython",
    "version": 3
   },
   "file_extension": ".py",
   "mimetype": "text/x-python",
   "name": "python",
   "nbconvert_exporter": "python",
   "pygments_lexer": "ipython3",
   "version": "3.6.5"
  },
  "latex_envs": {
   "LaTeX_envs_menu_present": true,
   "autoclose": false,
   "autocomplete": true,
   "bibliofile": "biblio.bib",
   "cite_by": "apalike",
   "current_citInitial": 1,
   "eqLabelWithNumbers": true,
   "eqNumInitial": 1,
   "hotkeys": {
    "equation": "Ctrl-E",
    "itemize": "Ctrl-I"
   },
   "labels_anchors": false,
   "latex_user_defs": false,
   "report_style_numbering": false,
   "user_envs_cfg": false
  },
  "toc": {
   "base_numbering": 1,
   "nav_menu": {},
   "number_sections": true,
   "sideBar": true,
   "skip_h1_title": false,
   "title_cell": "Table of Contents",
   "title_sidebar": "Contents",
   "toc_cell": false,
   "toc_position": {},
   "toc_section_display": true,
   "toc_window_display": false
  }
 },
 "nbformat": 4,
 "nbformat_minor": 2
}
