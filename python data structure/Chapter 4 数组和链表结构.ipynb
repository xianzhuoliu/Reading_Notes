{
 "cells": [
  {
   "cell_type": "markdown",
   "metadata": {
    "toc": true
   },
   "source": [
    "<h1>Table of Contents<span class=\"tocSkip\"></span></h1>\n",
    "<div class=\"toc\"><ul class=\"toc-item\"><li><span><a href=\"#数组数据结构\" data-toc-modified-id=\"数组数据结构-1\"><span class=\"toc-item-num\">1&nbsp;&nbsp;</span>数组数据结构</a></span><ul class=\"toc-item\"><li><span><a href=\"#随机访问和连续内存\" data-toc-modified-id=\"随机访问和连续内存-1.1\"><span class=\"toc-item-num\">1.1&nbsp;&nbsp;</span>随机访问和连续内存</a></span></li><li><span><a href=\"#静态内存和动态内存\" data-toc-modified-id=\"静态内存和动态内存-1.2\"><span class=\"toc-item-num\">1.2&nbsp;&nbsp;</span>静态内存和动态内存</a></span></li><li><span><a href=\"#物理大小和逻辑大小\" data-toc-modified-id=\"物理大小和逻辑大小-1.3\"><span class=\"toc-item-num\">1.3&nbsp;&nbsp;</span>物理大小和逻辑大小</a></span></li></ul></li><li><span><a href=\"#数组的操作\" data-toc-modified-id=\"数组的操作-2\"><span class=\"toc-item-num\">2&nbsp;&nbsp;</span>数组的操作</a></span><ul class=\"toc-item\"><li><span><a href=\"#增加数组的大小\" data-toc-modified-id=\"增加数组的大小-2.1\"><span class=\"toc-item-num\">2.1&nbsp;&nbsp;</span>增加数组的大小</a></span></li><li><span><a href=\"#减小数组的大小\" data-toc-modified-id=\"减小数组的大小-2.2\"><span class=\"toc-item-num\">2.2&nbsp;&nbsp;</span>减小数组的大小</a></span></li><li><span><a href=\"#在数组中插入一项\" data-toc-modified-id=\"在数组中插入一项-2.3\"><span class=\"toc-item-num\">2.3&nbsp;&nbsp;</span>在数组中插入一项</a></span></li><li><span><a href=\"#在数组中删除一项\" data-toc-modified-id=\"在数组中删除一项-2.4\"><span class=\"toc-item-num\">2.4&nbsp;&nbsp;</span>在数组中删除一项</a></span></li><li><span><a href=\"#复杂度权衡\" data-toc-modified-id=\"复杂度权衡-2.5\"><span class=\"toc-item-num\">2.5&nbsp;&nbsp;</span>复杂度权衡</a></span></li></ul></li><li><span><a href=\"#二维数组\" data-toc-modified-id=\"二维数组-3\"><span class=\"toc-item-num\">3&nbsp;&nbsp;</span>二维数组</a></span><ul class=\"toc-item\"><li><span><a href=\"#处理网格\" data-toc-modified-id=\"处理网格-3.1\"><span class=\"toc-item-num\">3.1&nbsp;&nbsp;</span>处理网格</a></span></li><li><span><a href=\"#创建并初始化网格\" data-toc-modified-id=\"创建并初始化网格-3.2\"><span class=\"toc-item-num\">3.2&nbsp;&nbsp;</span>创建并初始化网格</a></span></li><li><span><a href=\"#定义Grid类\" data-toc-modified-id=\"定义Grid类-3.3\"><span class=\"toc-item-num\">3.3&nbsp;&nbsp;</span>定义Grid类</a></span></li><li><span><a href=\"#杂乱的网格和多维数组\" data-toc-modified-id=\"杂乱的网格和多维数组-3.4\"><span class=\"toc-item-num\">3.4&nbsp;&nbsp;</span>杂乱的网格和多维数组</a></span></li></ul></li><li><span><a href=\"#链表结构\" data-toc-modified-id=\"链表结构-4\"><span class=\"toc-item-num\">4&nbsp;&nbsp;</span>链表结构</a></span><ul class=\"toc-item\"><li><span><a href=\"#单链表结构和双链表结构\" data-toc-modified-id=\"单链表结构和双链表结构-4.1\"><span class=\"toc-item-num\">4.1&nbsp;&nbsp;</span>单链表结构和双链表结构</a></span></li><li><span><a href=\"#非连续内存和节点\" data-toc-modified-id=\"非连续内存和节点-4.2\"><span class=\"toc-item-num\">4.2&nbsp;&nbsp;</span>非连续内存和节点</a></span></li><li><span><a href=\"#定义一个单链表节点\" data-toc-modified-id=\"定义一个单链表节点-4.3\"><span class=\"toc-item-num\">4.3&nbsp;&nbsp;</span>定义一个单链表节点</a></span></li><li><span><a href=\"#使用单链表节点类\" data-toc-modified-id=\"使用单链表节点类-4.4\"><span class=\"toc-item-num\">4.4&nbsp;&nbsp;</span>使用单链表节点类</a></span></li></ul></li><li><span><a href=\"#单链表结构上的操作\" data-toc-modified-id=\"单链表结构上的操作-5\"><span class=\"toc-item-num\">5&nbsp;&nbsp;</span>单链表结构上的操作</a></span><ul class=\"toc-item\"><li><span><a href=\"#遍历\" data-toc-modified-id=\"遍历-5.1\"><span class=\"toc-item-num\">5.1&nbsp;&nbsp;</span>遍历</a></span></li><li><span><a href=\"#搜索\" data-toc-modified-id=\"搜索-5.2\"><span class=\"toc-item-num\">5.2&nbsp;&nbsp;</span>搜索</a></span></li><li><span><a href=\"#替换\" data-toc-modified-id=\"替换-5.3\"><span class=\"toc-item-num\">5.3&nbsp;&nbsp;</span>替换</a></span></li><li><span><a href=\"#在开始时插入\" data-toc-modified-id=\"在开始时插入-5.4\"><span class=\"toc-item-num\">5.4&nbsp;&nbsp;</span>在开始时插入</a></span></li><li><span><a href=\"#在末尾插入\" data-toc-modified-id=\"在末尾插入-5.5\"><span class=\"toc-item-num\">5.5&nbsp;&nbsp;</span>在末尾插入</a></span></li><li><span><a href=\"#从开始处删除\" data-toc-modified-id=\"从开始处删除-5.6\"><span class=\"toc-item-num\">5.6&nbsp;&nbsp;</span>从开始处删除</a></span></li><li><span><a href=\"#从末尾处删除\" data-toc-modified-id=\"从末尾处删除-5.7\"><span class=\"toc-item-num\">5.7&nbsp;&nbsp;</span>从末尾处删除</a></span></li><li><span><a href=\"#在任何位置插入\" data-toc-modified-id=\"在任何位置插入-5.8\"><span class=\"toc-item-num\">5.8&nbsp;&nbsp;</span>在任何位置插入</a></span></li><li><span><a href=\"#从任意位置删除\" data-toc-modified-id=\"从任意位置删除-5.9\"><span class=\"toc-item-num\">5.9&nbsp;&nbsp;</span>从任意位置删除</a></span></li><li><span><a href=\"#复杂度权衡：时间、空间和单链表结构\" data-toc-modified-id=\"复杂度权衡：时间、空间和单链表结构-5.10\"><span class=\"toc-item-num\">5.10&nbsp;&nbsp;</span>复杂度权衡：时间、空间和单链表结构</a></span></li></ul></li><li><span><a href=\"#链表的变体\" data-toc-modified-id=\"链表的变体-6\"><span class=\"toc-item-num\">6&nbsp;&nbsp;</span>链表的变体</a></span><ul class=\"toc-item\"><li><span><a href=\"#带有一个哑结点的循环链表结构\" data-toc-modified-id=\"带有一个哑结点的循环链表结构-6.1\"><span class=\"toc-item-num\">6.1&nbsp;&nbsp;</span>带有一个哑结点的循环链表结构</a></span></li><li><span><a href=\"#双链表结构\" data-toc-modified-id=\"双链表结构-6.2\"><span class=\"toc-item-num\">6.2&nbsp;&nbsp;</span>双链表结构</a></span></li></ul></li><li><span><a href=\"#Summary\" data-toc-modified-id=\"Summary-7\"><span class=\"toc-item-num\">7&nbsp;&nbsp;</span>Summary</a></span></li></ul></div>"
   ]
  },
  {
   "attachments": {
    "C4%201.png": {
     "image/png": "[encoded data removed]"
    }
   },
   "cell_type": "markdown",
   "metadata": {},
   "source": [
    "# 数组数据结构\n",
    "数组(array)表示的是可以在给定的索引位置访问或替代的项的一个序列。\n",
    "\n",
    "和list的表述有点像，list的底层数据结构就是数组。集合中的实现结构主要是数组，而不是列表。需要熟悉数组的方式思考问题。\n",
    "\n",
    "数组可以做的事情是：在给定的位置访问或替代数组的一个项，查看数组的长度，以及获取其字符串表示。也就还怎么多了。通常，数组的长度或容量在创建时就固定了。\n",
    "\n",
    "                                   数组操作方法以及Array类中需要定义的对应的方法\n",
    "                                   \n",
    "![C4%201.png](attachment:C4%201.png)"
   ]
  },
  {
   "cell_type": "code",
   "execution_count": 2,
   "metadata": {},
   "outputs": [],
   "source": [
    "class Array(object):\n",
    "    \"\"\"Represents an array.\"\"\"\n",
    "\n",
    "    def __init__(self, capacity, fillValue = None):\n",
    "        \"\"\"Capacity is the static size of the array.\n",
    "        fillValue is placed at each position.\"\"\"\n",
    "        self._items = list()\n",
    "        for count in range(capacity):\n",
    "            self._items.append(fillValue)\n",
    "\n",
    "    def __len__(self):\n",
    "        \"\"\"-> The capacity of the array.\"\"\"\n",
    "        return len(self._items)\n",
    "\n",
    "    def __str__(self):\n",
    "        \"\"\"-> The string representation of the array.\"\"\"\n",
    "        return str(self._items)\n",
    "\n",
    "    def __iter__(self):\n",
    "        \"\"\"Supports iteration over a view of an array.\"\"\"\n",
    "        return iter(self._items)\n",
    "\n",
    "    def __getitem__(self, index):\n",
    "        \"\"\"Subscript operator for access at index.\"\"\"\n",
    "        return self._items[index]\n",
    "\n",
    "    def __setitem__(self, index, newItem):\n",
    "        \"\"\"Subscript operator for replacement at index.\"\"\"\n",
    "        self._items[index] = newItem"
   ]
  },
  {
   "cell_type": "markdown",
   "metadata": {},
   "source": [
    "数组的用法"
   ]
  },
  {
   "cell_type": "code",
   "execution_count": 4,
   "metadata": {},
   "outputs": [
    {
     "data": {
      "text/plain": [
       "5"
      ]
     },
     "execution_count": 4,
     "metadata": {},
     "output_type": "execute_result"
    }
   ],
   "source": [
    "a = Array(5)\n",
    "len(a)"
   ]
  },
  {
   "cell_type": "code",
   "execution_count": 5,
   "metadata": {},
   "outputs": [
    {
     "name": "stdout",
     "output_type": "stream",
     "text": [
      "[None, None, None, None, None]\n"
     ]
    }
   ],
   "source": [
    "print(a)"
   ]
  },
  {
   "cell_type": "code",
   "execution_count": 6,
   "metadata": {},
   "outputs": [
    {
     "data": {
      "text/plain": [
       "1"
      ]
     },
     "execution_count": 6,
     "metadata": {},
     "output_type": "execute_result"
    }
   ],
   "source": [
    "for i in range(len(a)):\n",
    "    a[i] = i + 1\n",
    "a[0]"
   ]
  },
  {
   "cell_type": "code",
   "execution_count": 7,
   "metadata": {},
   "outputs": [
    {
     "name": "stdout",
     "output_type": "stream",
     "text": [
      "1\n",
      "2\n",
      "3\n",
      "4\n",
      "5\n"
     ]
    }
   ],
   "source": [
    "for item in a:\n",
    "    print(item)"
   ]
  },
  {
   "cell_type": "markdown",
   "metadata": {},
   "source": [
    "## 随机访问和连续内存\n",
    "下标或者索引操作，使得程序员能够很容易存储或访问给定位置的项。**在随机访问中，计算机执行固定数目的步骤**，获取了第i项的位置。不管访问第1项还是最后一项，所需的时间都是相同的。\n",
    "\n",
    "为了支持对数组的随机访问，计算机为数组项分配一段**连续的内存单元**。\n",
    "\n",
    "python数组中的索引操作中有两个步骤：\n",
    "1. 获取数组内存的基本地址块\n",
    "2. 给这个地址块加上索引，返回最终结果"
   ]
  },
  {
   "cell_type": "markdown",
   "metadata": {},
   "source": [
    "## 静态内存和动态内存\n",
    "动态数组占据了连续内存块并且支持随机访问，在运行时也不需要知道动态数组的长度。\n",
    "\n",
    "对python列表来说，调整数组大小都是自动进行的\n",
    "\n",
    "## 物理大小和逻辑大小\n",
    "物理大小: 数组单元的总数，或者说在创建数组的时候，用来指定容量的数字。\n",
    "\n",
    "逻辑大小：当前可应用程序使用的项的数目。真正包含的项\n",
    "\n",
    "- 当数组是满的，两者相等\n",
    "- 逻辑大小为0，表示数组为空，该数组不包含数据项\n",
    "- 若不为空，**数组中最后一项的索引都是其逻辑大小减去1**"
   ]
  },
  {
   "cell_type": "markdown",
   "metadata": {},
   "source": [
    "# 数组的操作\n",
    "## 增加数组的大小\n",
    "当要插入新的项时，并且此时数组的逻辑大小等于其物理大小，那么就该增加数组的大小。\n",
    "\n",
    "python的list类型通过调用insert或append方法来执行这种操作。\n",
    "\n",
    "三个步骤\n",
    "1. 创建一个新的更大的数组\n",
    "2. 将数据从旧的数组复制到新的数组中\n",
    "3. 将旧的数组变量重新设置为新的数组对象。\n",
    "\n",
    "采用自然1增加的过程，每次增加1个单位。最坏情况，从0增加到n，时间性能是1 + 2 + 3 + ... + n， $O(n^2)$"
   ]
  },
  {
   "cell_type": "code",
   "execution_count": 8,
   "metadata": {},
   "outputs": [],
   "source": [
    "DEFAULT_CAPACITY = 5\n",
    "logicalSize = 0\n",
    "a = Array(DEFAULT_CAPACITY)\n",
    "\n",
    "if logicalSize == len(a):           #当数组满了的时候\n",
    "    temp = Array(len(a) + 1)\n",
    "    for i in range(logicalSize):\n",
    "        temp[i] = a[i]\n",
    "    a = temp"
   ]
  },
  {
   "cell_type": "markdown",
   "metadata": {},
   "source": [
    "## 减小数组的大小\n",
    "当未使用的单元达到或超过了某一个阈值，就该减小数组大小了。\n",
    "\n",
    "当数组的逻辑大小等于或小于其物理大小的四分之一，并且其物理大小至少是其创建列表时默认容量的两倍的时候，负责这一过程的代码就派上用场了。减少到原来的一半。"
   ]
  },
  {
   "cell_type": "code",
   "execution_count": 9,
   "metadata": {},
   "outputs": [],
   "source": [
    "if logicalSize <= len(a) // 4 and len(a) >= DEFAULT_CAPACITY * 2:\n",
    "    temp = Array(len(a) // 2)\n",
    "    for i in range(logicalSize):\n",
    "        temp[i] = a[i]\n",
    "    a = temp"
   ]
  },
  {
   "cell_type": "markdown",
   "metadata": {},
   "source": [
    "## 在数组中插入一项\n",
    "1. 检查可用空间\n",
    "2. 从数组末尾直到目标索引位置，将每一项都后移一个单元\n",
    "3. 将新的项赋值给目标索引位置\n",
    "4. 将逻辑大小增加1"
   ]
  },
  {
   "cell_type": "code",
   "execution_count": null,
   "metadata": {},
   "outputs": [],
   "source": [
    "for i in range(logicalSize, targetIndex, -1):\n",
    "    a[i] = a[i - 1]\n",
    "    \n",
    "a[targetIndex] = newItem\n",
    "logicalSize += 1"
   ]
  },
  {
   "cell_type": "markdown",
   "metadata": {},
   "source": [
    "## 在数组中删除一项\n",
    "1. 从紧跟目标索引之后位置开始，到逻辑末尾，每一位都向前移动一位。填上目标索引位置删除一项后留下的洞\n",
    "2. 将逻辑大小减小1\n",
    "3. 检查浪费的空间，如果必要的话，将数组的物理大小减小1"
   ]
  },
  {
   "cell_type": "code",
   "execution_count": null,
   "metadata": {},
   "outputs": [],
   "source": [
    "for i in range(targetIndex, logicalSize - 1):\n",
    "    a[i] = a[i + 1]\n",
    "\n",
    "logicalSize -= 1"
   ]
  },
  {
   "attachments": {
    "C4%202.png": {
     "image/png": "[encoded data removed]"
    },
    "C4%203.png": {
     "image/png": "[encoded data removed]"
    }
   },
   "cell_type": "markdown",
   "metadata": {},
   "source": [
    "## 复杂度权衡\n",
    "![C4%202.png](attachment:C4%202.png)\n",
    "![C4%203.png](attachment:C4%203.png)\n",
    "\n",
    "装载因子（load factor）等于数组中存储的项的数目除以数组的容量"
   ]
  },
  {
   "cell_type": "markdown",
   "metadata": {},
   "source": [
    "# 二维数组\n",
    "## 处理网格\n",
    "操作一维数组的技术，可扩展到网格上"
   ]
  },
  {
   "cell_type": "code",
   "execution_count": null,
   "metadata": {},
   "outputs": [],
   "source": [
    "sum = o\n",
    "for row in range(table.getHeight()):\n",
    "    for column in range(table.getWidth()):\n",
    "        sum += table[row][column]"
   ]
  },
  {
   "cell_type": "markdown",
   "metadata": {},
   "source": [
    "## 创建并初始化网格\n",
    "## 定义Grid类\n",
    "使用一个数组的数组来表示网格，顶层数组的长度就是网格中行的数目，顶层数组的每一个单元格也都是一个数组，这个数组的长度就是网格的列的数目"
   ]
  },
  {
   "cell_type": "code",
   "execution_count": 18,
   "metadata": {},
   "outputs": [
    {
     "name": "stdout",
     "output_type": "stream",
     "text": [
      "0 1 2 3 4 5 6 7 8 9 \n",
      "10 11 12 13 14 15 16 17 18 19 \n",
      "20 21 22 23 24 25 26 27 28 29 \n",
      "30 31 32 33 34 35 36 37 38 39 \n",
      "40 41 42 43 44 45 46 47 48 49 \n",
      "50 51 52 53 54 55 56 57 58 59 \n",
      "60 61 62 63 64 65 66 67 68 69 \n",
      "70 71 72 73 74 75 76 77 78 79 \n",
      "80 81 82 83 84 85 86 87 88 89 \n",
      "90 91 92 93 94 95 96 97 98 99 \n",
      "\n"
     ]
    }
   ],
   "source": [
    "class Grid(object):\n",
    "    \"\"\"Represents a two-dimensional array.\"\"\"\n",
    "\n",
    "    def __init__(self, rows, columns, fillValue = None):\n",
    "        self._data = Array(rows)\n",
    "        for row in range(rows):\n",
    "            self._data[row] = Array(columns, fillValue)\n",
    "\n",
    "    def getHeight(self):\n",
    "        \"\"\"Returns the number of rows.\"\"\"\n",
    "        return len(self._data)\n",
    "\n",
    "    def getWidth(self):\n",
    "        \"Returns the number of columns.\"\"\"\n",
    "        return len(self._data[0])\n",
    "\n",
    "    def __getitem__(self, index):\n",
    "        \"\"\"Supports two-dimensional indexing with [][].\"\"\"\n",
    "        return self._data[index]\n",
    "\n",
    "    def __str__(self):\n",
    "        \"\"\"Returns a string representation of the grid.\"\"\"\n",
    "        result = \"\"\n",
    "        for row in range(self.getHeight()):\n",
    "            for col in range(self.getWidth()):\n",
    "                result += str(self._data[row][col]) + \" \"\n",
    "            result += \"\\n\"\n",
    "        return result\n",
    "\n",
    "def main():\n",
    "    g = Grid(10, 10, 1)\n",
    "    for row in range(g.getHeight()):\n",
    "        for column in range(g.getWidth()):\n",
    "            g[row][column] = int(str(row)+str(column))\n",
    "    print(g)\n",
    "    \n",
    "if __name__ == \"__main__\":\n",
    "    main()"
   ]
  },
  {
   "attachments": {
    "C4%204.png": {
     "image/png": "[encoded data removed]"
    }
   },
   "cell_type": "markdown",
   "metadata": {},
   "source": [
    "## 杂乱的网格和多维数组\n",
    "也可以创建杂乱的网格，每一行的列的数目不同\n",
    "\n",
    "# 链表结构\n",
    "\n",
    "## 单链表结构和双链表结构\n",
    "singly linked structure and doubly linked structure\n",
    "\n",
    "![C4%204.png](attachment:C4%204.png)\n",
    "\n",
    "使用一个链表结构，必须从结构的一端开始沿着链表直到到达想要的位置。对插入和删除操作有两个重要影响：\n",
    "1. 一旦找到一个插入或删除点，就可以进行插入或删除，而不需要在内存中移动数据项\n",
    "2. 在每一次插入和删除中，不需要复制数据项\n",
    "\n",
    "## 非连续内存和节点\n",
    "\n",
    "数组中项的逻辑顺序是和内存中的物理单元序列紧密耦合的。链表结构中项的逻辑顺序和内存中顺序解耦了，叫做非连续性的内存（noncontiguous memory）\n",
    "\n",
    "单链表的节点包含：\n",
    "1. 一个数据项\n",
    "2. 到结构中的下一个节点的一个链接\n",
    "\n",
    "- C++中，单链表的一个节点包含数据项和指针值。需要通过特殊的处理或删除操作，返回那些不用的节点\n",
    "- python中，任何**变量**都可以**引用**任何内容，包括None值。单链表节点：数据项的一个引用和到另一个节点的一个引用。当对象不再被应用程序引用时会自动把内存返回给系统。\n",
    "\n",
    "## 定义一个单链表节点\n"
   ]
  },
  {
   "cell_type": "code",
   "execution_count": 4,
   "metadata": {},
   "outputs": [],
   "source": [
    "class Node(object):\n",
    "    def __init__(self, data, next = None):\n",
    "        self.data = data\n",
    "        self.next = next"
   ]
  },
  {
   "cell_type": "markdown",
   "metadata": {},
   "source": [
    "## 使用单链表节点类"
   ]
  },
  {
   "cell_type": "code",
   "execution_count": 22,
   "metadata": {},
   "outputs": [],
   "source": [
    "node1 = None\n",
    "node2 = Node(\"A\", None)\n",
    "node3 = Node(\"B\", node2)"
   ]
  },
  {
   "attachments": {
    "C4%205.png": {
     "image/png": "[encoded data removed]"
    }
   },
   "cell_type": "markdown",
   "metadata": {},
   "source": [
    "![C4%205.png](attachment:C4%205.png)"
   ]
  },
  {
   "cell_type": "code",
   "execution_count": 5,
   "metadata": {},
   "outputs": [
    {
     "name": "stdout",
     "output_type": "stream",
     "text": [
      "5\n",
      "4\n",
      "3\n",
      "2\n",
      "1\n"
     ]
    }
   ],
   "source": [
    "head = None\n",
    "\n",
    "for count in range(1, 6):\n",
    "    head = Node(count, head)\n",
    "while head != None:\n",
    "    print(head.data)\n",
    "    head = head.next"
   ]
  },
  {
   "cell_type": "markdown",
   "metadata": {},
   "source": [
    "对于这个程序，注意以下几点：\n",
    "- 指针head生成了链表结构。最近插入的项总是位于结构的开始处\n",
    "- 因此，当显示数据的时候，他们按照和插入时相反的顺序出现。**插入的时候是反着插入**\n",
    "- 直到最后head指针为None。那些节点就找不到了，节点实际上从链表结构中删除了，节点不再可用，并且会在下一次垃圾回收时回收。"
   ]
  },
  {
   "cell_type": "markdown",
   "metadata": {},
   "source": [
    "# 单链表结构上的操作\n",
    "在数组上的所有操作几乎都是基于索引的。在链表结构上，必须通过操作结构中的链接来模拟基于索引的操作。\n",
    "## 遍历\n",
    "使用一个临时的指针变量probe，避免像上面一样删除了节点。head指针仍然引用第1个节点。None充当停止遍历的哨兵。"
   ]
  },
  {
   "cell_type": "code",
   "execution_count": null,
   "metadata": {},
   "outputs": [],
   "source": [
    "probe = head\n",
    "while probe != None:\n",
    "    <use or modify probe.data>\n",
    "    probe = probe.next"
   ]
  },
  {
   "cell_type": "markdown",
   "metadata": {},
   "source": [
    "## 搜索\n",
    "从第1个节点开始并且沿着链接直到遇到哨兵。两个可能的哨兵\n",
    "- None\n",
    "- 等于目标项的一个数据项，表明一次成功的搜索。\n",
    "\n",
    "单链表结构的顺序搜索是线性的。"
   ]
  },
  {
   "cell_type": "code",
   "execution_count": null,
   "metadata": {},
   "outputs": [],
   "source": [
    "probe = head\n",
    "while probe != None and targetItem != probe.data:\n",
    "    probe = probe.next\n",
    "if probe != None:\n",
    "    <targetItem has been found>\n",
    "else:\n",
    "    <target is not in the linked strcuture>"
   ]
  },
  {
   "cell_type": "markdown",
   "metadata": {},
   "source": [
    "访问一个链表结构的第i项"
   ]
  },
  {
   "cell_type": "code",
   "execution_count": null,
   "metadata": {},
   "outputs": [],
   "source": [
    "probe = head\n",
    "while index > 0:\n",
    "    probe = probe.next\n",
    "    index -= 1\n",
    "return probe.data"
   ]
  },
  {
   "cell_type": "markdown",
   "metadata": {},
   "source": [
    "- **while index > 0 当index为n的时候执行n次**\n",
    "- **while index >= 0 当index为n的时候执行n+1次，当n减到0的时候再执行1次**"
   ]
  },
  {
   "cell_type": "markdown",
   "metadata": {},
   "source": [
    "## 替换\n",
    "替换一个给定的项"
   ]
  },
  {
   "cell_type": "code",
   "execution_count": 12,
   "metadata": {},
   "outputs": [
    {
     "data": {
      "text/plain": [
       "False"
      ]
     },
     "execution_count": 12,
     "metadata": {},
     "output_type": "execute_result"
    }
   ],
   "source": [
    "targetItem = 3; newItem = 100\n",
    "\n",
    "def replace(head, targetItem, newItem):\n",
    "    probe = head\n",
    "    while probe != None and targetItem != probe.data:\n",
    "        probe = probe.next\n",
    "    if probe != None:\n",
    "        probe.data = newItem\n",
    "        return True\n",
    "    else:\n",
    "        return False\n",
    "    \n",
    "replace(head, targetItem, newItem)"
   ]
  },
  {
   "cell_type": "code",
   "execution_count": 13,
   "metadata": {},
   "outputs": [
    {
     "name": "stdout",
     "output_type": "stream",
     "text": [
      "5\n",
      "4\n",
      "100\n",
      "2\n",
      "1\n"
     ]
    }
   ],
   "source": [
    "probe = head\n",
    "while probe != None:\n",
    "    print(probe.data)\n",
    "    probe = probe.next"
   ]
  },
  {
   "cell_type": "markdown",
   "metadata": {},
   "source": [
    "替换第i项"
   ]
  },
  {
   "cell_type": "code",
   "execution_count": null,
   "metadata": {},
   "outputs": [],
   "source": [
    "porbe = head\n",
    "while index > 0:\n",
    "    probe = probe.next\n",
    "    index -= 1\n",
    "probe.data = newItem"
   ]
  },
  {
   "cell_type": "markdown",
   "metadata": {},
   "source": [
    "## 在开始时插入"
   ]
  },
  {
   "cell_type": "code",
   "execution_count": 14,
   "metadata": {},
   "outputs": [],
   "source": [
    "head = Node(newItem, head)"
   ]
  },
  {
   "cell_type": "markdown",
   "metadata": {},
   "source": [
    "## 在末尾插入\n",
    "对于单链表结构来说，在末尾插入一项必须考虑如下两种情况：\n",
    "1. head指针为None，此时，将head指针设置为新的节点\n",
    "2. head指针不为None，此时，代码将搜索最后一个节点，并将其next指针指向新的节点"
   ]
  },
  {
   "cell_type": "code",
   "execution_count": null,
   "metadata": {},
   "outputs": [],
   "source": [
    "newNode = Node(newItem)\n",
    "if head is None:\n",
    "    head = newNode\n",
    "else: \n",
    "    probe = head\n",
    "    while probe.next != None:\n",
    "        probe = probe.next\n",
    "    probe.next = newNode"
   ]
  },
  {
   "cell_type": "markdown",
   "metadata": {},
   "source": [
    "## 从开始处删除\n",
    "就像前面一样，从链表结构的开始处删除项\n",
    "```\n",
    "# while head != None:\n",
    "#     print(head.data)\n",
    "#     head = head.next\n",
    "```\n"
   ]
  },
  {
   "cell_type": "code",
   "execution_count": null,
   "metadata": {},
   "outputs": [],
   "source": [
    "removeItem = head.data\n",
    "head = head.next\n",
    "return removedItem"
   ]
  },
  {
   "cell_type": "markdown",
   "metadata": {},
   "source": [
    "## 从末尾处删除\n",
    "对于单链表结构来苏哦，假设结构中至少有一个节点，需考虑如下的两种情况：\n",
    "1. 只有一个节点，head指针设置为None\n",
    "2. 在最后一个节点之前有节点。代码搜索倒数第二个节点"
   ]
  },
  {
   "cell_type": "code",
   "execution_count": null,
   "metadata": {},
   "outputs": [],
   "source": [
    "removedItem = head.data\n",
    "if head.next is None:\n",
    "    head = None:\n",
    "else: \n",
    "    probe = head\n",
    "    while probe.next.next != None:\n",
    "        probe = probe.next\n",
    "    removedItem = probe.next.data\n",
    "    probe.next = None\n",
    "return removedItem"
   ]
  },
  {
   "cell_type": "markdown",
   "metadata": {},
   "source": [
    "## 在任何位置插入\n",
    "在一个链表的第i个位置插入一项。必须首先找到i-1的节点，然后考虑一下两种情况：\n",
    "1. 该节点的next指针为None。意味着i >= n，因此应该把新的项放在链表结构的末尾\n",
    "2. 该节点的next指针不为None。这意味着0 < i < n，因此，应该将新的项放在位于i-1和i的节点之间。"
   ]
  },
  {
   "cell_type": "code",
   "execution_count": null,
   "metadata": {},
   "outputs": [],
   "source": [
    "if head is None or index <= 0:\n",
    "    head = Node(newItem, head)\n",
    "else:\n",
    "    while index > 1 and probe.next != None: #做i-1次搜索，找到i-1的node\n",
    "        probe = probe.next\n",
    "        index -= 1\n",
    "    probe.next = Node(newItem, probe.next)"
   ]
  },
  {
   "cell_type": "markdown",
   "metadata": {},
   "source": [
    "## 从任意位置删除\n",
    "从一个链表结构中删除第i项，具有以下三种情况：\n",
    "1. $i <= 0$ --- 使用删除第1项的代码\n",
    "2. $0 < i < n$ --- 搜索位于i-1位置的节点，删除其后面的节点\n",
    "3. $i >= n$ --- 删除最后一个节点\n",
    "\n",
    "假设链表结构至少有1项，保证probe指针不超过链表结构的倒数第2个节点"
   ]
  },
  {
   "cell_type": "code",
   "execution_count": null,
   "metadata": {},
   "outputs": [],
   "source": [
    "if index <= 0 or head.next is None:\n",
    "    removedItem = head.data\n",
    "    head = head.next\n",
    "    return removedItem\n",
    "else:\n",
    "    probe = head\n",
    "    while index > 1 and probe.next.next != None:  #找到i-1项\n",
    "        probe = probe.next\n",
    "        index -= 1\n",
    "    removedItem = probe.next.data\n",
    "    probe.next = probe.next.next\n",
    "    return removeItem"
   ]
  },
  {
   "attachments": {
    "C4%206.png": {
     "image/png": "[encoded data removed]"
    },
    "C4%207.png": {
     "image/png": "[encoded data removed]"
    },
    "C4%208.png": {
     "image/png": "[encoded data removed]"
    }
   },
   "cell_type": "markdown",
   "metadata": {},
   "source": [
    "## 复杂度权衡：时间、空间和单链表结构\n",
    "![C4%206.png](attachment:C4%206.png)\n",
    "\n",
    "假设你想要实现的一个集合只是会进行插入、访问或删除第1项的操作，使用链表代替数组才有好处。\n",
    "\n",
    "单链表相对于数组主要优点不是时间性能，而是内存性能。在调整链表结构的大小的时候，其时间和内存都是常数的。此外，在链表结构中没有浪费内存的问题。\n",
    "\n",
    "# 链表的变体\n",
    "## 带有一个哑结点的循环链表结构\n",
    "![C4%207.png](attachment:C4%207.png)\n",
    "![C4%208.png](attachment:C4%208.png)\n",
    "\n",
    "循环链表结构包含了从结构中的最后一个节点回到第一个节点的一个链接。至少有一个节点，这个节点就是哑头节点，它不包含数据。"
   ]
  },
  {
   "cell_type": "code",
   "execution_count": null,
   "metadata": {},
   "outputs": [],
   "source": [
    "#假设空的链表最初结构如下所示\n",
    "head = Node(None, None)\n",
    "head.next = head"
   ]
  },
  {
   "cell_type": "code",
   "execution_count": null,
   "metadata": {},
   "outputs": [],
   "source": [
    "probe = head\n",
    "while index > 0 and probe.next != head:\n",
    "    probe = probe.next\n",
    "    index -= 1\n",
    "probe.next = Node(newItem, probe.next)"
   ]
  },
  {
   "cell_type": "markdown",
   "metadata": {},
   "source": [
    "这种实现的优点在于，删除和插入操作只需要考虑一种情况，即第i个节点位于当前的第i个节点和i-1个节点之间的这种情况。当第i个节点是第1个节点，它之前1的节点是头结点。i >= n时，之前的节点就是最后一个节点，并且头结点是其下一个节点。"
   ]
  },
  {
   "cell_type": "markdown",
   "metadata": {},
   "source": [
    "## 双链表结构"
   ]
  },
  {
   "cell_type": "code",
   "execution_count": null,
   "metadata": {},
   "outputs": [],
   "source": [
    "class TwoWayNode(Node):\n",
    "    def __init__(self, data, previous = None, next = None):\n",
    "        Node.__init__(self, data, next)\n",
    "        self.previous = previous"
   ]
  },
  {
   "cell_type": "markdown",
   "metadata": {},
   "source": [
    "如下是测试程序，通过在末尾添加项来创建一个双链表结构，然后，从最后一项开始朝着第一项处理"
   ]
  },
  {
   "cell_type": "code",
   "execution_count": null,
   "metadata": {},
   "outputs": [],
   "source": [
    "head = TwoWayNode(1)\n",
    "tail = head\n",
    "\n",
    "for data in range(2, 6):\n",
    "    tail.next = TwoWayNode(data, tail)\n",
    "    tail = tail.next\n",
    "    \n",
    "probe = tail\n",
    "while probe != None:\n",
    "    print(probe.data)\n",
    "    probe = probe.previous"
   ]
  },
  {
   "attachments": {
    "C4%209.png": {
     "image/png": "[encoded data removed]"
    }
   },
   "cell_type": "markdown",
   "metadata": {},
   "source": [
    "考虑一下循环中的这两个语句\n",
    "```\n",
    "    tail.next = TwoWayNode(data, tail)\n",
    "    tail = tail.next\n",
    "```\n",
    "语句的目的是在链表结尾插入一个新的项，可以假设在链表结构中至少有1个节点，并且tail尾指针总是指向这个链表结构的最后一个节点。按三个步骤来设置三个指针：\n",
    "1. 新节点的previous指向当前的尾节点，即tail指向的那个。通过将tail作为第二个参数来实现\n",
    "2. 当期尾节点的next指针必须指向新节点。第一条语句\n",
    "3. tail指针必须指向新的节点。第二条语句。\n",
    "\n",
    "![C4%209.png](attachment:C4%209.png)\n",
    "双链表时间复杂度和单链表相同，但是需要一个额外的线性内存使用量存放额外的指针。\n",
    "\n",
    "\n",
    "# Summary\n",
    "- 数据结构是表示一个集合中包含的数据的一个对象\n",
    "- 数组是一个数据结构。支持按照位置对某一项随机访问，访问时间是常数。创建数组是，数组长度保持固定，创建一个新的较大或较小的数组，可能也需要移动数据元素\n",
    "- 二维数组通过矩形网格中的行和列来定位每一个数据值\n",
    "- 链表结构是一个数据结构。\n",
    "- 在链表结构中插入或删除操作，不需要移动数据元素。最多只需要创建一个节点，插入删除访问等操作所需时间都是线性的\n",
    "- 使用头结点可以简化一些操作"
   ]
  }
 ],
 "metadata": {
  "kernelspec": {
   "display_name": "Python 3",
   "language": "python",
   "name": "python3"
  },
  "language_info": {
   "codemirror_mode": {
    "name": "ipython",
    "version": 3
   },
   "file_extension": ".py",
   "mimetype": "text/x-python",
   "name": "python",
   "nbconvert_exporter": "python",
   "pygments_lexer": "ipython3",
   "version": "3.6.5"
  },
  "latex_envs": {
   "LaTeX_envs_menu_present": true,
   "autoclose": false,
   "autocomplete": true,
   "bibliofile": "biblio.bib",
   "cite_by": "apalike",
   "current_citInitial": 1,
   "eqLabelWithNumbers": true,
   "eqNumInitial": 1,
   "hotkeys": {
    "equation": "Ctrl-E",
    "itemize": "Ctrl-I"
   },
   "labels_anchors": false,
   "latex_user_defs": false,
   "report_style_numbering": false,
   "user_envs_cfg": false
  },
  "toc": {
   "base_numbering": 1,
   "nav_menu": {},
   "number_sections": true,
   "sideBar": true,
   "skip_h1_title": false,
   "title_cell": "Table of Contents",
   "title_sidebar": "Contents",
   "toc_cell": true,
   "toc_position": {},
   "toc_section_display": true,
   "toc_window_display": false
  }
 },
 "nbformat": 4,
 "nbformat_minor": 2
}
