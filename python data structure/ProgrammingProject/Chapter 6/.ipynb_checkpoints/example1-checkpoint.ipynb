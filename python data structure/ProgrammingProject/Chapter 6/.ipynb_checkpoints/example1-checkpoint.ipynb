{
 "cells": [
  {
   "cell_type": "code",
   "execution_count": 7,
   "metadata": {},
   "outputs": [],
   "source": [
    "import sys\n",
    "sys.path.append('..\\..\\ExamplePrograms\\Ch_6_Student_Files\\Sorted Bag')"
   ]
  },
  {
   "cell_type": "code",
   "execution_count": 8,
   "metadata": {},
   "outputs": [
    {
     "name": "stdout",
     "output_type": "stream",
     "text": [
      "a:  [15, 23, 13, 94, 27, 24, 50, 32, 35, 55, 77, 56, 100, 52, 5, 57, 50, 81, 37, 84, 100, 81, 77, 30, 10, 50, 69, 35, 55, 86, 82, 77, 58, 52, 46, 75, 8, 44, 35, 98, 25, 81, 55, 7, 54, 54, 66, 97, 6, 29, 88, 27, 60, 78, 89, 92, 46, 54, 45, 87, 17, 77, 85, 48, 28, 24, 67, 91, 42, 74, 94, 41, 65, 61, 22, 59, 68, 88, 4, 2, 33, 100, 68, 77, 61, 63, 19, 27, 99, 16, 55, 53, 37, 65, 63, 9, 35, 72, 51, 36] \n",
      "\n",
      "b:  [81, 82, 2, 44, 100, 61, 92, 84, 50, 57, 94, 50, 77, 35, 35, 29, 27, 63, 16, 77, 100, 61, 41, 87, 54, 60, 86, 55, 46, 52, 6, 69, 78, 54, 50, 36, 55, 46, 37, 53, 75, 24, 65, 81, 97, 59, 4, 68, 72, 68, 88, 27, 7, 74, 56, 85, 81, 24, 28, 9, 10, 66, 77, 33, 100, 25, 91, 35, 48, 27, 65, 42, 77, 15, 67, 94, 13, 45, 55, 51, 99, 35, 55, 89, 58, 98, 54, 5, 32, 77, 30, 63, 52, 23, 19, 88, 17, 8, 22, 37]\n",
      "True\n"
     ]
    }
   ],
   "source": [
    "from arraybag import ArrayBag\n",
    "from arrays import Array\n",
    "import random\n",
    "\n",
    "class ArraySortedBag(ArrayBag):\n",
    "    \"\"\"An array-based sorted bag implementation.\"\"\"\n",
    "\n",
    "    # Constructor\n",
    "    def __init__(self, sourceCollection = None):\n",
    "        \"\"\"Sets the initial state of self, which includes the\n",
    "        contents of sourceCollection, if it's present.\"\"\"\n",
    "        ArrayBag.__init__(self, sourceCollection)\n",
    "\n",
    "    # Accessor methods\n",
    "    def __contains__(self, item):\n",
    "        left = 0\n",
    "        right = len(self) - 1\n",
    "        while left <= right:\n",
    "            midPoint = (left + right) // 2\n",
    "            if self._items[midPoint] == item:\n",
    "                return True\n",
    "            elif self._items[midPoint] > item:\n",
    "                right = midPoint - 1\n",
    "            else:\n",
    "\n",
    "                left = midPoint + 1\n",
    "        return False\n",
    "    \n",
    "    def __getitem__(self, index):\n",
    "        \"\"\"Subscript operator for access at index.\"\"\"\n",
    "        return self._items[index]\n",
    "    \n",
    "    # Mutator methods\n",
    "    def add(self, item):\n",
    "        \"\"\"Adds item to self.\"\"\"\n",
    "        # Check array memory here and increase it if necessary\n",
    "        if len(self) == len(self._items):\n",
    "            temp = Array(2 * len(self))\n",
    "            for i in range(len(self)):\n",
    "                temp[i] = self[i]\n",
    "            self._items = temp\n",
    "        # Empty or last item, call ArrayBag.add\n",
    "        if self.isEmpty() or item >= self._items[len(self) - 1]:\n",
    "            ArrayBag.add(self, item)\n",
    "        else:\n",
    "            # Search for first item >= new item\n",
    "            targetIndex = 0\n",
    "            while item > self._items[targetIndex]:\n",
    "                targetIndex += 1\n",
    "            # Open a hole for new item\n",
    "            for i in range(len(self), targetIndex, -1):\n",
    "                self._items[i] = self._items[i - 1]\n",
    "            # Insert item and update size\n",
    "            self._items[targetIndex] = item\n",
    "            self._size += 1\n",
    "      \n",
    "#     已经在祖先类AbstractBag里面包含了\n",
    "#     def __eq__(self, other):\n",
    "#         if self is other: return True\n",
    "#         if type(self) != type(other) or \\\n",
    "#            len(self) != len(other):\n",
    "#             return False\n",
    "#         for item in self:\n",
    "#             if not item in other:\n",
    "#                 return False\n",
    "#         return True\n",
    "    \n",
    "def main():\n",
    "    lyst = []\n",
    "    for i in range(100):\n",
    "        lyst.append(random.randint(0, 100))\n",
    "    a = ArraySortedBag(lyst)\n",
    "    print('a: ', lyst, '\\n')\n",
    "    random.shuffle(lyst)\n",
    "    b = ArraySortedBag(lyst)\n",
    "    print('b: ', lyst)\n",
    "    print(a == b)\n",
    "    \n",
    "    \n",
    "if __name__ == '__main__':\n",
    "    main()"
   ]
  }
 ],
 "metadata": {
  "kernelspec": {
   "display_name": "Python 3",
   "language": "python",
   "name": "python3"
  },
  "language_info": {
   "codemirror_mode": {
    "name": "ipython",
    "version": 3
   },
   "file_extension": ".py",
   "mimetype": "text/x-python",
   "name": "python",
   "nbconvert_exporter": "python",
   "pygments_lexer": "ipython3",
   "version": "3.6.5"
  },
  "latex_envs": {
   "LaTeX_envs_menu_present": true,
   "autoclose": false,
   "autocomplete": true,
   "bibliofile": "biblio.bib",
   "cite_by": "apalike",
   "current_citInitial": 1,
   "eqLabelWithNumbers": true,
   "eqNumInitial": 1,
   "hotkeys": {
    "equation": "Ctrl-E",
    "itemize": "Ctrl-I"
   },
   "labels_anchors": false,
   "latex_user_defs": false,
   "report_style_numbering": false,
   "user_envs_cfg": false
  },
  "toc": {
   "base_numbering": 1,
   "nav_menu": {},
   "number_sections": true,
   "sideBar": true,
   "skip_h1_title": false,
   "title_cell": "Table of Contents",
   "title_sidebar": "Contents",
   "toc_cell": false,
   "toc_position": {},
   "toc_section_display": true,
   "toc_window_display": false
  }
 },
 "nbformat": 4,
 "nbformat_minor": 2
}
