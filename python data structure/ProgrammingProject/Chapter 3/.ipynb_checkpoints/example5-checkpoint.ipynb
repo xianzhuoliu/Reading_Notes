{
 "cells": [
  {
   "cell_type": "code",
   "execution_count": 5,
   "metadata": {},
   "outputs": [
    {
     "name": "stdout",
     "output_type": "stream",
     "text": [
      "[4, 1, 1, 3, 4, 2, 6, 10, 1, 9]\n",
      "the 0 round:  [1, 4, 1, 3, 4, 2, 6, 10, 1, 9]\n",
      "the 1 round:  [1, 1, 4, 3, 4, 2, 6, 10, 1, 9]\n",
      "the 2 round:  [1, 1, 1, 3, 4, 2, 6, 10, 4, 9]\n",
      "the 3 round:  [1, 1, 1, 2, 4, 3, 6, 10, 4, 9]\n",
      "the 4 round:  [1, 1, 1, 2, 3, 4, 6, 10, 4, 9]\n",
      "the 6 round:  [1, 1, 1, 2, 3, 4, 4, 10, 6, 9]\n",
      "the 7 round:  [1, 1, 1, 2, 3, 4, 4, 6, 10, 9]\n",
      "the 8 round:  [1, 1, 1, 2, 3, 4, 4, 6, 9, 10]\n"
     ]
    },
    {
     "data": {
      "text/plain": [
       "[10, 9, 6, 4, 4, 3, 2, 1, 1, 1]"
      ]
     },
     "execution_count": 5,
     "metadata": {},
     "output_type": "execute_result"
    }
   ],
   "source": [
    "def swap(lyst, i, j):\n",
    "    temp = lyst[i]\n",
    "    lyst[i] = lyst[j]\n",
    "    lyst[j] = temp\n",
    "\n",
    "def selectionSort(lyst, reverse = False):\n",
    "        i = 0\n",
    "        while i < len(lyst) - 1:\n",
    "            minIndex = i\n",
    "            j = i + 1\n",
    "            while j < len(lyst):\n",
    "                if lyst[j] < lyst[minIndex]:\n",
    "                    minIndex = j\n",
    "                j += 1\n",
    "            if minIndex != i:\n",
    "                swap(lyst, minIndex, i)\n",
    "                print('the %s round: '% i, lyst)\n",
    "            i += 1\n",
    "        if reverse == False:\n",
    "            return lyst\n",
    "        else: \n",
    "            for i in range(len(lyst)//2):\n",
    "                swap(lyst, i, -(i+1))\n",
    "            return lyst\n",
    "        \n",
    "lyst = []\n",
    "import random\n",
    "for i in range(10):\n",
    "    lyst.append(random.randint(0, 10))\n",
    "print(lyst)\n",
    "selectionSort(lyst, reverse = True)"
   ]
  },
  {
   "cell_type": "code",
   "execution_count": 14,
   "metadata": {},
   "outputs": [
    {
     "name": "stdout",
     "output_type": "stream",
     "text": [
      "[9, 8, 2, 1, 0, 8, 10, 5, 9, 3]\n",
      "the 0 round:  [10, 8, 2, 1, 0, 8, 9, 5, 9, 3]\n",
      "the 1 round:  [10, 9, 2, 1, 0, 8, 8, 5, 9, 3]\n",
      "the 2 round:  [10, 9, 9, 1, 0, 8, 8, 5, 2, 3]\n",
      "the 3 round:  [10, 9, 9, 8, 0, 1, 8, 5, 2, 3]\n",
      "the 4 round:  [10, 9, 9, 8, 8, 1, 0, 5, 2, 3]\n",
      "the 5 round:  [10, 9, 9, 8, 8, 5, 0, 1, 2, 3]\n",
      "the 6 round:  [10, 9, 9, 8, 8, 5, 3, 1, 2, 0]\n",
      "the 7 round:  [10, 9, 9, 8, 8, 5, 3, 2, 1, 0]\n",
      "[10, 9, 9, 8, 8, 5, 3, 2, 1, 0]\n"
     ]
    }
   ],
   "source": [
    "def selectionSort_(lyst, reverse = False):\n",
    "        i = 0\n",
    "        while i < len(lyst) - 1:\n",
    "            minIndex = i\n",
    "            j = i + 1\n",
    "            while j < len(lyst):\n",
    "                if reverse == False:\n",
    "                    if lyst[j] < lyst[minIndex]:\n",
    "                        minIndex = j\n",
    "                else:\n",
    "                    if lyst[j] > lyst[minIndex]:\n",
    "                        minIndex = j\n",
    "                j += 1\n",
    "            if minIndex != i:\n",
    "                swap(lyst, minIndex, i)\n",
    "                print('the %s round: '% i, lyst)\n",
    "            i += 1\n",
    "        \n",
    "            \n",
    "lyst = []\n",
    "import random\n",
    "for i in range(10):\n",
    "    lyst.append(random.randint(0, 10))\n",
    "print(lyst)\n",
    "selectionSort_(lyst, reverse = True)\n",
    "print(lyst)"
   ]
  }
 ],
 "metadata": {
  "kernelspec": {
   "display_name": "Python 3",
   "language": "python",
   "name": "python3"
  },
  "language_info": {
   "codemirror_mode": {
    "name": "ipython",
    "version": 3
   },
   "file_extension": ".py",
   "mimetype": "text/x-python",
   "name": "python",
   "nbconvert_exporter": "python",
   "pygments_lexer": "ipython3",
   "version": "3.6.5"
  },
  "latex_envs": {
   "LaTeX_envs_menu_present": true,
   "autoclose": false,
   "autocomplete": true,
   "bibliofile": "biblio.bib",
   "cite_by": "apalike",
   "current_citInitial": 1,
   "eqLabelWithNumbers": true,
   "eqNumInitial": 1,
   "hotkeys": {
    "equation": "Ctrl-E",
    "itemize": "Ctrl-I"
   },
   "labels_anchors": false,
   "latex_user_defs": false,
   "report_style_numbering": false,
   "user_envs_cfg": false
  },
  "toc": {
   "base_numbering": 1,
   "nav_menu": {},
   "number_sections": true,
   "sideBar": true,
   "skip_h1_title": false,
   "title_cell": "Table of Contents",
   "title_sidebar": "Contents",
   "toc_cell": false,
   "toc_position": {},
   "toc_section_display": true,
   "toc_window_display": false
  }
 },
 "nbformat": 4,
 "nbformat_minor": 2
}
