{
 "cells": [
  {
   "cell_type": "code",
   "execution_count": 223,
   "metadata": {},
   "outputs": [],
   "source": [
    "class Array(object):\n",
    "    \"\"\"Represents an array.\"\"\"\n",
    "\n",
    "    def __init__(self, capacity, fillValue = None):\n",
    "        \"\"\"Capacity is the static size of the array.\n",
    "        fillValue is placed at each position.\"\"\"\n",
    "        self._items = list()\n",
    "        self._capacity = capacity\n",
    "        self._fillValue = fillValue\n",
    "        for count in range(capacity):\n",
    "            self._items.append(fillValue)\n",
    "        if fillValue is not None:\n",
    "            self._logicalSize = capacity\n",
    "        else:\n",
    "            self._logicalSize = 0\n",
    "\n",
    "                \n",
    "    def size(self):\n",
    "        return self._logicalSize\n",
    "\n",
    "    def __len__(self):\n",
    "        \"\"\"-> The capacity of the array.\"\"\"\n",
    "        return len(self._items)\n",
    "\n",
    "    def __str__(self):\n",
    "        \"\"\"-> The string representation of the array.\"\"\"\n",
    "        return str(self._items)\n",
    "\n",
    "    def __iter__(self):\n",
    "        \"\"\"Supports iteration over a view of an array.\"\"\"\n",
    "        return iter(self._items)\n",
    "\n",
    "    def __getitem__(self, index):\n",
    "        \"\"\"Subscript operator for access at index.\"\"\"\n",
    "        if index < 0 or index >= self.size():\n",
    "            raise KeyError('index out of bound')\n",
    "        return self._items[index]\n",
    "\n",
    "    def __setitem__(self, index, newItem):\n",
    "        \"\"\"Subscript operator for replacement at index.\"\"\"\n",
    "        if index < 0 or index >= len(self):\n",
    "            raise KeyError('index out of bound')\n",
    "        if self._items[index] == None and newItem != None:\n",
    "            self._logicalSize += 1\n",
    "        if self._items[index] != None and newItem == None:\n",
    "            self._logicalSize -= 1\n",
    "        self._items[index] = newItem\n",
    "        \n",
    "        \n",
    "    def grow(self, n):  # n是增加的单位\n",
    "        \"\"\"increase the physical size of array by n units\"\"\"\n",
    "        temp = Array(len(self) + n)\n",
    "#         print(temp)\n",
    "        for j in range(self.size()):\n",
    "            temp[j] = self._items[j]\n",
    "#         self = temp                           # 那笔内存依然放在那里，你只是改变了self的指向而已\n",
    "#         print('this is self:', self)\n",
    "        self._items = temp._items               #这样才能真正改变内存空间\n",
    "        self._logicalSize = temp.size()\n",
    "        \n",
    "    \n",
    "    def shrink(self, n):\n",
    "        if len(self) - n < self._capacity:\n",
    "            raise Exception('out of bound')\n",
    "        else:\n",
    "            temp = Array(len(self) - n)\n",
    "            for i in range(self.size()):\n",
    "                temp[i] = self._items[i]\n",
    "            self._items = temp._items\n",
    "            self._logicalSize = temp.size()\n",
    "        \n",
    "    def insert(self, targetIndex, newItem):\n",
    "        if targetIndex < 0:\n",
    "            raise Exception('out of bound')\n",
    "        if targetIndex > self.size():\n",
    "            self[self._logical] = newItem\n",
    "        for i in range(self.size(), targetIndex, -1):\n",
    "            self[i] = self[i - 1]\n",
    "        self[targetIndex] = newItem\n",
    "        \n",
    "    def pop(self, targetIndex):\n",
    "        if targetIndex < 0 or targetIndex >= self.size():\n",
    "            raise Exception('out of bound')\n",
    "        targetItem = self[targetIndex]\n",
    "        for i in range(targetIndex, self.size() - 1):\n",
    "            self[i] = self[i + 1]\n",
    "        self[self.size() - 1] = self._fillValue\n",
    "        return targetItem\n",
    "    \n",
    "    def __eq__(self, other):\n",
    "        if not isinstance(other, Array):\n",
    "            return False\n",
    "        elif other.size() != self.size():\n",
    "            return False\n",
    "        elif other._items == self._items:\n",
    "            return True\n",
    "        \n",
    "    def info(self):\n",
    "        print(self)\n",
    "        print('length: ', len(self))\n",
    "        print('logicalsize: ', self.size())"
   ]
  },
  {
   "cell_type": "code",
   "execution_count": 224,
   "metadata": {},
   "outputs": [
    {
     "name": "stdout",
     "output_type": "stream",
     "text": [
      "[None, None, None, None, None, None]\n",
      "length:  6\n",
      "logicalsize:  0\n",
      "[0, 1, 2, 3, 4, 5]\n",
      "length:  6\n",
      "logicalsize:  6\n",
      "[0, 1, 2, 3, 4, 5, None, None, None]\n",
      "length:  9\n",
      "logicalsize:  6\n",
      "[0, 1, 2, 3, 4, 5, None]\n",
      "length:  7\n",
      "logicalsize:  6\n"
     ]
    }
   ],
   "source": [
    "a = Array(6)\n",
    "\n",
    "a.info()\n",
    "\n",
    "for i in range(6):\n",
    "    a[i] = i\n",
    "    \n",
    "a.info()\n",
    "\n",
    "a.grow(3)\n",
    "a.info()\n",
    "\n",
    "a.shrink(2)\n",
    "a.info()\n",
    "\n",
    "# a.insert(2, 5)\n",
    "# a.info()\n",
    "\n",
    "# targetItem = a.pop(2)\n",
    "# print(targetItem)\n",
    "# a.info()\n",
    "\n",
    "# b = Array(6)\n",
    "# for i in range(6):\n",
    "#     b[i] = i\n",
    "# b.info()\n",
    "# a == b"
   ]
  },
  {
   "cell_type": "code",
   "execution_count": 219,
   "metadata": {},
   "outputs": [
    {
     "data": {
      "text/plain": [
       "False"
      ]
     },
     "execution_count": 219,
     "metadata": {},
     "output_type": "execute_result"
    }
   ],
   "source": [
    "a = [1, 2]\n",
    "b = [2, 1]\n",
    "# isinstance(a, list)\n",
    "a == b"
   ]
  },
  {
   "cell_type": "code",
   "execution_count": 211,
   "metadata": {},
   "outputs": [
    {
     "name": "stdout",
     "output_type": "stream",
     "text": [
      "Help on built-in function isinstance in module builtins:\n",
      "\n",
      "isinstance(obj, class_or_tuple, /)\n",
      "    Return whether an object is an instance of a class or of a subclass thereof.\n",
      "    \n",
      "    A tuple, as in ``isinstance(x, (A, B, ...))``, may be given as the target to\n",
      "    check against. This is equivalent to ``isinstance(x, A) or isinstance(x, B)\n",
      "    or ...`` etc.\n",
      "\n"
     ]
    }
   ],
   "source": [
    "help(isinstance)"
   ]
  }
 ],
 "metadata": {
  "kernelspec": {
   "display_name": "Python 3",
   "language": "python",
   "name": "python3"
  },
  "language_info": {
   "codemirror_mode": {
    "name": "ipython",
    "version": 3
   },
   "file_extension": ".py",
   "mimetype": "text/x-python",
   "name": "python",
   "nbconvert_exporter": "python",
   "pygments_lexer": "ipython3",
   "version": "3.6.5"
  },
  "latex_envs": {
   "LaTeX_envs_menu_present": true,
   "autoclose": false,
   "autocomplete": true,
   "bibliofile": "biblio.bib",
   "cite_by": "apalike",
   "current_citInitial": 1,
   "eqLabelWithNumbers": true,
   "eqNumInitial": 1,
   "hotkeys": {
    "equation": "Ctrl-E",
    "itemize": "Ctrl-I"
   },
   "labels_anchors": false,
   "latex_user_defs": false,
   "report_style_numbering": false,
   "user_envs_cfg": false
  },
  "toc": {
   "base_numbering": 1,
   "nav_menu": {},
   "number_sections": true,
   "sideBar": true,
   "skip_h1_title": false,
   "title_cell": "Table of Contents",
   "title_sidebar": "Contents",
   "toc_cell": false,
   "toc_position": {},
   "toc_section_display": true,
   "toc_window_display": false
  }
 },
 "nbformat": 4,
 "nbformat_minor": 2
}
