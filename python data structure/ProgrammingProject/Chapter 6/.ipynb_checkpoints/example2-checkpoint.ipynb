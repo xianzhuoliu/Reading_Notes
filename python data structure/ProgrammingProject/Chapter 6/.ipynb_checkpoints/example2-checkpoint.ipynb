{
 "cells": [
  {
   "cell_type": "code",
   "execution_count": 10,
   "metadata": {},
   "outputs": [],
   "source": [
    "import sys\n",
    "sys.path.append('..\\..\\ExamplePrograms\\Ch_5_Student_Files')\n",
    "sys.path.append('..\\..\\ExamplePrograms\\Ch_6_Student_Files\\Abstract Bag')"
   ]
  },
  {
   "cell_type": "code",
   "execution_count": 13,
   "metadata": {},
   "outputs": [
    {
     "name": "stdout",
     "output_type": "stream",
     "text": [
      "len of a: 100\n",
      "str of a: {85, 89, 1, 33, 9, 49, 2, 24, 58, 24, 70, 53, 48, 24, 2, 78, 18, 92, 98, 0, 21, 44, 95, 10, 10, 63, 6, 59, 84, 24, 25, 32, 22, 16, 20, 74, 58, 28, 66, 22, 15, 3, 62, 17, 76, 53, 13, 25, 69, 79, 6, 5, 30, 17, 77, 51, 21, 39, 28, 32, 60, 41, 93, 64, 90, 25, 36, 80, 18, 10, 64, 78, 57, 85, 46, 85, 69, 36, 20, 11, 70, 36, 72, 69, 57, 90, 44, 71, 43, 28, 80, 85, 80, 16, 16, 86, 47, 70, 37, 46}\n",
      "isn't empyt False\n"
     ]
    }
   ],
   "source": [
    "from node import Node\n",
    "from abstractbag import AbstractBag\n",
    "import random\n",
    "\n",
    "class LinkedBag(AbstractBag):\n",
    "    \"\"\"A link-based bag implementation.\"\"\"\n",
    "\n",
    "    # Constructor\n",
    "    def __init__(self, sourceCollection = None):\n",
    "        \"\"\"Sets the initial state of self, which includes the\n",
    "        contents of sourceCollection, if it's present.\"\"\"\n",
    "        self._items = None\n",
    "        self._size = 0\n",
    "        if sourceCollection:\n",
    "            for item in sourceCollection:\n",
    "                self.add(item)\n",
    "\n",
    "    def __iter__(self):\n",
    "        \"\"\"Supports iteration over a view of self.\"\"\"\n",
    "        cursor = self._items\n",
    "        while not cursor is None:\n",
    "            yield cursor.data\n",
    "            cursor = cursor.next\n",
    "\n",
    "    # Mutator methods\n",
    "    def clear(self):\n",
    "        \"\"\"Makes self become empty.\"\"\"\n",
    "        # Exercise\n",
    "        pass\n",
    "\n",
    "    def add(self, item):\n",
    "        \"\"\"Adds item to self.\"\"\"\n",
    "        self._items = Node(item, self._items)\n",
    "        self._size += 1\n",
    "\n",
    "    def remove(self, item):\n",
    "        \"\"\"Precondition: item is in self.\n",
    "        Raises: KeyError if item in not in self.\n",
    "        Postcondition: item is removed from self.\"\"\"\n",
    "        # Check precondition and raise if necessary\n",
    "        if not item in self:\n",
    "            raise KeyError(str(item) + \" not in bag\")\n",
    "        # Search for the node containing the target item\n",
    "        # probe will point to the target node, and trailer\n",
    "        # will point to the one before it, if it exists\n",
    "        probe = self._items\n",
    "        trailer = None\n",
    "        for targetItem in self:\n",
    "            if targetItem == item:\n",
    "                break\n",
    "            trailer = probe\n",
    "            probe = probe.next\n",
    "        # Unhook the node to be deleted, either the first one or one\n",
    "        # thereafter\n",
    "        if probe == self._items:\n",
    "            self._items = self._items.next\n",
    "        else:\n",
    "            trailer.next = probe.next\n",
    "        # Decrement logical size\n",
    "        self._size -= 1\n",
    "        \n",
    "def main():\n",
    "    lyst = []\n",
    "    for i in range(100):\n",
    "        lyst.append(random.randint(0, 100))\n",
    "    a = LinkedBag(lyst)\n",
    "    print('len of a:', len(a))\n",
    "    print('str of a:', a)\n",
    "    print('isn\\'t empyt', a.isEmpty())\n",
    "    \n",
    "if __name__ == '__main__':\n",
    "    main()"
   ]
  }
 ],
 "metadata": {
  "kernelspec": {
   "display_name": "Python 3",
   "language": "python",
   "name": "python3"
  },
  "language_info": {
   "codemirror_mode": {
    "name": "ipython",
    "version": 3
   },
   "file_extension": ".py",
   "mimetype": "text/x-python",
   "name": "python",
   "nbconvert_exporter": "python",
   "pygments_lexer": "ipython3",
   "version": "3.6.5"
  },
  "latex_envs": {
   "LaTeX_envs_menu_present": true,
   "autoclose": false,
   "autocomplete": true,
   "bibliofile": "biblio.bib",
   "cite_by": "apalike",
   "current_citInitial": 1,
   "eqLabelWithNumbers": true,
   "eqNumInitial": 1,
   "hotkeys": {
    "equation": "Ctrl-E",
    "itemize": "Ctrl-I"
   },
   "labels_anchors": false,
   "latex_user_defs": false,
   "report_style_numbering": false,
   "user_envs_cfg": false
  },
  "toc": {
   "base_numbering": 1,
   "nav_menu": {},
   "number_sections": true,
   "sideBar": true,
   "skip_h1_title": false,
   "title_cell": "Table of Contents",
   "title_sidebar": "Contents",
   "toc_cell": false,
   "toc_position": {},
   "toc_section_display": true,
   "toc_window_display": false
  }
 },
 "nbformat": 4,
 "nbformat_minor": 2
}
