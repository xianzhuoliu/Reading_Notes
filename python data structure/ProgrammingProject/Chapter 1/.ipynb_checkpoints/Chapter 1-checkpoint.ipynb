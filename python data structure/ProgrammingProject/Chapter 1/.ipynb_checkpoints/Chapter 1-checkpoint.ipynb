{
 "cells": [
  {
   "cell_type": "code",
   "execution_count": 4,
   "metadata": {},
   "outputs": [
    {
     "name": "stdout",
     "output_type": "stream",
     "text": [
      "please input the radius2\n"
     ]
    },
    {
     "data": {
      "text/plain": [
       "(4.0, 12.566370614359172, 201.06192982974676, 33.510321638291124)"
      ]
     },
     "execution_count": 4,
     "metadata": {},
     "output_type": "execute_result"
    }
   ],
   "source": [
    "\"\"\" 1. Write a program that takes the radius of a sphere (a floating-point number) as\n",
    "input and outputs the sphere’s diameter, circumference, surface area, and volume\"\"\"\n",
    "from math import pi\n",
    "\n",
    "def circle():\n",
    "    r = float(input(\"please input the radius\"))\n",
    "    d = 2 * r\n",
    "    circum = 2 * pi * r\n",
    "    surface = 4 * pi * d ** 2\n",
    "    volume = pi * r ** 3 *4 / 3\n",
    "    return d, circum, surface, volume\n",
    "circle()"
   ]
  },
  {
   "cell_type": "code",
   "execution_count": 6,
   "metadata": {},
   "outputs": [
    {
     "name": "stdout",
     "output_type": "stream",
     "text": [
      "please input hourly wage20\n",
      "please input total regular hours40\n",
      "please input overtime hour10\n"
     ]
    },
    {
     "data": {
      "text/plain": [
       "1100.0"
      ]
     },
     "execution_count": 6,
     "metadata": {},
     "output_type": "execute_result"
    }
   ],
   "source": [
    "\"\"\"2. An employee’s total weekly pay equals the hourly wage multiplied by the total\n",
    "number of regular hours plus any overtime pay. Overtime pay equals the total\n",
    "overtime hours multiplied by 1.5 times the hourly wage. Write a program that\n",
    "takes as inputs the hourly wage, total regular hours, and total overtime hours and\n",
    "displays an employee’s total weekly pay\"\"\"\n",
    "def weeklyPay():\n",
    "    hourWage = float(input(\"please input hourly wage\"))\n",
    "    regularHour = float(input(\"please input total regular hours\"))\n",
    "    overtimeHour = float(input(\"please input overtime hour\"))\n",
    "    weekSalary = hourWage * regularHour + hourWage * 1.5 * overtimeHour\n",
    "    return weekSalary\n",
    "weeklyPay()"
   ]
  },
  {
   "cell_type": "code",
   "execution_count": 11,
   "metadata": {},
   "outputs": [
    {
     "name": "stdout",
     "output_type": "stream",
     "text": [
      "please input height and bouncing times10 1\n"
     ]
    },
    {
     "data": {
      "text/plain": [
       "16.0"
      ]
     },
     "execution_count": 11,
     "metadata": {},
     "output_type": "execute_result"
    }
   ],
   "source": [
    "\"\"\"3. A standard science experiment is to drop a ball and see how high it bounces.\n",
    "Once the “bounciness” of the ball has been determined, the ratio gives a\n",
    "bounciness index. For example, if a ball dropped from a height of 10 feet bounces 6\n",
    "feet high, the index is 0.6 and the total distance traveled by the ball is 16 feet after\n",
    "one bounce. If the ball were to continue bouncing, the distance after two bounces\n",
    "would be 10 ft + 6 ft + 6 ft + 3.6 ft = 25.6 ft. Note that distance traveled for each\n",
    "successive bounce is the distance to the floor plus 0.6 of that distance as the ball\n",
    "comes back up. Write a program that lets the user enter the initial height of the\n",
    "ball and the number of times the ball is allowed to continue bouncing. Output\n",
    "should be the total distance traveled by the ball.\"\"\"\n",
    "def totalDistance(h, n):\n",
    "    sum = 0\n",
    "    for i in range(n - 1):\n",
    "        sum = sum + 0.6 ** (i + 1)\n",
    "    totalDistance = h + 2 * h * sum + h * 0.6 ** n\n",
    "    return totalDistance\n",
    "h, n = map(int, input('please input height and bouncing times').split(' '))b\n",
    "totalDistance(h, n)"
   ]
  },
  {
   "cell_type": "code",
   "execution_count": 10,
   "metadata": {},
   "outputs": [
    {
     "name": "stdout",
     "output_type": "stream",
     "text": [
      "Please enter height and times:10 1\n",
      "The distance of ball's movement is: 16.0\n"
     ]
    }
   ],
   "source": [
    "\"\"\"3. 标准答案\"\"\"\n",
    "def distance(height, times, index=0.6):\n",
    "    sum_ = 0\n",
    "    for i in range(times):\n",
    "        sum_ += height + height * index\n",
    "        height = height * index\n",
    "    return sum_\n",
    "\n",
    "\n",
    "def main():\n",
    "    height, times = map(int, input(\"Please enter height and times:\").split(' '))\n",
    "    print(\"The distance of ball's movement is:\", distance(height, times))\n",
    "\n",
    "\n",
    "if __name__ == '__main__':\n",
    "    main()"
   ]
  },
  {
   "cell_type": "code",
   "execution_count": 19,
   "metadata": {},
   "outputs": [
    {
     "name": "stdout",
     "output_type": "stream",
     "text": [
      "please input iteration times: 100000\n"
     ]
    },
    {
     "data": {
      "text/plain": [
       "3.1415826535897198"
      ]
     },
     "execution_count": 19,
     "metadata": {},
     "output_type": "execute_result"
    }
   ],
   "source": [
    "\"\"\"4. The German mathematician Gottfried Leibniz developed the following method\n",
    "to approximate the value of π:\n",
    "π/4 = 1 – 1/3 + 1/5 – 1/7 + …\n",
    "Write a program that allows the user to specify the number of iterations used in\n",
    "this approximation and displays the resulting value.\"\"\"\n",
    "def approximate(n):\n",
    "    pi_appro = 0.00\n",
    "    num = 1\n",
    "    for i in range(n):\n",
    "        pi_appro += (-1)**i * (1/num)\n",
    "        num += 2\n",
    "    return 4 * pi_appro\n",
    "n = int(input('please input iteration times: '))\n",
    "approximate(n)\n",
    "        "
   ]
  },
  {
   "cell_type": "code",
   "execution_count": 10,
   "metadata": {},
   "outputs": [
    {
     "name": "stdout",
     "output_type": "stream",
     "text": [
      "Jane 100 40\n",
      "Bob 100 50\n",
      "\n"
     ]
    },
    {
     "data": {
      "text/plain": [
       "<_io.TextIOWrapper name='example6.txt' mode='w' encoding='cp936'>"
      ]
     },
     "execution_count": 10,
     "metadata": {},
     "output_type": "execute_result"
    }
   ],
   "source": [
    "\"\"\"6. The Payroll Department keeps a list of employee information for each pay period\n",
    "in a text file. The format of each line of the file is\n",
    "<last name> <hourly wage> <hours worked>\n",
    "Write a program that inputs a filename from the user and prints a report to the\n",
    "terminal of the wages paid to the employees for the given period. The report\n",
    "should be in tabular format with the appropriate header. Each line should contain\n",
    "an employee’s name, the hours worked, and the wages paid for that period.\"\"\"\n",
    "import sys\n",
    "\n",
    "def buildTxt(txt_name):\n",
    "    f = open(txt_name, 'w')\n",
    "    f.write(\"LastName HourlyWage HoursWorked\\n\")\n",
    "    sentinel = ''\n",
    "    lines = []\n",
    "    for line in iter(input, sentinel):\n",
    "        lines.append(line)\n",
    "    for i in lines:\n",
    "        f.write(i+'\\n')\n",
    "    f.close()\n",
    "    return f\n",
    "\n",
    "buildTxt('example6.txt')"
   ]
  },
  {
   "cell_type": "code",
   "execution_count": null,
   "metadata": {},
   "outputs": [],
   "source": [
    "def readTxt(txt_name):\n",
    "    f = open(txt_name, 'r')\n",
    "    lines = f.readlines()\n",
    "    newLines = [lines[0]]\n",
    "    for line in lines[1:]:\n",
    "        words = []\n",
    "        words = line.split()\n",
    "        pay = int(words[1]) * int(words[2])\n",
    "        line = words.append(str(pay)+'\\n')\n",
    "        newLines.append(line)\n",
    "    return newLines\n",
    "print(readTxt('example6.txt'))"
   ]
  },
  {
   "cell_type": "code",
   "execution_count": null,
   "metadata": {},
   "outputs": [],
   "source": []
  }
 ],
 "metadata": {
  "kernelspec": {
   "display_name": "Python 3",
   "language": "python",
   "name": "python3"
  },
  "language_info": {
   "codemirror_mode": {
    "name": "ipython",
    "version": 3
   },
   "file_extension": ".py",
   "mimetype": "text/x-python",
   "name": "python",
   "nbconvert_exporter": "python",
   "pygments_lexer": "ipython3",
   "version": "3.6.5"
  },
  "toc": {
   "base_numbering": 1,
   "nav_menu": {},
   "number_sections": true,
   "sideBar": true,
   "skip_h1_title": false,
   "title_cell": "Table of Contents",
   "title_sidebar": "Contents",
   "toc_cell": false,
   "toc_position": {},
   "toc_section_display": true,
   "toc_window_display": false
  }
 },
 "nbformat": 4,
 "nbformat_minor": 2
}
