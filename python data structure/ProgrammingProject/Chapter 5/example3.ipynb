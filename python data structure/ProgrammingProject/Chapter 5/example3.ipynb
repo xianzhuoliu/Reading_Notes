{
 "cells": [
  {
   "cell_type": "code",
   "execution_count": 8,
   "metadata": {},
   "outputs": [],
   "source": [
    "import sys\n",
    "sys.path.append('..\\..\\ExamplePrograms\\Ch_5_Student_Files')\n",
    "sys.path.append('..\\..\\ExamplePrograms\\Ch_6_Student_Files')"
   ]
  },
  {
   "cell_type": "code",
   "execution_count": 11,
   "metadata": {},
   "outputs": [
    {
     "name": "stdout",
     "output_type": "stream",
     "text": [
      "{0, 1, 4, 7, 8, 8, 9, 9, 9, 10}\n"
     ]
    }
   ],
   "source": [
    "import random\n",
    "from arraybag import ArrayBag\n",
    "from arrays import Array\n",
    "\n",
    "class ArraySortedBag(ArrayBag):\n",
    "    def __init__(self, sourceCollection = None):\n",
    "        \"\"\"两种写法都可以，推荐直接调用ArrayBag的init，之后add也会被覆盖\"\"\"\n",
    "#         self._items = Array(ArrayBag.DEFAULT_CAPACITY)\n",
    "#         self._size = 0\n",
    "#         if sourceCollection:\n",
    "#             for item in sourceCollection:\n",
    "#                 self.add(item)\n",
    "        ArrayBag.__init__(self, sourceCollection)\n",
    "    \n",
    "    def add(self, item):\n",
    "        if len(self) == len(self._items):\n",
    "            temp = Array(2 * len(self))\n",
    "            for i in range(len(self)):\n",
    "                temp[i] = self[i]\n",
    "            self._items = temp\n",
    "        if self.isEmpty() or item >= self._items[len(self) - 1]:\n",
    "            ArrayBag.add(self, item)\n",
    "        else:\n",
    "            targetIndex = 0\n",
    "            while item > self._items[targetIndex]:\n",
    "                targetIndex += 1\n",
    "            for i in range(len(self), targetIndex, -1):\n",
    "                self._items[i] = self._items[i - 1]\n",
    "            self._items[targetIndex] = item\n",
    "            self._size += 1\n",
    "            \n",
    "    def __contains__():\n",
    "        left = 0\n",
    "        right = len(self) - 1\n",
    "        while left <= right:\n",
    "            midPoint = (left + rig)\n",
    "        \n",
    "def main():\n",
    "    lyst = []\n",
    "    for i in range(10):\n",
    "        lyst.append(random.randint(0, 10))\n",
    "    a = ArraySortedBag(lyst)\n",
    "    print(a)\n",
    "    \n",
    "if __name__ == '__main__':\n",
    "    main()"
   ]
  }
 ],
 "metadata": {
  "kernelspec": {
   "display_name": "Python 3",
   "language": "python",
   "name": "python3"
  },
  "language_info": {
   "codemirror_mode": {
    "name": "ipython",
    "version": 3
   },
   "file_extension": ".py",
   "mimetype": "text/x-python",
   "name": "python",
   "nbconvert_exporter": "python",
   "pygments_lexer": "ipython3",
   "version": "3.6.5"
  },
  "latex_envs": {
   "LaTeX_envs_menu_present": true,
   "autoclose": false,
   "autocomplete": true,
   "bibliofile": "biblio.bib",
   "cite_by": "apalike",
   "current_citInitial": 1,
   "eqLabelWithNumbers": true,
   "eqNumInitial": 1,
   "hotkeys": {
    "equation": "Ctrl-E",
    "itemize": "Ctrl-I"
   },
   "labels_anchors": false,
   "latex_user_defs": false,
   "report_style_numbering": false,
   "user_envs_cfg": false
  },
  "toc": {
   "base_numbering": 1,
   "nav_menu": {},
   "number_sections": true,
   "sideBar": true,
   "skip_h1_title": false,
   "title_cell": "Table of Contents",
   "title_sidebar": "Contents",
   "toc_cell": false,
   "toc_position": {},
   "toc_section_display": true,
   "toc_window_display": false
  }
 },
 "nbformat": 4,
 "nbformat_minor": 2
}
