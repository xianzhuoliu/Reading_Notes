{
 "cells": [
  {
   "cell_type": "code",
   "execution_count": 23,
   "metadata": {},
   "outputs": [
    {
     "name": "stdout",
     "output_type": "stream",
     "text": [
      "Problem size: 2000\n",
      "Elapsed time: 1.65\n",
      "Comparisons:  1002940\n",
      "Exchanges:    0\n",
      "\n",
      "[1, 2, 3, 5, 5, 6, 8, 9, 11, 12, 14, 15, 15, 16, 16, 16, 17, 17, 21, 23, 23, 24, 25, 26, 27, 29, 31, 32, 32, 33, 35, 35, 38, 38, 39, 40, 42, 44, 44, 45, 46, 47, 47, 48, 49, 49, 49, 50, 51, 51, 51, 52, 55, 55, 56, 56, 57, 58, 59, 60, 62, 63, 63, 64, 64, 65, 66, 66, 68, 68, 69, 71, 71, 72, 74, 76, 76, 78, 79, 80, 81, 82, 82, 84, 85, 85, 85, 85, 86, 88, 88, 90, 91, 92, 92, 92, 94, 96, 101, 101]\n"
     ]
    }
   ],
   "source": [
    "\"\"\"Modify the quicksort function so that it calls insertion sort to sort any sublist\n",
    "whose size is less than 50 items. Compare the performance of this version with\n",
    "that of the original one, using data sets of 50, 500, and 5,000 items. Then adjust the\n",
    "threshold for using the insertion sort to determine an optimal setting.\"\"\"\n",
    "\n",
    "from profiler import Profiler\n",
    "\n",
    "\n",
    "def swap(lyst, i, j, profiler):\n",
    "    profiler.exchange()\n",
    "    temp = lyst[i]\n",
    "    lyst[i] = lyst[j]\n",
    "    lyst[j] = temp\n",
    "\n",
    "def insertionSort(lyst, profiler):\n",
    "    i = 1\n",
    "    while i < len(lyst):\n",
    "        itemToInsert = lyst[i]   # 暂放在itemToInsert\n",
    "        j = i - 1\n",
    "        while j >= 0:\n",
    "            profiler.comparison()\n",
    "            if itemToInsert < lyst[j]:\n",
    "                lyst[j+1] = lyst[j]\n",
    "                j -= 1\n",
    "            else:\n",
    "                break\n",
    "        lyst[j+1] = itemToInsert\n",
    "        i += 1\n",
    "\n",
    "def quicksort(lyst, profiler):\n",
    "    quicksortHelper(lyst, 0, len(lyst) - 1, profiler)\n",
    "def quicksortHelper(lyst, left, right, profiler):\n",
    "    if left < right and left - right > 900:\n",
    "        pivotLocation = partition(lyst, left, right, profiler)\n",
    "        quicksortHelper(lyst, left, pivotLocation - 1, profiler)\n",
    "        quicksortHelper(lyst, pivotLocation + 1, right, profiler)\n",
    "    elif left < right and left - right < 900:\n",
    "        insertionSort(lyst, profiler)\n",
    "        \n",
    "        \n",
    "def partition(lyst, left, right, profiler):\n",
    "    # find the pivot and exchange it with the last item\n",
    "    middle = (left + right) // 2\n",
    "    pivot = lyst[middle]\n",
    "    lyst[middle] = lyst[right]\n",
    "    lyst[right] = pivot\n",
    "    # set boundary point to the first position \n",
    "    boundary = left\n",
    "    # move items less than pivot to the left\n",
    "    for index in range(left, right):\n",
    "        if lyst[index] < pivot:\n",
    "            profiler.comparison()\n",
    "            swap(lyst, index, boundary, profiler)\n",
    "            boundary += 1\n",
    "    # exchange the pivot item and the boundary item\n",
    "    swap (lyst, right, boundary, profiler)\n",
    "    return boundary\n",
    "\n",
    "import random\n",
    "\n",
    "p = Profiler()\n",
    "\n",
    "# lyst = []\n",
    "# size = 100\n",
    "# for count in range(size):\n",
    "#     lyst.append(random.randint(1, size + 1))\n",
    "# print(lyst)\n",
    "p.test(quicksort, size = 2000, comp = True,\n",
    "             exch = True, trace = False)\n",
    "print(lyst)"
   ]
  },
  {
   "cell_type": "code",
   "execution_count": 24,
   "metadata": {},
   "outputs": [
    {
     "name": "stdout",
     "output_type": "stream",
     "text": [
      "Problem size: 2000\n",
      "Elapsed time: 0.063\n",
      "Comparisons:  10331\n",
      "Exchanges:    11659\n",
      "\n",
      "[1, 2, 3, 5, 5, 6, 8, 9, 11, 12, 14, 15, 15, 16, 16, 16, 17, 17, 21, 23, 23, 24, 25, 26, 27, 29, 31, 32, 32, 33, 35, 35, 38, 38, 39, 40, 42, 44, 44, 45, 46, 47, 47, 48, 49, 49, 49, 50, 51, 51, 51, 52, 55, 55, 56, 56, 57, 58, 59, 60, 62, 63, 63, 64, 64, 65, 66, 66, 68, 68, 69, 71, 71, 72, 74, 76, 76, 78, 79, 80, 81, 82, 82, 84, 85, 85, 85, 85, 86, 88, 88, 90, 91, 92, 92, 92, 94, 96, 101, 101]\n"
     ]
    }
   ],
   "source": [
    "def quicksort(lyst, profiler):\n",
    "    quicksortHelper(lyst, 0, len(lyst) - 1, profiler)\n",
    "def quicksortHelper(lyst, left, right, profiler):\n",
    "    if left < right:\n",
    "        pivotLocation = partition(lyst, left, right, profiler)\n",
    "        quicksortHelper(lyst, left, pivotLocation - 1, profiler)\n",
    "        quicksortHelper(lyst, pivotLocation + 1, right, profiler)\n",
    "        \n",
    "def partition(lyst, left, right, profiler):\n",
    "    # find the pivot and exchange it with the last item\n",
    "    middle = (left + right) // 2\n",
    "    pivot = lyst[middle]\n",
    "    lyst[middle] = lyst[right]\n",
    "    lyst[right] = pivot\n",
    "    # set boundary point to the first position \n",
    "    boundary = left\n",
    "    # move items less than pivot to the left\n",
    "    for index in range(left, right):\n",
    "        if lyst[index] < pivot:\n",
    "            profiler.comparison()\n",
    "            swap(lyst, index, boundary, profiler)\n",
    "            boundary += 1\n",
    "    # exchange the pivot item and the boundary item\n",
    "    swap (lyst, right, boundary, profiler)\n",
    "    return boundary\n",
    "\n",
    "import random\n",
    "\n",
    "p = Profiler()\n",
    "\n",
    "# lyst = []\n",
    "# size = 100\n",
    "# for count in range(size):\n",
    "#     lyst.append(random.randint(1, size + 1))\n",
    "# print(lyst)\n",
    "p.test(quicksort, size = 2000, comp = True,\n",
    "             exch = True, trace = False)\n",
    "print(lyst)"
   ]
  },
  {
   "cell_type": "code",
   "execution_count": 25,
   "metadata": {},
   "outputs": [
    {
     "name": "stdout",
     "output_type": "stream",
     "text": [
      "Problem size: 2000\n",
      "Elapsed time: 1.835\n",
      "Comparisons:  1032823\n",
      "Exchanges:    0\n",
      "\n",
      "[1, 2, 3, 5, 5, 6, 8, 9, 11, 12, 14, 15, 15, 16, 16, 16, 17, 17, 21, 23, 23, 24, 25, 26, 27, 29, 31, 32, 32, 33, 35, 35, 38, 38, 39, 40, 42, 44, 44, 45, 46, 47, 47, 48, 49, 49, 49, 50, 51, 51, 51, 52, 55, 55, 56, 56, 57, 58, 59, 60, 62, 63, 63, 64, 64, 65, 66, 66, 68, 68, 69, 71, 71, 72, 74, 76, 76, 78, 79, 80, 81, 82, 82, 84, 85, 85, 85, 85, 86, 88, 88, 90, 91, 92, 92, 92, 94, 96, 101, 101]\n"
     ]
    }
   ],
   "source": [
    "p.test(insertionSort, size = 2000, comp = True,\n",
    "             exch = True, trace = False)\n",
    "print(lyst)"
   ]
  }
 ],
 "metadata": {
  "kernelspec": {
   "display_name": "Python 3",
   "language": "python",
   "name": "python3"
  },
  "language_info": {
   "codemirror_mode": {
    "name": "ipython",
    "version": 3
   },
   "file_extension": ".py",
   "mimetype": "text/x-python",
   "name": "python",
   "nbconvert_exporter": "python",
   "pygments_lexer": "ipython3",
   "version": "3.6.5"
  },
  "latex_envs": {
   "LaTeX_envs_menu_present": true,
   "autoclose": false,
   "autocomplete": true,
   "bibliofile": "biblio.bib",
   "cite_by": "apalike",
   "current_citInitial": 1,
   "eqLabelWithNumbers": true,
   "eqNumInitial": 1,
   "hotkeys": {
    "equation": "Ctrl-E",
    "itemize": "Ctrl-I"
   },
   "labels_anchors": false,
   "latex_user_defs": false,
   "report_style_numbering": false,
   "user_envs_cfg": false
  },
  "toc": {
   "base_numbering": 1,
   "nav_menu": {},
   "number_sections": true,
   "sideBar": true,
   "skip_h1_title": false,
   "title_cell": "Table of Contents",
   "title_sidebar": "Contents",
   "toc_cell": false,
   "toc_position": {},
   "toc_section_display": true,
   "toc_window_display": false
  }
 },
 "nbformat": 4,
 "nbformat_minor": 2
}
