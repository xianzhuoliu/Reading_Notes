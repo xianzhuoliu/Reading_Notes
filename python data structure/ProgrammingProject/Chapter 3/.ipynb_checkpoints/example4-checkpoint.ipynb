{
 "cells": [
  {
   "cell_type": "code",
   "execution_count": 2,
   "metadata": {},
   "outputs": [
    {
     "data": {
      "text/plain": [
       "4"
      ]
     },
     "execution_count": 2,
     "metadata": {},
     "output_type": "execute_result"
    }
   ],
   "source": [
    "\"\"\"4. An alternative strategy for the expo function uses the following recursive\n",
    "definition:\n",
    "expo(number, exponent)\n",
    "= 1, when exponent = 0\n",
    "= number\n",
    "?\n",
    "expo(number, exponent – 1), when exponent is odd\n",
    "= (expo(number, exponent / 2)) 2 , when exponent is even\n",
    "Define a recursive function expo that uses this strategy, and state its\n",
    "computational complexity using big-O notation.\"\"\"\n",
    "\n",
    "\"\"\"复杂度O(n)\"\"\"\n",
    "\n",
    "def expo(number, exponent):\n",
    "    if exponent == 0:\n",
    "        return 1\n",
    "    if exponent % 2 == 1:\n",
    "        return number * expo(number, exponent - 1)\n",
    "    if exponent % 2 ==0:\n",
    "        return (expo(number, exponent / 2)) ** 2\n",
    "    \n",
    "expo(2, 2)"
   ]
  },
  {
   "cell_type": "code",
   "execution_count": null,
   "metadata": {},
   "outputs": [],
   "source": []
  }
 ],
 "metadata": {
  "kernelspec": {
   "display_name": "Python 3",
   "language": "python",
   "name": "python3"
  },
  "language_info": {
   "codemirror_mode": {
    "name": "ipython",
    "version": 3
   },
   "file_extension": ".py",
   "mimetype": "text/x-python",
   "name": "python",
   "nbconvert_exporter": "python",
   "pygments_lexer": "ipython3",
   "version": "3.6.5"
  },
  "latex_envs": {
   "LaTeX_envs_menu_present": true,
   "autoclose": false,
   "autocomplete": true,
   "bibliofile": "biblio.bib",
   "cite_by": "apalike",
   "current_citInitial": 1,
   "eqLabelWithNumbers": true,
   "eqNumInitial": 1,
   "hotkeys": {
    "equation": "Ctrl-E",
    "itemize": "Ctrl-I"
   },
   "labels_anchors": false,
   "latex_user_defs": false,
   "report_style_numbering": false,
   "user_envs_cfg": false
  },
  "toc": {
   "base_numbering": 1,
   "nav_menu": {},
   "number_sections": true,
   "sideBar": true,
   "skip_h1_title": false,
   "title_cell": "Table of Contents",
   "title_sidebar": "Contents",
   "toc_cell": false,
   "toc_position": {},
   "toc_section_display": true,
   "toc_window_display": false
  }
 },
 "nbformat": 4,
 "nbformat_minor": 2
}
